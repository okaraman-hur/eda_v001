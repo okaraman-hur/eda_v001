{
 "cells": [
  {
   "cell_type": "markdown",
   "id": "8cd16d0b",
   "metadata": {},
   "source": [
    "# <p style=\"background-color:green;font-family:newtimeroman;font-size:200%;color:white;text-align:center;border-radius:20px 20px;\"><b>Data Visualization Mini Poject</b></p>\n",
    "![](https://www.techproeducation.com/logo/headerlogo.svg)"
   ]
  },
  {
   "cell_type": "markdown",
   "id": "33f88234",
   "metadata": {},
   "source": [
    "# Proje Adı: Film İncelemesi\n",
    "\n",
    "## Projenin amacı:\n",
    "\n",
    "Bu proje ile mini bir EDA (Exploratory Data Analysis) ve farklı veri görselleştirme kütüphanaleri kullanarak film verilerini incelemek ve farklı filmler arasındaki ilişkileri keşfet amaçlanmıştır.\n",
    "\n",
    "## Veri Seti:\n",
    "\n",
    "Araştırmada 2006-2016 yılları arasındaki yapılmış filmlerin yer aldığı \"IMDB-Movie-Data\"  veri seti kullanılacaktır. Veri seti kısaca yıllara göre IMDB'de en yüksek puan alan filmleri içermektedir. Data setinde her film için aşağıdaki değişkenler yer almaktadır:\n",
    "\n",
    "    Rank\n",
    "    Title\n",
    "    Genre\n",
    "    Description\n",
    "    Director\n",
    "    Actors\n",
    "    Year\n",
    "    Runtime (Minutes)\n",
    "    Rating\n",
    "    Votes\n",
    "    Revenue (Millions)\n",
    "    Metascore\n",
    "    \n",
    "Bu kapsamda aşağıdaki görevleri yapmanız gerekmektedir.\n",
    "    \n",
    "## Görevler :\n",
    "\n",
    "### 1. Veri setini pandas kütüphanesi kullanarak yükleyin ve index sütununu filmin başlığı yapın.\n",
    "\n",
    "### 2. Veri setini tanıyın.\n",
    "\n",
    "### 3. Veri setindeki sütun isimlerini kullanışlı hale getirin (Örn: Kısaltıp küçük harf yapmak gibi)\n",
    "\n",
    "### 4. Missing Value tespit edilsin ve bu kapsamda aşağıdaki şekilde mücadele edilsin.\n",
    "    a.Missing value kontrolü hem pandas hemde missingno kütüphanelerini kullanarak yapın  \n",
    "    b.Yüksek missing value olan değişken içindeki veriler o değişkenin ortalama skoru ile\n",
    "    doldurulsun.\n",
    "    c. Düşük missing value olan değişkendeki gözlemler kaldırılsın.\n",
    "    d. Missing value kontrolü tekrar hem pandas hemde missingno kütüphanelerini kullanarak kontrol edin ve bu data setini yeni bir değişkene atayın.\n",
    "\n",
    "### 5. Temizlenmiş veri seti içinden en yüksek rating e sahip 250 filmi seçerek \"top250\" isminde bir data seti oluşturun ve bunu lokalinize bu isimle kaydedin. Bu yeni data setini tekrar pandas kütüphanesini kullanarak okuyun.\n",
    "\n",
    "### 6. Veri setinin boyutunu ve özelliklerini inceleyin.\n",
    "    a. Veri setinin boyutunu inceleme\n",
    "    b. Veri setinin ilk 5 gözlemine göz atma\n",
    "    c. Random olarak 10 gözleme bakma\n",
    "    d. Veri setinin sütunlarına göz atma\n",
    "    e. Veri setinin özet istatistiklerini görüntüleme\n",
    "\n",
    "### 7. Verilerin doğruluğunun ve eksik değerlerinin olup olmadığını kontrol edin.\n",
    "    a. 4.madde ile benzer şelkilde eksik değerlerinin olup olmadığını kontrol\n",
    "\n",
    "### 8. Verileri görselleştirme:\n",
    "\n",
    "    a. Matplotlib kütüphanesi kullanarak, yıllara göre filmlerin sayısını gösteren bir çizgi grafik çizin.\n",
    "    b. Seaborn kütüphanesi kullanarak, en çok film yapılan 10 türü bar grafiğiyle gösterin.\n",
    "    c. Matplotlib ve Plotly kütüphanesi kullanarak, film türlerine göre filmlerin sayısını gösteren iki ayrı pasta grafik çizin.\n",
    "    \n",
    "\n",
    "### 9. İlişkileri görselleştirme:\n",
    "\n",
    "    a. Seaborn kütüphanesi kullanarak, veri setindeki nümerik değişkenlerin korelasyonunu \n",
    "    gösteren bir heatmap çizin.\n",
    "    b. Seaborn ile oyunculardan birden fazla filmde rol alan oyuncuların rol aldıkları film \n",
    "    sayılarına göre ilk 20 oyucuyu görselleştir. Not: Bu soru için kullanılacak data setimiz 936 \n",
    "    satırlık data seti olacak.\n",
    "    c. Plotly kütüphanesi kullanarak, Popüler 250 Filmin rating puanlarına göre hasılatını buble chart ile gösterin .\n",
    "    \n",
    "    \n",
    "\n",
    "### 10. Sonuçları sunma:\n",
    "\n",
    "    Çizilen tüm görsellerle ilgili elde ettiğiniz bulguları buraya yazınız. \n"
   ]
  },
  {
   "cell_type": "markdown",
   "id": "cc4a7cb6",
   "metadata": {},
   "source": [
    "Veri seti, 1000 adet film hakkında bilgi içermektedir. Veri setinde toplamda 12 adet sütun bulunmaktadır. \n",
    "\n",
    "1. **Rank**: Film sıralaması.\n",
    "2. **Title**: Film başlığı.\n",
    "3. **Genre**: Film türü.\n",
    "4. **Description**: Film açıklaması.\n",
    "5. **Director**: Yönetmen ismi.\n",
    "6. **Actors**: Oyuncuların isimleri.\n",
    "7. **Year**: Yayın yılı.\n",
    "8. **Runtime (Minutes)**: Film süresi (dakika cinsinden).\n",
    "9. **Rating**: IMDb puanı.\n",
    "10. **Votes**: Oy sayısı.\n",
    "11. **Revenue (Millions)**: Hasılat (milyon dolar cinsinden).\n",
    "12. **Metascore**: Metascore puanı."
   ]
  },
  {
   "cell_type": "markdown",
   "id": "ac4e6773",
   "metadata": {},
   "source": [
    "## 1. Veri setini pandas kütüphanesi kullanarak yükleyin ve index sütununu filmin başlığı yapın."
   ]
  },
  {
   "cell_type": "code",
   "execution_count": 1,
   "id": "d6c9b8ba",
   "metadata": {
    "ExecuteTime": {
     "end_time": "2023-09-24T15:08:58.278817Z",
     "start_time": "2023-09-24T15:08:53.272431Z"
    }
   },
   "outputs": [],
   "source": [
    "import numpy as np\n",
    "import pandas as pd\n",
    "import matplotlib.pyplot as plt\n",
    "import seaborn as sns\n",
    "import plotly.express as px\n",
    "\n",
    "# Veri setini yükle\n",
    "df = pd.read_csv(\"IMDB-Movie-Data.csv\", index_col=\"Title\")"
   ]
  },
  {
   "cell_type": "markdown",
   "id": "b98832d1",
   "metadata": {},
   "source": [
    "## 2. Veri setinin ilk birkaç satırını görüntüleyin."
   ]
  },
  {
   "cell_type": "code",
   "execution_count": 2,
   "id": "63a6f536",
   "metadata": {},
   "outputs": [
    {
     "data": {
      "text/html": [
       "<div>\n",
       "<style scoped>\n",
       "    .dataframe tbody tr th:only-of-type {\n",
       "        vertical-align: middle;\n",
       "    }\n",
       "\n",
       "    .dataframe tbody tr th {\n",
       "        vertical-align: top;\n",
       "    }\n",
       "\n",
       "    .dataframe thead th {\n",
       "        text-align: right;\n",
       "    }\n",
       "</style>\n",
       "<table border=\"1\" class=\"dataframe\">\n",
       "  <thead>\n",
       "    <tr style=\"text-align: right;\">\n",
       "      <th></th>\n",
       "      <th>Rank</th>\n",
       "      <th>Genre</th>\n",
       "      <th>Description</th>\n",
       "      <th>Director</th>\n",
       "      <th>Actors</th>\n",
       "      <th>Year</th>\n",
       "      <th>Runtime (Minutes)</th>\n",
       "      <th>Rating</th>\n",
       "      <th>Votes</th>\n",
       "      <th>Revenue (Millions)</th>\n",
       "      <th>Metascore</th>\n",
       "    </tr>\n",
       "    <tr>\n",
       "      <th>Title</th>\n",
       "      <th></th>\n",
       "      <th></th>\n",
       "      <th></th>\n",
       "      <th></th>\n",
       "      <th></th>\n",
       "      <th></th>\n",
       "      <th></th>\n",
       "      <th></th>\n",
       "      <th></th>\n",
       "      <th></th>\n",
       "      <th></th>\n",
       "    </tr>\n",
       "  </thead>\n",
       "  <tbody>\n",
       "    <tr>\n",
       "      <th>Guardians of the Galaxy</th>\n",
       "      <td>1</td>\n",
       "      <td>Action,Adventure,Sci-Fi</td>\n",
       "      <td>A group of intergalactic criminals are forced ...</td>\n",
       "      <td>James Gunn</td>\n",
       "      <td>Chris Pratt, Vin Diesel, Bradley Cooper, Zoe S...</td>\n",
       "      <td>2014</td>\n",
       "      <td>121</td>\n",
       "      <td>8.1</td>\n",
       "      <td>757074</td>\n",
       "      <td>333.13</td>\n",
       "      <td>76.0</td>\n",
       "    </tr>\n",
       "    <tr>\n",
       "      <th>Prometheus</th>\n",
       "      <td>2</td>\n",
       "      <td>Adventure,Mystery,Sci-Fi</td>\n",
       "      <td>Following clues to the origin of mankind, a te...</td>\n",
       "      <td>Ridley Scott</td>\n",
       "      <td>Noomi Rapace, Logan Marshall-Green, Michael Fa...</td>\n",
       "      <td>2012</td>\n",
       "      <td>124</td>\n",
       "      <td>7.0</td>\n",
       "      <td>485820</td>\n",
       "      <td>126.46</td>\n",
       "      <td>65.0</td>\n",
       "    </tr>\n",
       "    <tr>\n",
       "      <th>Split</th>\n",
       "      <td>3</td>\n",
       "      <td>Horror,Thriller</td>\n",
       "      <td>Three girls are kidnapped by a man with a diag...</td>\n",
       "      <td>M. Night Shyamalan</td>\n",
       "      <td>James McAvoy, Anya Taylor-Joy, Haley Lu Richar...</td>\n",
       "      <td>2016</td>\n",
       "      <td>117</td>\n",
       "      <td>7.3</td>\n",
       "      <td>157606</td>\n",
       "      <td>138.12</td>\n",
       "      <td>62.0</td>\n",
       "    </tr>\n",
       "    <tr>\n",
       "      <th>Sing</th>\n",
       "      <td>4</td>\n",
       "      <td>Animation,Comedy,Family</td>\n",
       "      <td>In a city of humanoid animals, a hustling thea...</td>\n",
       "      <td>Christophe Lourdelet</td>\n",
       "      <td>Matthew McConaughey,Reese Witherspoon, Seth Ma...</td>\n",
       "      <td>2016</td>\n",
       "      <td>108</td>\n",
       "      <td>7.2</td>\n",
       "      <td>60545</td>\n",
       "      <td>270.32</td>\n",
       "      <td>59.0</td>\n",
       "    </tr>\n",
       "    <tr>\n",
       "      <th>Suicide Squad</th>\n",
       "      <td>5</td>\n",
       "      <td>Action,Adventure,Fantasy</td>\n",
       "      <td>A secret government agency recruits some of th...</td>\n",
       "      <td>David Ayer</td>\n",
       "      <td>Will Smith, Jared Leto, Margot Robbie, Viola D...</td>\n",
       "      <td>2016</td>\n",
       "      <td>123</td>\n",
       "      <td>6.2</td>\n",
       "      <td>393727</td>\n",
       "      <td>325.02</td>\n",
       "      <td>40.0</td>\n",
       "    </tr>\n",
       "  </tbody>\n",
       "</table>\n",
       "</div>"
      ],
      "text/plain": [
       "                         Rank                     Genre  \\\n",
       "Title                                                     \n",
       "Guardians of the Galaxy     1   Action,Adventure,Sci-Fi   \n",
       "Prometheus                  2  Adventure,Mystery,Sci-Fi   \n",
       "Split                       3           Horror,Thriller   \n",
       "Sing                        4   Animation,Comedy,Family   \n",
       "Suicide Squad               5  Action,Adventure,Fantasy   \n",
       "\n",
       "                                                               Description  \\\n",
       "Title                                                                        \n",
       "Guardians of the Galaxy  A group of intergalactic criminals are forced ...   \n",
       "Prometheus               Following clues to the origin of mankind, a te...   \n",
       "Split                    Three girls are kidnapped by a man with a diag...   \n",
       "Sing                     In a city of humanoid animals, a hustling thea...   \n",
       "Suicide Squad            A secret government agency recruits some of th...   \n",
       "\n",
       "                                     Director  \\\n",
       "Title                                           \n",
       "Guardians of the Galaxy            James Gunn   \n",
       "Prometheus                       Ridley Scott   \n",
       "Split                      M. Night Shyamalan   \n",
       "Sing                     Christophe Lourdelet   \n",
       "Suicide Squad                      David Ayer   \n",
       "\n",
       "                                                                    Actors  \\\n",
       "Title                                                                        \n",
       "Guardians of the Galaxy  Chris Pratt, Vin Diesel, Bradley Cooper, Zoe S...   \n",
       "Prometheus               Noomi Rapace, Logan Marshall-Green, Michael Fa...   \n",
       "Split                    James McAvoy, Anya Taylor-Joy, Haley Lu Richar...   \n",
       "Sing                     Matthew McConaughey,Reese Witherspoon, Seth Ma...   \n",
       "Suicide Squad            Will Smith, Jared Leto, Margot Robbie, Viola D...   \n",
       "\n",
       "                         Year  Runtime (Minutes)  Rating   Votes  \\\n",
       "Title                                                              \n",
       "Guardians of the Galaxy  2014                121     8.1  757074   \n",
       "Prometheus               2012                124     7.0  485820   \n",
       "Split                    2016                117     7.3  157606   \n",
       "Sing                     2016                108     7.2   60545   \n",
       "Suicide Squad            2016                123     6.2  393727   \n",
       "\n",
       "                         Revenue (Millions)  Metascore  \n",
       "Title                                                   \n",
       "Guardians of the Galaxy              333.13       76.0  \n",
       "Prometheus                           126.46       65.0  \n",
       "Split                                138.12       62.0  \n",
       "Sing                                 270.32       59.0  \n",
       "Suicide Squad                        325.02       40.0  "
      ]
     },
     "execution_count": 2,
     "metadata": {},
     "output_type": "execute_result"
    }
   ],
   "source": [
    "df.head()"
   ]
  },
  {
   "cell_type": "code",
   "execution_count": 3,
   "id": "5f87dde9",
   "metadata": {},
   "outputs": [
    {
     "name": "stdout",
     "output_type": "stream",
     "text": [
      "<class 'pandas.core.frame.DataFrame'>\n",
      "Index: 1000 entries, Guardians of the Galaxy to Nine Lives\n",
      "Data columns (total 11 columns):\n",
      " #   Column              Non-Null Count  Dtype  \n",
      "---  ------              --------------  -----  \n",
      " 0   Rank                1000 non-null   int64  \n",
      " 1   Genre               1000 non-null   object \n",
      " 2   Description         1000 non-null   object \n",
      " 3   Director            1000 non-null   object \n",
      " 4   Actors              1000 non-null   object \n",
      " 5   Year                1000 non-null   int64  \n",
      " 6   Runtime (Minutes)   1000 non-null   int64  \n",
      " 7   Rating              1000 non-null   float64\n",
      " 8   Votes               1000 non-null   int64  \n",
      " 9   Revenue (Millions)  872 non-null    float64\n",
      " 10  Metascore           936 non-null    float64\n",
      "dtypes: float64(3), int64(4), object(4)\n",
      "memory usage: 93.8+ KB\n"
     ]
    }
   ],
   "source": [
    "df.info()"
   ]
  },
  {
   "cell_type": "code",
   "execution_count": null,
   "id": "08fce3a3",
   "metadata": {},
   "outputs": [],
   "source": []
  },
  {
   "cell_type": "markdown",
   "id": "fc7b9a43",
   "metadata": {},
   "source": [
    "## 3. Veri setindeki sütun isimlerini kullanışlı hale getirin (Örn: Kısaltıp küçük harf yapmak gibi)"
   ]
  },
  {
   "cell_type": "code",
   "execution_count": 4,
   "id": "86d75d7d",
   "metadata": {},
   "outputs": [
    {
     "data": {
      "text/plain": [
       "Index(['Rank', 'Genre', 'Description', 'Director', 'Actors', 'Year',\n",
       "       'Runtime (Minutes)', 'Rating', 'Votes', 'Revenue (Millions)',\n",
       "       'Metascore'],\n",
       "      dtype='object')"
      ]
     },
     "execution_count": 4,
     "metadata": {},
     "output_type": "execute_result"
    }
   ],
   "source": [
    "df.columns"
   ]
  },
  {
   "cell_type": "code",
   "execution_count": 5,
   "id": "7e431a48",
   "metadata": {},
   "outputs": [
    {
     "data": {
      "text/plain": [
       "Index(['rank', 'genre', 'description', 'director', 'actors', 'year', 'runtime',\n",
       "       'rating', 'votes', 'revenue', 'metascore'],\n",
       "      dtype='object')"
      ]
     },
     "execution_count": 5,
     "metadata": {},
     "output_type": "execute_result"
    }
   ],
   "source": [
    "df.columns = ['rank', 'genre', 'description', 'director', 'actors', 'year',\n",
    "       'runtime', 'rating', 'votes', 'revenue',\n",
    "       'metascore']\n",
    "\n",
    "df.columns"
   ]
  },
  {
   "cell_type": "code",
   "execution_count": null,
   "id": "03fdab63",
   "metadata": {},
   "outputs": [],
   "source": [
    "# farklı yöntem\n",
    "df.columns = [col.lower() for col in df]\n",
    "\n",
    "df.columns ## Sadece sütun isimlerinin küçük harfe dönüştürülmesi için."
   ]
  },
  {
   "cell_type": "markdown",
   "id": "750332aa",
   "metadata": {},
   "source": [
    "## 4. Missing Value tespit edilsin ve bu kapsamda aşağıdaki şekilde mücadele edilsin.\n",
    "\n",
    "2 türde missing value mücadelesi yaptık. Ortalama ile doldurma ve drop etme.\n",
    "\n",
    "Çok fazla sayıda missing value varsa bu kapsamda drop etmeyi düşünmemeliyiz. Öncelikle doldurmak için çabalamalıyız.\n",
    "\n",
    "Örnek olması açısından burada çok olan missing value ile mücadele açısından sadece drop ve mean ile doldurma kullanıldı."
   ]
  },
  {
   "cell_type": "markdown",
   "id": "5a34f3af",
   "metadata": {},
   "source": [
    "### a.Missing value kontrolü hem pandas hemde missingno kütüphanelerini kullanarak yapın"
   ]
  },
  {
   "cell_type": "code",
   "execution_count": 6,
   "id": "16572290",
   "metadata": {},
   "outputs": [
    {
     "data": {
      "text/html": [
       "<div>\n",
       "<style scoped>\n",
       "    .dataframe tbody tr th:only-of-type {\n",
       "        vertical-align: middle;\n",
       "    }\n",
       "\n",
       "    .dataframe tbody tr th {\n",
       "        vertical-align: top;\n",
       "    }\n",
       "\n",
       "    .dataframe thead th {\n",
       "        text-align: right;\n",
       "    }\n",
       "</style>\n",
       "<table border=\"1\" class=\"dataframe\">\n",
       "  <thead>\n",
       "    <tr style=\"text-align: right;\">\n",
       "      <th></th>\n",
       "      <th>rank</th>\n",
       "      <th>genre</th>\n",
       "      <th>description</th>\n",
       "      <th>director</th>\n",
       "      <th>actors</th>\n",
       "      <th>year</th>\n",
       "      <th>runtime</th>\n",
       "      <th>rating</th>\n",
       "      <th>votes</th>\n",
       "      <th>revenue</th>\n",
       "      <th>metascore</th>\n",
       "    </tr>\n",
       "    <tr>\n",
       "      <th>Title</th>\n",
       "      <th></th>\n",
       "      <th></th>\n",
       "      <th></th>\n",
       "      <th></th>\n",
       "      <th></th>\n",
       "      <th></th>\n",
       "      <th></th>\n",
       "      <th></th>\n",
       "      <th></th>\n",
       "      <th></th>\n",
       "      <th></th>\n",
       "    </tr>\n",
       "  </thead>\n",
       "  <tbody>\n",
       "    <tr>\n",
       "      <th>Guardians of the Galaxy</th>\n",
       "      <td>False</td>\n",
       "      <td>False</td>\n",
       "      <td>False</td>\n",
       "      <td>False</td>\n",
       "      <td>False</td>\n",
       "      <td>False</td>\n",
       "      <td>False</td>\n",
       "      <td>False</td>\n",
       "      <td>False</td>\n",
       "      <td>False</td>\n",
       "      <td>False</td>\n",
       "    </tr>\n",
       "    <tr>\n",
       "      <th>Prometheus</th>\n",
       "      <td>False</td>\n",
       "      <td>False</td>\n",
       "      <td>False</td>\n",
       "      <td>False</td>\n",
       "      <td>False</td>\n",
       "      <td>False</td>\n",
       "      <td>False</td>\n",
       "      <td>False</td>\n",
       "      <td>False</td>\n",
       "      <td>False</td>\n",
       "      <td>False</td>\n",
       "    </tr>\n",
       "    <tr>\n",
       "      <th>Split</th>\n",
       "      <td>False</td>\n",
       "      <td>False</td>\n",
       "      <td>False</td>\n",
       "      <td>False</td>\n",
       "      <td>False</td>\n",
       "      <td>False</td>\n",
       "      <td>False</td>\n",
       "      <td>False</td>\n",
       "      <td>False</td>\n",
       "      <td>False</td>\n",
       "      <td>False</td>\n",
       "    </tr>\n",
       "    <tr>\n",
       "      <th>Sing</th>\n",
       "      <td>False</td>\n",
       "      <td>False</td>\n",
       "      <td>False</td>\n",
       "      <td>False</td>\n",
       "      <td>False</td>\n",
       "      <td>False</td>\n",
       "      <td>False</td>\n",
       "      <td>False</td>\n",
       "      <td>False</td>\n",
       "      <td>False</td>\n",
       "      <td>False</td>\n",
       "    </tr>\n",
       "    <tr>\n",
       "      <th>Suicide Squad</th>\n",
       "      <td>False</td>\n",
       "      <td>False</td>\n",
       "      <td>False</td>\n",
       "      <td>False</td>\n",
       "      <td>False</td>\n",
       "      <td>False</td>\n",
       "      <td>False</td>\n",
       "      <td>False</td>\n",
       "      <td>False</td>\n",
       "      <td>False</td>\n",
       "      <td>False</td>\n",
       "    </tr>\n",
       "    <tr>\n",
       "      <th>...</th>\n",
       "      <td>...</td>\n",
       "      <td>...</td>\n",
       "      <td>...</td>\n",
       "      <td>...</td>\n",
       "      <td>...</td>\n",
       "      <td>...</td>\n",
       "      <td>...</td>\n",
       "      <td>...</td>\n",
       "      <td>...</td>\n",
       "      <td>...</td>\n",
       "      <td>...</td>\n",
       "    </tr>\n",
       "    <tr>\n",
       "      <th>Secret in Their Eyes</th>\n",
       "      <td>False</td>\n",
       "      <td>False</td>\n",
       "      <td>False</td>\n",
       "      <td>False</td>\n",
       "      <td>False</td>\n",
       "      <td>False</td>\n",
       "      <td>False</td>\n",
       "      <td>False</td>\n",
       "      <td>False</td>\n",
       "      <td>True</td>\n",
       "      <td>False</td>\n",
       "    </tr>\n",
       "    <tr>\n",
       "      <th>Hostel: Part II</th>\n",
       "      <td>False</td>\n",
       "      <td>False</td>\n",
       "      <td>False</td>\n",
       "      <td>False</td>\n",
       "      <td>False</td>\n",
       "      <td>False</td>\n",
       "      <td>False</td>\n",
       "      <td>False</td>\n",
       "      <td>False</td>\n",
       "      <td>False</td>\n",
       "      <td>False</td>\n",
       "    </tr>\n",
       "    <tr>\n",
       "      <th>Step Up 2: The Streets</th>\n",
       "      <td>False</td>\n",
       "      <td>False</td>\n",
       "      <td>False</td>\n",
       "      <td>False</td>\n",
       "      <td>False</td>\n",
       "      <td>False</td>\n",
       "      <td>False</td>\n",
       "      <td>False</td>\n",
       "      <td>False</td>\n",
       "      <td>False</td>\n",
       "      <td>False</td>\n",
       "    </tr>\n",
       "    <tr>\n",
       "      <th>Search Party</th>\n",
       "      <td>False</td>\n",
       "      <td>False</td>\n",
       "      <td>False</td>\n",
       "      <td>False</td>\n",
       "      <td>False</td>\n",
       "      <td>False</td>\n",
       "      <td>False</td>\n",
       "      <td>False</td>\n",
       "      <td>False</td>\n",
       "      <td>True</td>\n",
       "      <td>False</td>\n",
       "    </tr>\n",
       "    <tr>\n",
       "      <th>Nine Lives</th>\n",
       "      <td>False</td>\n",
       "      <td>False</td>\n",
       "      <td>False</td>\n",
       "      <td>False</td>\n",
       "      <td>False</td>\n",
       "      <td>False</td>\n",
       "      <td>False</td>\n",
       "      <td>False</td>\n",
       "      <td>False</td>\n",
       "      <td>False</td>\n",
       "      <td>False</td>\n",
       "    </tr>\n",
       "  </tbody>\n",
       "</table>\n",
       "<p>1000 rows × 11 columns</p>\n",
       "</div>"
      ],
      "text/plain": [
       "                          rank  genre  description  director  actors   year  \\\n",
       "Title                                                                         \n",
       "Guardians of the Galaxy  False  False        False     False   False  False   \n",
       "Prometheus               False  False        False     False   False  False   \n",
       "Split                    False  False        False     False   False  False   \n",
       "Sing                     False  False        False     False   False  False   \n",
       "Suicide Squad            False  False        False     False   False  False   \n",
       "...                        ...    ...          ...       ...     ...    ...   \n",
       "Secret in Their Eyes     False  False        False     False   False  False   \n",
       "Hostel: Part II          False  False        False     False   False  False   \n",
       "Step Up 2: The Streets   False  False        False     False   False  False   \n",
       "Search Party             False  False        False     False   False  False   \n",
       "Nine Lives               False  False        False     False   False  False   \n",
       "\n",
       "                         runtime  rating  votes  revenue  metascore  \n",
       "Title                                                                \n",
       "Guardians of the Galaxy    False   False  False    False      False  \n",
       "Prometheus                 False   False  False    False      False  \n",
       "Split                      False   False  False    False      False  \n",
       "Sing                       False   False  False    False      False  \n",
       "Suicide Squad              False   False  False    False      False  \n",
       "...                          ...     ...    ...      ...        ...  \n",
       "Secret in Their Eyes       False   False  False     True      False  \n",
       "Hostel: Part II            False   False  False    False      False  \n",
       "Step Up 2: The Streets     False   False  False    False      False  \n",
       "Search Party               False   False  False     True      False  \n",
       "Nine Lives                 False   False  False    False      False  \n",
       "\n",
       "[1000 rows x 11 columns]"
      ]
     },
     "execution_count": 6,
     "metadata": {},
     "output_type": "execute_result"
    }
   ],
   "source": [
    "df.isnull()"
   ]
  },
  {
   "cell_type": "code",
   "execution_count": 7,
   "id": "940d79ee",
   "metadata": {},
   "outputs": [
    {
     "data": {
      "text/plain": [
       "rank             0\n",
       "genre            0\n",
       "description      0\n",
       "director         0\n",
       "actors           0\n",
       "year             0\n",
       "runtime          0\n",
       "rating           0\n",
       "votes            0\n",
       "revenue        128\n",
       "metascore       64\n",
       "dtype: int64"
      ]
     },
     "execution_count": 7,
     "metadata": {},
     "output_type": "execute_result"
    }
   ],
   "source": [
    "df.isnull().sum()"
   ]
  },
  {
   "cell_type": "code",
   "execution_count": 8,
   "id": "d42a291f",
   "metadata": {},
   "outputs": [
    {
     "data": {
      "image/png": "[encoded data removed]",
      "text/plain": [
       "<Figure size 2500x1000 with 2 Axes>"
      ]
     },
     "metadata": {},
     "output_type": "display_data"
    }
   ],
   "source": [
    "import missingno as msno\n",
    "msno.matrix(df);"
   ]
  },
  {
   "cell_type": "markdown",
   "id": "bf3e092c",
   "metadata": {},
   "source": [
    "### b.Yüksek missing value olan değişken içindeki veriler o değişkenin ortalama skoru ile doldurulsun."
   ]
  },
  {
   "cell_type": "code",
   "execution_count": 10,
   "id": "8673a191",
   "metadata": {},
   "outputs": [
    {
     "data": {
      "text/plain": [
       "Title\n",
       "Guardians of the Galaxy    333.13\n",
       "Prometheus                 126.46\n",
       "Split                      138.12\n",
       "Sing                       270.32\n",
       "Suicide Squad              325.02\n",
       "                            ...  \n",
       "Secret in Their Eyes          NaN\n",
       "Hostel: Part II             17.54\n",
       "Step Up 2: The Streets      58.01\n",
       "Search Party                  NaN\n",
       "Nine Lives                  19.64\n",
       "Name: revenue, Length: 1000, dtype: float64"
      ]
     },
     "execution_count": 10,
     "metadata": {},
     "output_type": "execute_result"
    }
   ],
   "source": [
    "df.revenue"
   ]
  },
  {
   "cell_type": "code",
   "execution_count": 9,
   "id": "395da7ab",
   "metadata": {},
   "outputs": [
    {
     "data": {
      "text/plain": [
       "82.95637614678897"
      ]
     },
     "execution_count": 9,
     "metadata": {},
     "output_type": "execute_result"
    }
   ],
   "source": [
    "df.revenue.mean()"
   ]
  },
  {
   "cell_type": "code",
   "execution_count": 11,
   "id": "4c1334e5",
   "metadata": {},
   "outputs": [
    {
     "data": {
      "text/html": [
       "<div>\n",
       "<style scoped>\n",
       "    .dataframe tbody tr th:only-of-type {\n",
       "        vertical-align: middle;\n",
       "    }\n",
       "\n",
       "    .dataframe tbody tr th {\n",
       "        vertical-align: top;\n",
       "    }\n",
       "\n",
       "    .dataframe thead th {\n",
       "        text-align: right;\n",
       "    }\n",
       "</style>\n",
       "<table border=\"1\" class=\"dataframe\">\n",
       "  <thead>\n",
       "    <tr style=\"text-align: right;\">\n",
       "      <th></th>\n",
       "      <th>count</th>\n",
       "      <th>mean</th>\n",
       "      <th>std</th>\n",
       "      <th>min</th>\n",
       "      <th>25%</th>\n",
       "      <th>50%</th>\n",
       "      <th>75%</th>\n",
       "      <th>max</th>\n",
       "    </tr>\n",
       "  </thead>\n",
       "  <tbody>\n",
       "    <tr>\n",
       "      <th>rank</th>\n",
       "      <td>1000.0</td>\n",
       "      <td>500.500000</td>\n",
       "      <td>288.819436</td>\n",
       "      <td>1.0</td>\n",
       "      <td>250.75</td>\n",
       "      <td>500.500</td>\n",
       "      <td>750.250</td>\n",
       "      <td>1000.00</td>\n",
       "    </tr>\n",
       "    <tr>\n",
       "      <th>year</th>\n",
       "      <td>1000.0</td>\n",
       "      <td>2012.783000</td>\n",
       "      <td>3.205962</td>\n",
       "      <td>2006.0</td>\n",
       "      <td>2010.00</td>\n",
       "      <td>2014.000</td>\n",
       "      <td>2016.000</td>\n",
       "      <td>2016.00</td>\n",
       "    </tr>\n",
       "    <tr>\n",
       "      <th>runtime</th>\n",
       "      <td>1000.0</td>\n",
       "      <td>113.172000</td>\n",
       "      <td>18.810908</td>\n",
       "      <td>66.0</td>\n",
       "      <td>100.00</td>\n",
       "      <td>111.000</td>\n",
       "      <td>123.000</td>\n",
       "      <td>191.00</td>\n",
       "    </tr>\n",
       "    <tr>\n",
       "      <th>rating</th>\n",
       "      <td>1000.0</td>\n",
       "      <td>6.723200</td>\n",
       "      <td>0.945429</td>\n",
       "      <td>1.9</td>\n",
       "      <td>6.20</td>\n",
       "      <td>6.800</td>\n",
       "      <td>7.400</td>\n",
       "      <td>9.00</td>\n",
       "    </tr>\n",
       "    <tr>\n",
       "      <th>votes</th>\n",
       "      <td>1000.0</td>\n",
       "      <td>169808.255000</td>\n",
       "      <td>188762.647518</td>\n",
       "      <td>61.0</td>\n",
       "      <td>36309.00</td>\n",
       "      <td>110799.000</td>\n",
       "      <td>239909.750</td>\n",
       "      <td>1791916.00</td>\n",
       "    </tr>\n",
       "    <tr>\n",
       "      <th>revenue</th>\n",
       "      <td>872.0</td>\n",
       "      <td>82.956376</td>\n",
       "      <td>103.253540</td>\n",
       "      <td>0.0</td>\n",
       "      <td>13.27</td>\n",
       "      <td>47.985</td>\n",
       "      <td>113.715</td>\n",
       "      <td>936.63</td>\n",
       "    </tr>\n",
       "    <tr>\n",
       "      <th>metascore</th>\n",
       "      <td>936.0</td>\n",
       "      <td>58.985043</td>\n",
       "      <td>17.194757</td>\n",
       "      <td>11.0</td>\n",
       "      <td>47.00</td>\n",
       "      <td>59.500</td>\n",
       "      <td>72.000</td>\n",
       "      <td>100.00</td>\n",
       "    </tr>\n",
       "  </tbody>\n",
       "</table>\n",
       "</div>"
      ],
      "text/plain": [
       "            count           mean            std     min       25%         50%  \\\n",
       "rank       1000.0     500.500000     288.819436     1.0    250.75     500.500   \n",
       "year       1000.0    2012.783000       3.205962  2006.0   2010.00    2014.000   \n",
       "runtime    1000.0     113.172000      18.810908    66.0    100.00     111.000   \n",
       "rating     1000.0       6.723200       0.945429     1.9      6.20       6.800   \n",
       "votes      1000.0  169808.255000  188762.647518    61.0  36309.00  110799.000   \n",
       "revenue     872.0      82.956376     103.253540     0.0     13.27      47.985   \n",
       "metascore   936.0      58.985043      17.194757    11.0     47.00      59.500   \n",
       "\n",
       "                  75%         max  \n",
       "rank          750.250     1000.00  \n",
       "year         2016.000     2016.00  \n",
       "runtime       123.000      191.00  \n",
       "rating          7.400        9.00  \n",
       "votes      239909.750  1791916.00  \n",
       "revenue       113.715      936.63  \n",
       "metascore      72.000      100.00  "
      ]
     },
     "execution_count": 11,
     "metadata": {},
     "output_type": "execute_result"
    }
   ],
   "source": [
    "df.describe().T"
   ]
  },
  {
   "cell_type": "code",
   "execution_count": 12,
   "id": "66107e5e",
   "metadata": {},
   "outputs": [
    {
     "data": {
      "text/plain": [
       "Title\n",
       "Guardians of the Galaxy    333.130000\n",
       "Prometheus                 126.460000\n",
       "Split                      138.120000\n",
       "Sing                       270.320000\n",
       "Suicide Squad              325.020000\n",
       "                              ...    \n",
       "Secret in Their Eyes        82.956376\n",
       "Hostel: Part II             17.540000\n",
       "Step Up 2: The Streets      58.010000\n",
       "Search Party                82.956376\n",
       "Nine Lives                  19.640000\n",
       "Name: revenue, Length: 1000, dtype: float64"
      ]
     },
     "execution_count": 12,
     "metadata": {},
     "output_type": "execute_result"
    }
   ],
   "source": [
    "df.revenue.fillna(df.revenue.mean())"
   ]
  },
  {
   "cell_type": "code",
   "execution_count": 13,
   "id": "949477e6",
   "metadata": {},
   "outputs": [
    {
     "data": {
      "text/plain": [
       "Title\n",
       "Guardians of the Galaxy    333.13\n",
       "Prometheus                 126.46\n",
       "Split                      138.12\n",
       "Sing                       270.32\n",
       "Suicide Squad              325.02\n",
       "                            ...  \n",
       "Secret in Their Eyes          NaN\n",
       "Hostel: Part II             17.54\n",
       "Step Up 2: The Streets      58.01\n",
       "Search Party                  NaN\n",
       "Nine Lives                  19.64\n",
       "Name: revenue, Length: 1000, dtype: float64"
      ]
     },
     "execution_count": 13,
     "metadata": {},
     "output_type": "execute_result"
    }
   ],
   "source": [
    "df.revenue"
   ]
  },
  {
   "cell_type": "code",
   "execution_count": 14,
   "id": "2615a167",
   "metadata": {},
   "outputs": [],
   "source": [
    "df.revenue.fillna(df.revenue.mean(), inplace= True)"
   ]
  },
  {
   "cell_type": "code",
   "execution_count": 15,
   "id": "e399c6c9",
   "metadata": {},
   "outputs": [
    {
     "name": "stdout",
     "output_type": "stream",
     "text": [
      "<class 'pandas.core.frame.DataFrame'>\n",
      "Index: 1000 entries, Guardians of the Galaxy to Nine Lives\n",
      "Data columns (total 11 columns):\n",
      " #   Column       Non-Null Count  Dtype  \n",
      "---  ------       --------------  -----  \n",
      " 0   rank         1000 non-null   int64  \n",
      " 1   genre        1000 non-null   object \n",
      " 2   description  1000 non-null   object \n",
      " 3   director     1000 non-null   object \n",
      " 4   actors       1000 non-null   object \n",
      " 5   year         1000 non-null   int64  \n",
      " 6   runtime      1000 non-null   int64  \n",
      " 7   rating       1000 non-null   float64\n",
      " 8   votes        1000 non-null   int64  \n",
      " 9   revenue      1000 non-null   float64\n",
      " 10  metascore    936 non-null    float64\n",
      "dtypes: float64(3), int64(4), object(4)\n",
      "memory usage: 126.0+ KB\n"
     ]
    }
   ],
   "source": [
    "df.info()"
   ]
  },
  {
   "cell_type": "markdown",
   "id": "f0d31e37",
   "metadata": {},
   "source": [
    "### c. Düşük missing value olan değişkendeki gözlemler kaldırılsın."
   ]
  },
  {
   "cell_type": "code",
   "execution_count": 16,
   "id": "5418066c",
   "metadata": {},
   "outputs": [
    {
     "data": {
      "text/html": [
       "<div>\n",
       "<style scoped>\n",
       "    .dataframe tbody tr th:only-of-type {\n",
       "        vertical-align: middle;\n",
       "    }\n",
       "\n",
       "    .dataframe tbody tr th {\n",
       "        vertical-align: top;\n",
       "    }\n",
       "\n",
       "    .dataframe thead th {\n",
       "        text-align: right;\n",
       "    }\n",
       "</style>\n",
       "<table border=\"1\" class=\"dataframe\">\n",
       "  <thead>\n",
       "    <tr style=\"text-align: right;\">\n",
       "      <th></th>\n",
       "      <th>rank</th>\n",
       "      <th>genre</th>\n",
       "      <th>description</th>\n",
       "      <th>director</th>\n",
       "      <th>actors</th>\n",
       "      <th>year</th>\n",
       "      <th>runtime</th>\n",
       "      <th>rating</th>\n",
       "      <th>votes</th>\n",
       "      <th>revenue</th>\n",
       "      <th>metascore</th>\n",
       "    </tr>\n",
       "    <tr>\n",
       "      <th>Title</th>\n",
       "      <th></th>\n",
       "      <th></th>\n",
       "      <th></th>\n",
       "      <th></th>\n",
       "      <th></th>\n",
       "      <th></th>\n",
       "      <th></th>\n",
       "      <th></th>\n",
       "      <th></th>\n",
       "      <th></th>\n",
       "      <th></th>\n",
       "    </tr>\n",
       "  </thead>\n",
       "  <tbody>\n",
       "    <tr>\n",
       "      <th>Guardians of the Galaxy</th>\n",
       "      <td>1</td>\n",
       "      <td>Action,Adventure,Sci-Fi</td>\n",
       "      <td>A group of intergalactic criminals are forced ...</td>\n",
       "      <td>James Gunn</td>\n",
       "      <td>Chris Pratt, Vin Diesel, Bradley Cooper, Zoe S...</td>\n",
       "      <td>2014</td>\n",
       "      <td>121</td>\n",
       "      <td>8.1</td>\n",
       "      <td>757074</td>\n",
       "      <td>333.130000</td>\n",
       "      <td>76.0</td>\n",
       "    </tr>\n",
       "    <tr>\n",
       "      <th>Prometheus</th>\n",
       "      <td>2</td>\n",
       "      <td>Adventure,Mystery,Sci-Fi</td>\n",
       "      <td>Following clues to the origin of mankind, a te...</td>\n",
       "      <td>Ridley Scott</td>\n",
       "      <td>Noomi Rapace, Logan Marshall-Green, Michael Fa...</td>\n",
       "      <td>2012</td>\n",
       "      <td>124</td>\n",
       "      <td>7.0</td>\n",
       "      <td>485820</td>\n",
       "      <td>126.460000</td>\n",
       "      <td>65.0</td>\n",
       "    </tr>\n",
       "    <tr>\n",
       "      <th>Split</th>\n",
       "      <td>3</td>\n",
       "      <td>Horror,Thriller</td>\n",
       "      <td>Three girls are kidnapped by a man with a diag...</td>\n",
       "      <td>M. Night Shyamalan</td>\n",
       "      <td>James McAvoy, Anya Taylor-Joy, Haley Lu Richar...</td>\n",
       "      <td>2016</td>\n",
       "      <td>117</td>\n",
       "      <td>7.3</td>\n",
       "      <td>157606</td>\n",
       "      <td>138.120000</td>\n",
       "      <td>62.0</td>\n",
       "    </tr>\n",
       "    <tr>\n",
       "      <th>Sing</th>\n",
       "      <td>4</td>\n",
       "      <td>Animation,Comedy,Family</td>\n",
       "      <td>In a city of humanoid animals, a hustling thea...</td>\n",
       "      <td>Christophe Lourdelet</td>\n",
       "      <td>Matthew McConaughey,Reese Witherspoon, Seth Ma...</td>\n",
       "      <td>2016</td>\n",
       "      <td>108</td>\n",
       "      <td>7.2</td>\n",
       "      <td>60545</td>\n",
       "      <td>270.320000</td>\n",
       "      <td>59.0</td>\n",
       "    </tr>\n",
       "    <tr>\n",
       "      <th>Suicide Squad</th>\n",
       "      <td>5</td>\n",
       "      <td>Action,Adventure,Fantasy</td>\n",
       "      <td>A secret government agency recruits some of th...</td>\n",
       "      <td>David Ayer</td>\n",
       "      <td>Will Smith, Jared Leto, Margot Robbie, Viola D...</td>\n",
       "      <td>2016</td>\n",
       "      <td>123</td>\n",
       "      <td>6.2</td>\n",
       "      <td>393727</td>\n",
       "      <td>325.020000</td>\n",
       "      <td>40.0</td>\n",
       "    </tr>\n",
       "    <tr>\n",
       "      <th>...</th>\n",
       "      <td>...</td>\n",
       "      <td>...</td>\n",
       "      <td>...</td>\n",
       "      <td>...</td>\n",
       "      <td>...</td>\n",
       "      <td>...</td>\n",
       "      <td>...</td>\n",
       "      <td>...</td>\n",
       "      <td>...</td>\n",
       "      <td>...</td>\n",
       "      <td>...</td>\n",
       "    </tr>\n",
       "    <tr>\n",
       "      <th>Secret in Their Eyes</th>\n",
       "      <td>996</td>\n",
       "      <td>Crime,Drama,Mystery</td>\n",
       "      <td>A tight-knit team of rising investigators, alo...</td>\n",
       "      <td>Billy Ray</td>\n",
       "      <td>Chiwetel Ejiofor, Nicole Kidman, Julia Roberts...</td>\n",
       "      <td>2015</td>\n",
       "      <td>111</td>\n",
       "      <td>6.2</td>\n",
       "      <td>27585</td>\n",
       "      <td>82.956376</td>\n",
       "      <td>45.0</td>\n",
       "    </tr>\n",
       "    <tr>\n",
       "      <th>Hostel: Part II</th>\n",
       "      <td>997</td>\n",
       "      <td>Horror</td>\n",
       "      <td>Three American college students studying abroa...</td>\n",
       "      <td>Eli Roth</td>\n",
       "      <td>Lauren German, Heather Matarazzo, Bijou Philli...</td>\n",
       "      <td>2007</td>\n",
       "      <td>94</td>\n",
       "      <td>5.5</td>\n",
       "      <td>73152</td>\n",
       "      <td>17.540000</td>\n",
       "      <td>46.0</td>\n",
       "    </tr>\n",
       "    <tr>\n",
       "      <th>Step Up 2: The Streets</th>\n",
       "      <td>998</td>\n",
       "      <td>Drama,Music,Romance</td>\n",
       "      <td>Romantic sparks occur between two dance studen...</td>\n",
       "      <td>Jon M. Chu</td>\n",
       "      <td>Robert Hoffman, Briana Evigan, Cassie Ventura,...</td>\n",
       "      <td>2008</td>\n",
       "      <td>98</td>\n",
       "      <td>6.2</td>\n",
       "      <td>70699</td>\n",
       "      <td>58.010000</td>\n",
       "      <td>50.0</td>\n",
       "    </tr>\n",
       "    <tr>\n",
       "      <th>Search Party</th>\n",
       "      <td>999</td>\n",
       "      <td>Adventure,Comedy</td>\n",
       "      <td>A pair of friends embark on a mission to reuni...</td>\n",
       "      <td>Scot Armstrong</td>\n",
       "      <td>Adam Pally, T.J. Miller, Thomas Middleditch,Sh...</td>\n",
       "      <td>2014</td>\n",
       "      <td>93</td>\n",
       "      <td>5.6</td>\n",
       "      <td>4881</td>\n",
       "      <td>82.956376</td>\n",
       "      <td>22.0</td>\n",
       "    </tr>\n",
       "    <tr>\n",
       "      <th>Nine Lives</th>\n",
       "      <td>1000</td>\n",
       "      <td>Comedy,Family,Fantasy</td>\n",
       "      <td>A stuffy businessman finds himself trapped ins...</td>\n",
       "      <td>Barry Sonnenfeld</td>\n",
       "      <td>Kevin Spacey, Jennifer Garner, Robbie Amell,Ch...</td>\n",
       "      <td>2016</td>\n",
       "      <td>87</td>\n",
       "      <td>5.3</td>\n",
       "      <td>12435</td>\n",
       "      <td>19.640000</td>\n",
       "      <td>11.0</td>\n",
       "    </tr>\n",
       "  </tbody>\n",
       "</table>\n",
       "<p>936 rows × 11 columns</p>\n",
       "</div>"
      ],
      "text/plain": [
       "                         rank                     genre  \\\n",
       "Title                                                     \n",
       "Guardians of the Galaxy     1   Action,Adventure,Sci-Fi   \n",
       "Prometheus                  2  Adventure,Mystery,Sci-Fi   \n",
       "Split                       3           Horror,Thriller   \n",
       "Sing                        4   Animation,Comedy,Family   \n",
       "Suicide Squad               5  Action,Adventure,Fantasy   \n",
       "...                       ...                       ...   \n",
       "Secret in Their Eyes      996       Crime,Drama,Mystery   \n",
       "Hostel: Part II           997                    Horror   \n",
       "Step Up 2: The Streets    998       Drama,Music,Romance   \n",
       "Search Party              999          Adventure,Comedy   \n",
       "Nine Lives               1000     Comedy,Family,Fantasy   \n",
       "\n",
       "                                                               description  \\\n",
       "Title                                                                        \n",
       "Guardians of the Galaxy  A group of intergalactic criminals are forced ...   \n",
       "Prometheus               Following clues to the origin of mankind, a te...   \n",
       "Split                    Three girls are kidnapped by a man with a diag...   \n",
       "Sing                     In a city of humanoid animals, a hustling thea...   \n",
       "Suicide Squad            A secret government agency recruits some of th...   \n",
       "...                                                                    ...   \n",
       "Secret in Their Eyes     A tight-knit team of rising investigators, alo...   \n",
       "Hostel: Part II          Three American college students studying abroa...   \n",
       "Step Up 2: The Streets   Romantic sparks occur between two dance studen...   \n",
       "Search Party             A pair of friends embark on a mission to reuni...   \n",
       "Nine Lives               A stuffy businessman finds himself trapped ins...   \n",
       "\n",
       "                                     director  \\\n",
       "Title                                           \n",
       "Guardians of the Galaxy            James Gunn   \n",
       "Prometheus                       Ridley Scott   \n",
       "Split                      M. Night Shyamalan   \n",
       "Sing                     Christophe Lourdelet   \n",
       "Suicide Squad                      David Ayer   \n",
       "...                                       ...   \n",
       "Secret in Their Eyes                Billy Ray   \n",
       "Hostel: Part II                      Eli Roth   \n",
       "Step Up 2: The Streets             Jon M. Chu   \n",
       "Search Party                   Scot Armstrong   \n",
       "Nine Lives                   Barry Sonnenfeld   \n",
       "\n",
       "                                                                    actors  \\\n",
       "Title                                                                        \n",
       "Guardians of the Galaxy  Chris Pratt, Vin Diesel, Bradley Cooper, Zoe S...   \n",
       "Prometheus               Noomi Rapace, Logan Marshall-Green, Michael Fa...   \n",
       "Split                    James McAvoy, Anya Taylor-Joy, Haley Lu Richar...   \n",
       "Sing                     Matthew McConaughey,Reese Witherspoon, Seth Ma...   \n",
       "Suicide Squad            Will Smith, Jared Leto, Margot Robbie, Viola D...   \n",
       "...                                                                    ...   \n",
       "Secret in Their Eyes     Chiwetel Ejiofor, Nicole Kidman, Julia Roberts...   \n",
       "Hostel: Part II          Lauren German, Heather Matarazzo, Bijou Philli...   \n",
       "Step Up 2: The Streets   Robert Hoffman, Briana Evigan, Cassie Ventura,...   \n",
       "Search Party             Adam Pally, T.J. Miller, Thomas Middleditch,Sh...   \n",
       "Nine Lives               Kevin Spacey, Jennifer Garner, Robbie Amell,Ch...   \n",
       "\n",
       "                         year  runtime  rating   votes     revenue  metascore  \n",
       "Title                                                                          \n",
       "Guardians of the Galaxy  2014      121     8.1  757074  333.130000       76.0  \n",
       "Prometheus               2012      124     7.0  485820  126.460000       65.0  \n",
       "Split                    2016      117     7.3  157606  138.120000       62.0  \n",
       "Sing                     2016      108     7.2   60545  270.320000       59.0  \n",
       "Suicide Squad            2016      123     6.2  393727  325.020000       40.0  \n",
       "...                       ...      ...     ...     ...         ...        ...  \n",
       "Secret in Their Eyes     2015      111     6.2   27585   82.956376       45.0  \n",
       "Hostel: Part II          2007       94     5.5   73152   17.540000       46.0  \n",
       "Step Up 2: The Streets   2008       98     6.2   70699   58.010000       50.0  \n",
       "Search Party             2014       93     5.6    4881   82.956376       22.0  \n",
       "Nine Lives               2016       87     5.3   12435   19.640000       11.0  \n",
       "\n",
       "[936 rows x 11 columns]"
      ]
     },
     "execution_count": 16,
     "metadata": {},
     "output_type": "execute_result"
    }
   ],
   "source": [
    "df.dropna()"
   ]
  },
  {
   "cell_type": "code",
   "execution_count": 17,
   "id": "266e9a73",
   "metadata": {},
   "outputs": [],
   "source": [
    "df = df.dropna()"
   ]
  },
  {
   "cell_type": "markdown",
   "id": "111a24a8",
   "metadata": {},
   "source": [
    "### d. Missing value kontrolü tekrar hem pandas hemde missingno kütüphanelerini kullanarak kontrol edin ve bu data setini yeni bir değişkene atayın."
   ]
  },
  {
   "cell_type": "code",
   "execution_count": 18,
   "id": "ee7136a8",
   "metadata": {},
   "outputs": [
    {
     "data": {
      "text/plain": [
       "rank           0\n",
       "genre          0\n",
       "description    0\n",
       "director       0\n",
       "actors         0\n",
       "year           0\n",
       "runtime        0\n",
       "rating         0\n",
       "votes          0\n",
       "revenue        0\n",
       "metascore      0\n",
       "dtype: int64"
      ]
     },
     "execution_count": 18,
     "metadata": {},
     "output_type": "execute_result"
    }
   ],
   "source": [
    "df.isnull().sum()"
   ]
  },
  {
   "cell_type": "code",
   "execution_count": 19,
   "id": "c7559bcb",
   "metadata": {},
   "outputs": [
    {
     "data": {
      "image/png": "[encoded data removed]",
      "text/plain": [
       "<Figure size 2500x1000 with 2 Axes>"
      ]
     },
     "metadata": {},
     "output_type": "display_data"
    }
   ],
   "source": [
    "import missingno as msno\n",
    "msno.matrix(df);"
   ]
  },
  {
   "cell_type": "markdown",
   "id": "2ef11f6d",
   "metadata": {},
   "source": [
    "## 5. Temizlenmiş veri seti içinden en yüksek rating e sahip 250 filmi seçerek \"top250\" isminde bir data seti oluşturun ve bunu lokalinize bu isimle kaydedin. Ardından bu yeni data setini tekrar pandas kütüphanesini kullanarak okuyun."
   ]
  },
  {
   "cell_type": "code",
   "execution_count": 20,
   "id": "b6d9069a",
   "metadata": {
    "ExecuteTime": {
     "end_time": "2023-09-24T15:09:00.630452Z",
     "start_time": "2023-09-24T15:09:00.601326Z"
    },
    "scrolled": false
   },
   "outputs": [
    {
     "data": {
      "text/html": [
       "<div>\n",
       "<style scoped>\n",
       "    .dataframe tbody tr th:only-of-type {\n",
       "        vertical-align: middle;\n",
       "    }\n",
       "\n",
       "    .dataframe tbody tr th {\n",
       "        vertical-align: top;\n",
       "    }\n",
       "\n",
       "    .dataframe thead th {\n",
       "        text-align: right;\n",
       "    }\n",
       "</style>\n",
       "<table border=\"1\" class=\"dataframe\">\n",
       "  <thead>\n",
       "    <tr style=\"text-align: right;\">\n",
       "      <th></th>\n",
       "      <th>rank</th>\n",
       "      <th>genre</th>\n",
       "      <th>description</th>\n",
       "      <th>director</th>\n",
       "      <th>actors</th>\n",
       "      <th>year</th>\n",
       "      <th>runtime</th>\n",
       "      <th>rating</th>\n",
       "      <th>votes</th>\n",
       "      <th>revenue</th>\n",
       "      <th>metascore</th>\n",
       "    </tr>\n",
       "    <tr>\n",
       "      <th>Title</th>\n",
       "      <th></th>\n",
       "      <th></th>\n",
       "      <th></th>\n",
       "      <th></th>\n",
       "      <th></th>\n",
       "      <th></th>\n",
       "      <th></th>\n",
       "      <th></th>\n",
       "      <th></th>\n",
       "      <th></th>\n",
       "      <th></th>\n",
       "    </tr>\n",
       "  </thead>\n",
       "  <tbody>\n",
       "    <tr>\n",
       "      <th>The Dark Knight</th>\n",
       "      <td>55</td>\n",
       "      <td>Action,Crime,Drama</td>\n",
       "      <td>When the menace known as the Joker wreaks havo...</td>\n",
       "      <td>Christopher Nolan</td>\n",
       "      <td>Christian Bale, Heath Ledger, Aaron Eckhart,Mi...</td>\n",
       "      <td>2008</td>\n",
       "      <td>152</td>\n",
       "      <td>9.0</td>\n",
       "      <td>1791916</td>\n",
       "      <td>533.32</td>\n",
       "      <td>82.0</td>\n",
       "    </tr>\n",
       "    <tr>\n",
       "      <th>Inception</th>\n",
       "      <td>81</td>\n",
       "      <td>Action,Adventure,Sci-Fi</td>\n",
       "      <td>A thief, who steals corporate secrets through ...</td>\n",
       "      <td>Christopher Nolan</td>\n",
       "      <td>Leonardo DiCaprio, Joseph Gordon-Levitt, Ellen...</td>\n",
       "      <td>2010</td>\n",
       "      <td>148</td>\n",
       "      <td>8.8</td>\n",
       "      <td>1583625</td>\n",
       "      <td>292.57</td>\n",
       "      <td>74.0</td>\n",
       "    </tr>\n",
       "    <tr>\n",
       "      <th>Interstellar</th>\n",
       "      <td>37</td>\n",
       "      <td>Adventure,Drama,Sci-Fi</td>\n",
       "      <td>A team of explorers travel through a wormhole ...</td>\n",
       "      <td>Christopher Nolan</td>\n",
       "      <td>Matthew McConaughey, Anne Hathaway, Jessica Ch...</td>\n",
       "      <td>2014</td>\n",
       "      <td>169</td>\n",
       "      <td>8.6</td>\n",
       "      <td>1047747</td>\n",
       "      <td>187.99</td>\n",
       "      <td>74.0</td>\n",
       "    </tr>\n",
       "    <tr>\n",
       "      <th>The Intouchables</th>\n",
       "      <td>250</td>\n",
       "      <td>Biography,Comedy,Drama</td>\n",
       "      <td>After he becomes a quadriplegic from a paragli...</td>\n",
       "      <td>Olivier Nakache</td>\n",
       "      <td>François Cluzet, Omar Sy, Anne Le Ny, Audrey F...</td>\n",
       "      <td>2011</td>\n",
       "      <td>112</td>\n",
       "      <td>8.6</td>\n",
       "      <td>557965</td>\n",
       "      <td>13.18</td>\n",
       "      <td>57.0</td>\n",
       "    </tr>\n",
       "    <tr>\n",
       "      <th>Kimi no na wa</th>\n",
       "      <td>97</td>\n",
       "      <td>Animation,Drama,Fantasy</td>\n",
       "      <td>Two strangers find themselves linked in a biza...</td>\n",
       "      <td>Makoto Shinkai</td>\n",
       "      <td>Ryûnosuke Kamiki, Mone Kamishiraishi, Ryô Nari...</td>\n",
       "      <td>2016</td>\n",
       "      <td>106</td>\n",
       "      <td>8.6</td>\n",
       "      <td>34110</td>\n",
       "      <td>4.68</td>\n",
       "      <td>79.0</td>\n",
       "    </tr>\n",
       "  </tbody>\n",
       "</table>\n",
       "</div>"
      ],
      "text/plain": [
       "                  rank                    genre  \\\n",
       "Title                                             \n",
       "The Dark Knight     55       Action,Crime,Drama   \n",
       "Inception           81  Action,Adventure,Sci-Fi   \n",
       "Interstellar        37   Adventure,Drama,Sci-Fi   \n",
       "The Intouchables   250   Biography,Comedy,Drama   \n",
       "Kimi no na wa       97  Animation,Drama,Fantasy   \n",
       "\n",
       "                                                        description  \\\n",
       "Title                                                                 \n",
       "The Dark Knight   When the menace known as the Joker wreaks havo...   \n",
       "Inception         A thief, who steals corporate secrets through ...   \n",
       "Interstellar      A team of explorers travel through a wormhole ...   \n",
       "The Intouchables  After he becomes a quadriplegic from a paragli...   \n",
       "Kimi no na wa     Two strangers find themselves linked in a biza...   \n",
       "\n",
       "                           director  \\\n",
       "Title                                 \n",
       "The Dark Knight   Christopher Nolan   \n",
       "Inception         Christopher Nolan   \n",
       "Interstellar      Christopher Nolan   \n",
       "The Intouchables    Olivier Nakache   \n",
       "Kimi no na wa        Makoto Shinkai   \n",
       "\n",
       "                                                             actors  year  \\\n",
       "Title                                                                       \n",
       "The Dark Knight   Christian Bale, Heath Ledger, Aaron Eckhart,Mi...  2008   \n",
       "Inception         Leonardo DiCaprio, Joseph Gordon-Levitt, Ellen...  2010   \n",
       "Interstellar      Matthew McConaughey, Anne Hathaway, Jessica Ch...  2014   \n",
       "The Intouchables  François Cluzet, Omar Sy, Anne Le Ny, Audrey F...  2011   \n",
       "Kimi no na wa     Ryûnosuke Kamiki, Mone Kamishiraishi, Ryô Nari...  2016   \n",
       "\n",
       "                  runtime  rating    votes  revenue  metascore  \n",
       "Title                                                           \n",
       "The Dark Knight       152     9.0  1791916   533.32       82.0  \n",
       "Inception             148     8.8  1583625   292.57       74.0  \n",
       "Interstellar          169     8.6  1047747   187.99       74.0  \n",
       "The Intouchables      112     8.6   557965    13.18       57.0  \n",
       "Kimi no na wa         106     8.6    34110     4.68       79.0  "
      ]
     },
     "execution_count": 20,
     "metadata": {},
     "output_type": "execute_result"
    }
   ],
   "source": [
    "# 'rating' sütununa göre sıralama yapma\n",
    "top250 = df.sort_values('rating', ascending=False)\n",
    "\n",
    "# En yüksek 250 filmi içeren yeni veri setini oluşturma\n",
    "top250 = top250[:250]\n",
    "top250.head()\n",
    "\n",
    "# top250 = new_movies.sort_values('rating', ascending=False)[:250].reset_index(drop=True)\n",
    "# top250 = top250.reset_index(drop=True)\n",
    "# top250 = new_movies.nlargest(250, 'rating').reset_index(drop=True)\n",
    "# top250 = new_movies.sort_values('rating', ascending=False).iloc[:250].reset_index(drop=True)\n",
    "# top250 = new_movies.sort_values('rating', ascending=False).loc[new_movies.index[:250]].reset_index(drop=True)"
   ]
  },
  {
   "cell_type": "code",
   "execution_count": 21,
   "id": "24786d56",
   "metadata": {
    "ExecuteTime": {
     "end_time": "2023-09-24T15:09:00.652924Z",
     "start_time": "2023-09-24T15:09:00.634455Z"
    }
   },
   "outputs": [],
   "source": [
    "# Oluşan yeni veri setini csv dosyası olarak lokale kaydetme\n",
    "top250.to_csv('top250.csv')"
   ]
  },
  {
   "cell_type": "code",
   "execution_count": 20,
   "id": "91146a60",
   "metadata": {
    "ExecuteTime": {
     "end_time": "2023-09-24T15:09:00.660254Z",
     "start_time": "2023-09-24T15:09:00.655926Z"
    }
   },
   "outputs": [],
   "source": [
    "#farklı format kaydetmeleri\n",
    "\n",
    "#df.to_csv('top250.csv') # Oluşan yeni veri setini csv dosyası olarak lokale kaydetme\n",
    "\n",
    "#df.to_json('top250.json') # Oluşan yeni veri setini json dosyası olarak lokale kaydetme\n",
    "\n",
    "#df.to_sql('top250', con) # Oluşan yeni veri setini sql dosyası olarak lokale kaydetme"
   ]
  },
  {
   "cell_type": "markdown",
   "id": "a4759dca",
   "metadata": {},
   "source": [
    "## 6. Veri setinin boyutunu ve özelliklerini inceleyin"
   ]
  },
  {
   "cell_type": "markdown",
   "id": "e6a962c2",
   "metadata": {},
   "source": [
    "### a. Veri setinin boyutunu inceleme"
   ]
  },
  {
   "cell_type": "code",
   "execution_count": 22,
   "id": "63a9c107",
   "metadata": {},
   "outputs": [
    {
     "data": {
      "text/plain": [
       "(250, 11)"
      ]
     },
     "execution_count": 22,
     "metadata": {},
     "output_type": "execute_result"
    }
   ],
   "source": [
    "top250.shape"
   ]
  },
  {
   "cell_type": "markdown",
   "id": "ab6f2e67",
   "metadata": {},
   "source": [
    "###  b. Veri setinin ilk 5 gözlemine göz atma"
   ]
  },
  {
   "cell_type": "code",
   "execution_count": 23,
   "id": "b5895456",
   "metadata": {},
   "outputs": [
    {
     "data": {
      "text/html": [
       "<div>\n",
       "<style scoped>\n",
       "    .dataframe tbody tr th:only-of-type {\n",
       "        vertical-align: middle;\n",
       "    }\n",
       "\n",
       "    .dataframe tbody tr th {\n",
       "        vertical-align: top;\n",
       "    }\n",
       "\n",
       "    .dataframe thead th {\n",
       "        text-align: right;\n",
       "    }\n",
       "</style>\n",
       "<table border=\"1\" class=\"dataframe\">\n",
       "  <thead>\n",
       "    <tr style=\"text-align: right;\">\n",
       "      <th></th>\n",
       "      <th>rank</th>\n",
       "      <th>genre</th>\n",
       "      <th>description</th>\n",
       "      <th>director</th>\n",
       "      <th>actors</th>\n",
       "      <th>year</th>\n",
       "      <th>runtime</th>\n",
       "      <th>rating</th>\n",
       "      <th>votes</th>\n",
       "      <th>revenue</th>\n",
       "      <th>metascore</th>\n",
       "    </tr>\n",
       "    <tr>\n",
       "      <th>Title</th>\n",
       "      <th></th>\n",
       "      <th></th>\n",
       "      <th></th>\n",
       "      <th></th>\n",
       "      <th></th>\n",
       "      <th></th>\n",
       "      <th></th>\n",
       "      <th></th>\n",
       "      <th></th>\n",
       "      <th></th>\n",
       "      <th></th>\n",
       "    </tr>\n",
       "  </thead>\n",
       "  <tbody>\n",
       "    <tr>\n",
       "      <th>The Dark Knight</th>\n",
       "      <td>55</td>\n",
       "      <td>Action,Crime,Drama</td>\n",
       "      <td>When the menace known as the Joker wreaks havo...</td>\n",
       "      <td>Christopher Nolan</td>\n",
       "      <td>Christian Bale, Heath Ledger, Aaron Eckhart,Mi...</td>\n",
       "      <td>2008</td>\n",
       "      <td>152</td>\n",
       "      <td>9.0</td>\n",
       "      <td>1791916</td>\n",
       "      <td>533.32</td>\n",
       "      <td>82.0</td>\n",
       "    </tr>\n",
       "    <tr>\n",
       "      <th>Inception</th>\n",
       "      <td>81</td>\n",
       "      <td>Action,Adventure,Sci-Fi</td>\n",
       "      <td>A thief, who steals corporate secrets through ...</td>\n",
       "      <td>Christopher Nolan</td>\n",
       "      <td>Leonardo DiCaprio, Joseph Gordon-Levitt, Ellen...</td>\n",
       "      <td>2010</td>\n",
       "      <td>148</td>\n",
       "      <td>8.8</td>\n",
       "      <td>1583625</td>\n",
       "      <td>292.57</td>\n",
       "      <td>74.0</td>\n",
       "    </tr>\n",
       "    <tr>\n",
       "      <th>Interstellar</th>\n",
       "      <td>37</td>\n",
       "      <td>Adventure,Drama,Sci-Fi</td>\n",
       "      <td>A team of explorers travel through a wormhole ...</td>\n",
       "      <td>Christopher Nolan</td>\n",
       "      <td>Matthew McConaughey, Anne Hathaway, Jessica Ch...</td>\n",
       "      <td>2014</td>\n",
       "      <td>169</td>\n",
       "      <td>8.6</td>\n",
       "      <td>1047747</td>\n",
       "      <td>187.99</td>\n",
       "      <td>74.0</td>\n",
       "    </tr>\n",
       "    <tr>\n",
       "      <th>The Intouchables</th>\n",
       "      <td>250</td>\n",
       "      <td>Biography,Comedy,Drama</td>\n",
       "      <td>After he becomes a quadriplegic from a paragli...</td>\n",
       "      <td>Olivier Nakache</td>\n",
       "      <td>François Cluzet, Omar Sy, Anne Le Ny, Audrey F...</td>\n",
       "      <td>2011</td>\n",
       "      <td>112</td>\n",
       "      <td>8.6</td>\n",
       "      <td>557965</td>\n",
       "      <td>13.18</td>\n",
       "      <td>57.0</td>\n",
       "    </tr>\n",
       "    <tr>\n",
       "      <th>Kimi no na wa</th>\n",
       "      <td>97</td>\n",
       "      <td>Animation,Drama,Fantasy</td>\n",
       "      <td>Two strangers find themselves linked in a biza...</td>\n",
       "      <td>Makoto Shinkai</td>\n",
       "      <td>Ryûnosuke Kamiki, Mone Kamishiraishi, Ryô Nari...</td>\n",
       "      <td>2016</td>\n",
       "      <td>106</td>\n",
       "      <td>8.6</td>\n",
       "      <td>34110</td>\n",
       "      <td>4.68</td>\n",
       "      <td>79.0</td>\n",
       "    </tr>\n",
       "  </tbody>\n",
       "</table>\n",
       "</div>"
      ],
      "text/plain": [
       "                  rank                    genre  \\\n",
       "Title                                             \n",
       "The Dark Knight     55       Action,Crime,Drama   \n",
       "Inception           81  Action,Adventure,Sci-Fi   \n",
       "Interstellar        37   Adventure,Drama,Sci-Fi   \n",
       "The Intouchables   250   Biography,Comedy,Drama   \n",
       "Kimi no na wa       97  Animation,Drama,Fantasy   \n",
       "\n",
       "                                                        description  \\\n",
       "Title                                                                 \n",
       "The Dark Knight   When the menace known as the Joker wreaks havo...   \n",
       "Inception         A thief, who steals corporate secrets through ...   \n",
       "Interstellar      A team of explorers travel through a wormhole ...   \n",
       "The Intouchables  After he becomes a quadriplegic from a paragli...   \n",
       "Kimi no na wa     Two strangers find themselves linked in a biza...   \n",
       "\n",
       "                           director  \\\n",
       "Title                                 \n",
       "The Dark Knight   Christopher Nolan   \n",
       "Inception         Christopher Nolan   \n",
       "Interstellar      Christopher Nolan   \n",
       "The Intouchables    Olivier Nakache   \n",
       "Kimi no na wa        Makoto Shinkai   \n",
       "\n",
       "                                                             actors  year  \\\n",
       "Title                                                                       \n",
       "The Dark Knight   Christian Bale, Heath Ledger, Aaron Eckhart,Mi...  2008   \n",
       "Inception         Leonardo DiCaprio, Joseph Gordon-Levitt, Ellen...  2010   \n",
       "Interstellar      Matthew McConaughey, Anne Hathaway, Jessica Ch...  2014   \n",
       "The Intouchables  François Cluzet, Omar Sy, Anne Le Ny, Audrey F...  2011   \n",
       "Kimi no na wa     Ryûnosuke Kamiki, Mone Kamishiraishi, Ryô Nari...  2016   \n",
       "\n",
       "                  runtime  rating    votes  revenue  metascore  \n",
       "Title                                                           \n",
       "The Dark Knight       152     9.0  1791916   533.32       82.0  \n",
       "Inception             148     8.8  1583625   292.57       74.0  \n",
       "Interstellar          169     8.6  1047747   187.99       74.0  \n",
       "The Intouchables      112     8.6   557965    13.18       57.0  \n",
       "Kimi no na wa         106     8.6    34110     4.68       79.0  "
      ]
     },
     "execution_count": 23,
     "metadata": {},
     "output_type": "execute_result"
    }
   ],
   "source": [
    "top250.head()"
   ]
  },
  {
   "cell_type": "markdown",
   "id": "d1690553",
   "metadata": {},
   "source": [
    "### c. Random olarak 10 gözleme bakma    "
   ]
  },
  {
   "cell_type": "code",
   "execution_count": 31,
   "id": "cfc252b3",
   "metadata": {},
   "outputs": [
    {
     "data": {
      "text/html": [
       "<div>\n",
       "<style scoped>\n",
       "    .dataframe tbody tr th:only-of-type {\n",
       "        vertical-align: middle;\n",
       "    }\n",
       "\n",
       "    .dataframe tbody tr th {\n",
       "        vertical-align: top;\n",
       "    }\n",
       "\n",
       "    .dataframe thead th {\n",
       "        text-align: right;\n",
       "    }\n",
       "</style>\n",
       "<table border=\"1\" class=\"dataframe\">\n",
       "  <thead>\n",
       "    <tr style=\"text-align: right;\">\n",
       "      <th></th>\n",
       "      <th>rank</th>\n",
       "      <th>genre</th>\n",
       "      <th>description</th>\n",
       "      <th>director</th>\n",
       "      <th>actors</th>\n",
       "      <th>year</th>\n",
       "      <th>runtime</th>\n",
       "      <th>rating</th>\n",
       "      <th>votes</th>\n",
       "      <th>revenue</th>\n",
       "      <th>metascore</th>\n",
       "    </tr>\n",
       "    <tr>\n",
       "      <th>Title</th>\n",
       "      <th></th>\n",
       "      <th></th>\n",
       "      <th></th>\n",
       "      <th></th>\n",
       "      <th></th>\n",
       "      <th></th>\n",
       "      <th></th>\n",
       "      <th></th>\n",
       "      <th></th>\n",
       "      <th></th>\n",
       "      <th></th>\n",
       "    </tr>\n",
       "  </thead>\n",
       "  <tbody>\n",
       "    <tr>\n",
       "      <th>Ah-ga-ssi</th>\n",
       "      <td>146</td>\n",
       "      <td>Drama,Mystery,Romance</td>\n",
       "      <td>A woman is hired as a handmaiden to a Japanese...</td>\n",
       "      <td>Chan-wook Park</td>\n",
       "      <td>Min-hee Kim, Jung-woo Ha, Jin-woong Jo, So-ri ...</td>\n",
       "      <td>2016</td>\n",
       "      <td>144</td>\n",
       "      <td>8.1</td>\n",
       "      <td>33418</td>\n",
       "      <td>2.01</td>\n",
       "      <td>84.0</td>\n",
       "    </tr>\n",
       "    <tr>\n",
       "      <th>Little Miss Sunshine</th>\n",
       "      <td>574</td>\n",
       "      <td>Comedy,Drama</td>\n",
       "      <td>A family determined to get their young daughte...</td>\n",
       "      <td>Jonathan Dayton</td>\n",
       "      <td>Steve Carell, Toni Collette, Greg Kinnear, Abi...</td>\n",
       "      <td>2006</td>\n",
       "      <td>101</td>\n",
       "      <td>7.8</td>\n",
       "      <td>374044</td>\n",
       "      <td>59.89</td>\n",
       "      <td>80.0</td>\n",
       "    </tr>\n",
       "    <tr>\n",
       "      <th>The Curious Case of Benjamin Button</th>\n",
       "      <td>426</td>\n",
       "      <td>Drama,Fantasy,Romance</td>\n",
       "      <td>Tells the story of Benjamin Button, a man who ...</td>\n",
       "      <td>David Fincher</td>\n",
       "      <td>Brad Pitt, Cate Blanchett, Tilda Swinton, Juli...</td>\n",
       "      <td>2008</td>\n",
       "      <td>166</td>\n",
       "      <td>7.8</td>\n",
       "      <td>485075</td>\n",
       "      <td>127.49</td>\n",
       "      <td>70.0</td>\n",
       "    </tr>\n",
       "    <tr>\n",
       "      <th>The Conjuring</th>\n",
       "      <td>255</td>\n",
       "      <td>Horror,Mystery,Thriller</td>\n",
       "      <td>Paranormal investigators Ed and Lorraine Warre...</td>\n",
       "      <td>James Wan</td>\n",
       "      <td>Patrick Wilson, Vera Farmiga, Ron Livingston, ...</td>\n",
       "      <td>2013</td>\n",
       "      <td>112</td>\n",
       "      <td>7.5</td>\n",
       "      <td>330305</td>\n",
       "      <td>137.39</td>\n",
       "      <td>68.0</td>\n",
       "    </tr>\n",
       "    <tr>\n",
       "      <th>Jagten</th>\n",
       "      <td>456</td>\n",
       "      <td>Drama</td>\n",
       "      <td>A teacher lives a lonely life, all the while s...</td>\n",
       "      <td>Thomas Vinterberg</td>\n",
       "      <td>Mads Mikkelsen, Thomas Bo Larsen, Annika Wedde...</td>\n",
       "      <td>2012</td>\n",
       "      <td>115</td>\n",
       "      <td>8.3</td>\n",
       "      <td>192263</td>\n",
       "      <td>0.61</td>\n",
       "      <td>76.0</td>\n",
       "    </tr>\n",
       "    <tr>\n",
       "      <th>Frozen</th>\n",
       "      <td>175</td>\n",
       "      <td>Animation,Adventure,Comedy</td>\n",
       "      <td>When the newly crowned Queen Elsa accidentally...</td>\n",
       "      <td>Chris Buck</td>\n",
       "      <td>Kristen Bell, Idina Menzel, Jonathan Groff, Jo...</td>\n",
       "      <td>2013</td>\n",
       "      <td>102</td>\n",
       "      <td>7.5</td>\n",
       "      <td>451894</td>\n",
       "      <td>400.74</td>\n",
       "      <td>74.0</td>\n",
       "    </tr>\n",
       "    <tr>\n",
       "      <th>Room</th>\n",
       "      <td>144</td>\n",
       "      <td>Drama</td>\n",
       "      <td>A young boy is raised within the confines of a...</td>\n",
       "      <td>Lenny Abrahamson</td>\n",
       "      <td>Brie Larson, Jacob Tremblay, Sean Bridgers,Wen...</td>\n",
       "      <td>2015</td>\n",
       "      <td>118</td>\n",
       "      <td>8.2</td>\n",
       "      <td>224132</td>\n",
       "      <td>14.68</td>\n",
       "      <td>86.0</td>\n",
       "    </tr>\n",
       "    <tr>\n",
       "      <th>Deadpool</th>\n",
       "      <td>34</td>\n",
       "      <td>Action,Adventure,Comedy</td>\n",
       "      <td>A fast-talking mercenary with a morbid sense o...</td>\n",
       "      <td>Tim Miller</td>\n",
       "      <td>Ryan Reynolds, Morena Baccarin, T.J. Miller, E...</td>\n",
       "      <td>2016</td>\n",
       "      <td>108</td>\n",
       "      <td>8.0</td>\n",
       "      <td>627797</td>\n",
       "      <td>363.02</td>\n",
       "      <td>65.0</td>\n",
       "    </tr>\n",
       "    <tr>\n",
       "      <th>August Rush</th>\n",
       "      <td>761</td>\n",
       "      <td>Drama,Music</td>\n",
       "      <td>A drama with fairy tale elements, where an orp...</td>\n",
       "      <td>Kirsten Sheridan</td>\n",
       "      <td>Freddie Highmore, Keri Russell, Jonathan Rhys ...</td>\n",
       "      <td>2007</td>\n",
       "      <td>114</td>\n",
       "      <td>7.5</td>\n",
       "      <td>91229</td>\n",
       "      <td>31.66</td>\n",
       "      <td>38.0</td>\n",
       "    </tr>\n",
       "    <tr>\n",
       "      <th>Frantz</th>\n",
       "      <td>644</td>\n",
       "      <td>Drama,History,War</td>\n",
       "      <td>In the aftermath of WWI, a young German who gr...</td>\n",
       "      <td>François Ozon</td>\n",
       "      <td>Pierre Niney, Paula Beer, Ernst Stötzner, Mari...</td>\n",
       "      <td>2016</td>\n",
       "      <td>113</td>\n",
       "      <td>7.5</td>\n",
       "      <td>4304</td>\n",
       "      <td>0.86</td>\n",
       "      <td>73.0</td>\n",
       "    </tr>\n",
       "  </tbody>\n",
       "</table>\n",
       "</div>"
      ],
      "text/plain": [
       "                                     rank                       genre  \\\n",
       "Title                                                                   \n",
       "Ah-ga-ssi                             146       Drama,Mystery,Romance   \n",
       "Little Miss Sunshine                  574                Comedy,Drama   \n",
       "The Curious Case of Benjamin Button   426       Drama,Fantasy,Romance   \n",
       "The Conjuring                         255     Horror,Mystery,Thriller   \n",
       "Jagten                                456                       Drama   \n",
       "Frozen                                175  Animation,Adventure,Comedy   \n",
       "Room                                  144                       Drama   \n",
       "Deadpool                               34     Action,Adventure,Comedy   \n",
       "August Rush                           761                 Drama,Music   \n",
       "Frantz                                644           Drama,History,War   \n",
       "\n",
       "                                                                           description  \\\n",
       "Title                                                                                    \n",
       "Ah-ga-ssi                            A woman is hired as a handmaiden to a Japanese...   \n",
       "Little Miss Sunshine                 A family determined to get their young daughte...   \n",
       "The Curious Case of Benjamin Button  Tells the story of Benjamin Button, a man who ...   \n",
       "The Conjuring                        Paranormal investigators Ed and Lorraine Warre...   \n",
       "Jagten                               A teacher lives a lonely life, all the while s...   \n",
       "Frozen                               When the newly crowned Queen Elsa accidentally...   \n",
       "Room                                 A young boy is raised within the confines of a...   \n",
       "Deadpool                             A fast-talking mercenary with a morbid sense o...   \n",
       "August Rush                          A drama with fairy tale elements, where an orp...   \n",
       "Frantz                               In the aftermath of WWI, a young German who gr...   \n",
       "\n",
       "                                              director  \\\n",
       "Title                                                    \n",
       "Ah-ga-ssi                               Chan-wook Park   \n",
       "Little Miss Sunshine                   Jonathan Dayton   \n",
       "The Curious Case of Benjamin Button      David Fincher   \n",
       "The Conjuring                                James Wan   \n",
       "Jagten                               Thomas Vinterberg   \n",
       "Frozen                                      Chris Buck   \n",
       "Room                                  Lenny Abrahamson   \n",
       "Deadpool                                    Tim Miller   \n",
       "August Rush                           Kirsten Sheridan   \n",
       "Frantz                                   François Ozon   \n",
       "\n",
       "                                                                                actors  \\\n",
       "Title                                                                                    \n",
       "Ah-ga-ssi                            Min-hee Kim, Jung-woo Ha, Jin-woong Jo, So-ri ...   \n",
       "Little Miss Sunshine                 Steve Carell, Toni Collette, Greg Kinnear, Abi...   \n",
       "The Curious Case of Benjamin Button  Brad Pitt, Cate Blanchett, Tilda Swinton, Juli...   \n",
       "The Conjuring                        Patrick Wilson, Vera Farmiga, Ron Livingston, ...   \n",
       "Jagten                               Mads Mikkelsen, Thomas Bo Larsen, Annika Wedde...   \n",
       "Frozen                               Kristen Bell, Idina Menzel, Jonathan Groff, Jo...   \n",
       "Room                                 Brie Larson, Jacob Tremblay, Sean Bridgers,Wen...   \n",
       "Deadpool                             Ryan Reynolds, Morena Baccarin, T.J. Miller, E...   \n",
       "August Rush                          Freddie Highmore, Keri Russell, Jonathan Rhys ...   \n",
       "Frantz                               Pierre Niney, Paula Beer, Ernst Stötzner, Mari...   \n",
       "\n",
       "                                     year  runtime  rating   votes  revenue  \\\n",
       "Title                                                                         \n",
       "Ah-ga-ssi                            2016      144     8.1   33418     2.01   \n",
       "Little Miss Sunshine                 2006      101     7.8  374044    59.89   \n",
       "The Curious Case of Benjamin Button  2008      166     7.8  485075   127.49   \n",
       "The Conjuring                        2013      112     7.5  330305   137.39   \n",
       "Jagten                               2012      115     8.3  192263     0.61   \n",
       "Frozen                               2013      102     7.5  451894   400.74   \n",
       "Room                                 2015      118     8.2  224132    14.68   \n",
       "Deadpool                             2016      108     8.0  627797   363.02   \n",
       "August Rush                          2007      114     7.5   91229    31.66   \n",
       "Frantz                               2016      113     7.5    4304     0.86   \n",
       "\n",
       "                                     metascore  \n",
       "Title                                           \n",
       "Ah-ga-ssi                                 84.0  \n",
       "Little Miss Sunshine                      80.0  \n",
       "The Curious Case of Benjamin Button       70.0  \n",
       "The Conjuring                             68.0  \n",
       "Jagten                                    76.0  \n",
       "Frozen                                    74.0  \n",
       "Room                                      86.0  \n",
       "Deadpool                                  65.0  \n",
       "August Rush                               38.0  \n",
       "Frantz                                    73.0  "
      ]
     },
     "execution_count": 31,
     "metadata": {},
     "output_type": "execute_result"
    }
   ],
   "source": [
    "top250.sample(10)"
   ]
  },
  {
   "cell_type": "markdown",
   "id": "221583fe",
   "metadata": {},
   "source": [
    "### d. Veri setinin sütunlarına göz atma"
   ]
  },
  {
   "cell_type": "code",
   "execution_count": 32,
   "id": "373311b3",
   "metadata": {},
   "outputs": [
    {
     "data": {
      "text/plain": [
       "Index(['rank', 'genre', 'description', 'director', 'actors', 'year', 'runtime',\n",
       "       'rating', 'votes', 'revenue', 'metascore'],\n",
       "      dtype='object')"
      ]
     },
     "execution_count": 32,
     "metadata": {},
     "output_type": "execute_result"
    }
   ],
   "source": [
    "top250.columns"
   ]
  },
  {
   "cell_type": "code",
   "execution_count": 33,
   "id": "4657efe6",
   "metadata": {},
   "outputs": [
    {
     "data": {
      "text/plain": [
       "['rank',\n",
       " 'genre',\n",
       " 'description',\n",
       " 'director',\n",
       " 'actors',\n",
       " 'year',\n",
       " 'runtime',\n",
       " 'rating',\n",
       " 'votes',\n",
       " 'revenue',\n",
       " 'metascore']"
      ]
     },
     "execution_count": 33,
     "metadata": {},
     "output_type": "execute_result"
    }
   ],
   "source": [
    "[i for i in top250]"
   ]
  },
  {
   "cell_type": "markdown",
   "id": "3336860e",
   "metadata": {},
   "source": [
    "### e. Veri setinin özet istatistiklerini görüntüleme"
   ]
  },
  {
   "cell_type": "code",
   "execution_count": 39,
   "id": "0ead15cc",
   "metadata": {},
   "outputs": [],
   "source": [
    "pd.set_option('display.float_format', '{:.2f}'.format)"
   ]
  },
  {
   "cell_type": "code",
   "execution_count": 40,
   "id": "60b9403f",
   "metadata": {},
   "outputs": [
    {
     "data": {
      "text/html": [
       "<div>\n",
       "<style scoped>\n",
       "    .dataframe tbody tr th:only-of-type {\n",
       "        vertical-align: middle;\n",
       "    }\n",
       "\n",
       "    .dataframe tbody tr th {\n",
       "        vertical-align: top;\n",
       "    }\n",
       "\n",
       "    .dataframe thead th {\n",
       "        text-align: right;\n",
       "    }\n",
       "</style>\n",
       "<table border=\"1\" class=\"dataframe\">\n",
       "  <thead>\n",
       "    <tr style=\"text-align: right;\">\n",
       "      <th></th>\n",
       "      <th>count</th>\n",
       "      <th>mean</th>\n",
       "      <th>std</th>\n",
       "      <th>min</th>\n",
       "      <th>25%</th>\n",
       "      <th>50%</th>\n",
       "      <th>75%</th>\n",
       "      <th>max</th>\n",
       "    </tr>\n",
       "  </thead>\n",
       "  <tbody>\n",
       "    <tr>\n",
       "      <th>rank</th>\n",
       "      <td>250.00</td>\n",
       "      <td>393.25</td>\n",
       "      <td>276.71</td>\n",
       "      <td>1.00</td>\n",
       "      <td>150.25</td>\n",
       "      <td>338.00</td>\n",
       "      <td>631.25</td>\n",
       "      <td>992.00</td>\n",
       "    </tr>\n",
       "    <tr>\n",
       "      <th>year</th>\n",
       "      <td>250.00</td>\n",
       "      <td>2011.93</td>\n",
       "      <td>3.33</td>\n",
       "      <td>2006.00</td>\n",
       "      <td>2009.00</td>\n",
       "      <td>2012.00</td>\n",
       "      <td>2015.00</td>\n",
       "      <td>2016.00</td>\n",
       "    </tr>\n",
       "    <tr>\n",
       "      <th>runtime</th>\n",
       "      <td>250.00</td>\n",
       "      <td>123.49</td>\n",
       "      <td>21.44</td>\n",
       "      <td>66.00</td>\n",
       "      <td>107.00</td>\n",
       "      <td>120.50</td>\n",
       "      <td>137.00</td>\n",
       "      <td>187.00</td>\n",
       "    </tr>\n",
       "    <tr>\n",
       "      <th>rating</th>\n",
       "      <td>250.00</td>\n",
       "      <td>7.80</td>\n",
       "      <td>0.31</td>\n",
       "      <td>7.30</td>\n",
       "      <td>7.50</td>\n",
       "      <td>7.80</td>\n",
       "      <td>8.00</td>\n",
       "      <td>9.00</td>\n",
       "    </tr>\n",
       "    <tr>\n",
       "      <th>votes</th>\n",
       "      <td>250.00</td>\n",
       "      <td>324774.82</td>\n",
       "      <td>258762.03</td>\n",
       "      <td>61.00</td>\n",
       "      <td>137304.25</td>\n",
       "      <td>292594.50</td>\n",
       "      <td>450024.75</td>\n",
       "      <td>1791916.00</td>\n",
       "    </tr>\n",
       "    <tr>\n",
       "      <th>revenue</th>\n",
       "      <td>250.00</td>\n",
       "      <td>116.81</td>\n",
       "      <td>136.84</td>\n",
       "      <td>0.01</td>\n",
       "      <td>19.29</td>\n",
       "      <td>73.58</td>\n",
       "      <td>168.89</td>\n",
       "      <td>936.63</td>\n",
       "    </tr>\n",
       "    <tr>\n",
       "      <th>metascore</th>\n",
       "      <td>250.00</td>\n",
       "      <td>73.50</td>\n",
       "      <td>12.24</td>\n",
       "      <td>34.00</td>\n",
       "      <td>67.00</td>\n",
       "      <td>74.00</td>\n",
       "      <td>81.00</td>\n",
       "      <td>100.00</td>\n",
       "    </tr>\n",
       "  </tbody>\n",
       "</table>\n",
       "</div>"
      ],
      "text/plain": [
       "           count      mean       std     min       25%       50%       75%  \\\n",
       "rank      250.00    393.25    276.71    1.00    150.25    338.00    631.25   \n",
       "year      250.00   2011.93      3.33 2006.00   2009.00   2012.00   2015.00   \n",
       "runtime   250.00    123.49     21.44   66.00    107.00    120.50    137.00   \n",
       "rating    250.00      7.80      0.31    7.30      7.50      7.80      8.00   \n",
       "votes     250.00 324774.82 258762.03   61.00 137304.25 292594.50 450024.75   \n",
       "revenue   250.00    116.81    136.84    0.01     19.29     73.58    168.89   \n",
       "metascore 250.00     73.50     12.24   34.00     67.00     74.00     81.00   \n",
       "\n",
       "                 max  \n",
       "rank          992.00  \n",
       "year         2016.00  \n",
       "runtime       187.00  \n",
       "rating          9.00  \n",
       "votes     1791916.00  \n",
       "revenue       936.63  \n",
       "metascore     100.00  "
      ]
     },
     "execution_count": 40,
     "metadata": {},
     "output_type": "execute_result"
    }
   ],
   "source": [
    "top250.describe().T"
   ]
  },
  {
   "cell_type": "markdown",
   "id": "38b0a770",
   "metadata": {},
   "source": [
    "## 7. Verilerin doğruluğunun ve eksik değerlerinin olup olmadığını kontrol edin.\n",
    "\n",
    "Not: 4.madde ile benzer şelkilde kontrol edebilirsiniz."
   ]
  },
  {
   "cell_type": "code",
   "execution_count": 41,
   "id": "1e6bfeb3",
   "metadata": {},
   "outputs": [
    {
     "data": {
      "text/plain": [
       "rank           0\n",
       "genre          0\n",
       "description    0\n",
       "director       0\n",
       "actors         0\n",
       "year           0\n",
       "runtime        0\n",
       "rating         0\n",
       "votes          0\n",
       "revenue        0\n",
       "metascore      0\n",
       "dtype: int64"
      ]
     },
     "execution_count": 41,
     "metadata": {},
     "output_type": "execute_result"
    }
   ],
   "source": [
    "top250.isnull().sum()"
   ]
  },
  {
   "cell_type": "markdown",
   "id": "30fffe1a",
   "metadata": {},
   "source": [
    "## 8. Verileri görselleştirme:"
   ]
  },
  {
   "cell_type": "markdown",
   "id": "4a3296fd",
   "metadata": {},
   "source": [
    "### a. Matplotlib kütüphanesi kullanarak, yıllara göre filmlerin sayısını gösteren bir çizgi grafik çizin."
   ]
  },
  {
   "cell_type": "markdown",
   "id": "0bf52b72",
   "metadata": {},
   "source": [
    "1. **movies_per_year = top250['year'].value_counts().sort_index()**\n",
    "   - top250['year'].value_counts(): top250 DataFrame’indeki 'year' sütununun her bir benzersiz değerini sayar. Yani her bir yılda kaç film olduğunu hesaplar.\n",
    "   - .sort_index(): Bu sayımları yıl değerlerine göre sıralar.\n",
    "\n",
    "2. **plt.plot(movies_per_year.index, movies_per_year.values, color='blue')**\n",
    "   - plt.plot(): matplotlib.pyplot kütüphanesinin bir fonksiyonudur ve çizgi grafiği çizer.\n",
    "   - movies_per_year.index: Yıl değerlerini x eksenine yerleştirir.\n",
    "   - movies_per_year.values: Her bir yıldaki film sayısını y eksenine yerleştirir.\n",
    "   - color='blue': Çizginin rengini mavi yapar."
   ]
  },
  {
   "cell_type": "code",
   "execution_count": 43,
   "id": "8216b83d",
   "metadata": {},
   "outputs": [
    {
     "data": {
      "text/plain": [
       "2006    17\n",
       "2007    20\n",
       "2008    12\n",
       "2009    21\n",
       "2010    18\n",
       "2011    20\n",
       "2012    19\n",
       "2013    21\n",
       "2014    29\n",
       "2015    19\n",
       "2016    54\n",
       "Name: year, dtype: int64"
      ]
     },
     "execution_count": 43,
     "metadata": {},
     "output_type": "execute_result"
    }
   ],
   "source": [
    "movies_per_year = top250['year'].value_counts().sort_index()\n",
    "movies_per_year"
   ]
  },
  {
   "cell_type": "code",
   "execution_count": 45,
   "id": "750c4b00",
   "metadata": {},
   "outputs": [
    {
     "data": {
      "text/plain": [
       "[<matplotlib.lines.Line2D at 0x1ea0638e830>]"
      ]
     },
     "execution_count": 45,
     "metadata": {},
     "output_type": "execute_result"
    },
    {
     "data": {
      "image/png": "[encoded data removed]",
      "text/plain": [
       "<Figure size 640x480 with 1 Axes>"
      ]
     },
     "metadata": {},
     "output_type": "display_data"
    }
   ],
   "source": [
    "plt.plot(movies_per_year.index, movies_per_year.values, color='red')"
   ]
  },
  {
   "cell_type": "code",
   "execution_count": 46,
   "id": "f3f8d307",
   "metadata": {},
   "outputs": [
    {
     "data": {
      "text/plain": [
       "Text(0, 0.5, 'Film Sayıları')"
      ]
     },
     "execution_count": 46,
     "metadata": {},
     "output_type": "execute_result"
    },
    {
     "data": {
      "image/png": "[encoded data removed]",
      "text/plain": [
       "<Figure size 640x480 with 1 Axes>"
      ]
     },
     "metadata": {},
     "output_type": "display_data"
    }
   ],
   "source": [
    "plt.plot(movies_per_year.index, movies_per_year.values, color='red')\n",
    "\n",
    "# Eksen isimlerini ekleme\n",
    "plt.xlabel('Yıllar')\n",
    "plt.ylabel('Film Sayıları')"
   ]
  },
  {
   "cell_type": "code",
   "execution_count": 47,
   "id": "3247d17e",
   "metadata": {},
   "outputs": [
    {
     "data": {
      "text/plain": [
       "Text(0.5, 1.0, 'Yıllara Göre Filmlerin Sayısı')"
      ]
     },
     "execution_count": 47,
     "metadata": {},
     "output_type": "execute_result"
    },
    {
     "data": {
      "image/png": "[encoded data removed]",
      "text/plain": [
       "<Figure size 640x480 with 1 Axes>"
      ]
     },
     "metadata": {},
     "output_type": "display_data"
    }
   ],
   "source": [
    "plt.plot(movies_per_year.index, movies_per_year.values, color='red')\n",
    "\n",
    "# Eksen isimlerini ekleme\n",
    "plt.xlabel('Yıllar')\n",
    "plt.ylabel('Film Sayıları')\n",
    "\n",
    "# Başlık ekleme\n",
    "plt.title('Yıllara Göre Filmlerin Sayısı')"
   ]
  },
  {
   "cell_type": "code",
   "execution_count": 52,
   "id": "3858aae5",
   "metadata": {},
   "outputs": [
    {
     "data": {
      "image/png": "[encoded data removed]",
      "text/plain": [
       "<Figure size 640x480 with 1 Axes>"
      ]
     },
     "metadata": {},
     "output_type": "display_data"
    }
   ],
   "source": [
    "movies_per_year = top250['year'].value_counts().sort_index()\n",
    "\n",
    "plt.plot(movies_per_year.index, movies_per_year.values, color='red')\n",
    "\n",
    "# Eksen isimlerini ekleme\n",
    "plt.xlabel('Yıllar')\n",
    "plt.ylabel('Film Sayıları')\n",
    "\n",
    "# Başlık ekleme\n",
    "plt.title('Yıllara Göre Filmlerin Sayısı')\n",
    "\n",
    "# Line üzerine sayıları yazma\n",
    "for x, y in zip(movies_per_year.index, movies_per_year.values):\n",
    "    plt.text(x, y + 0.15, str(y), ha='center', va='bottom', fontsize=9)\n",
    "\n",
    "plt.show()"
   ]
  },
  {
   "cell_type": "code",
   "execution_count": 32,
   "id": "2d5f755f",
   "metadata": {
    "ExecuteTime": {
     "end_time": "2023-09-24T15:09:02.426032Z",
     "start_time": "2023-09-24T15:09:02.064822Z"
    }
   },
   "outputs": [
    {
     "data": {
      "image/png": "[encoded data removed]",
      "text/plain": [
       "<Figure size 640x480 with 1 Axes>"
      ]
     },
     "metadata": {},
     "output_type": "display_data"
    }
   ],
   "source": []
  },
  {
   "cell_type": "markdown",
   "id": "cedbea40",
   "metadata": {},
   "source": [
    "### b. Seaborn kütüphanesi kullanarak, en çok film yapılan 10 türü bar grafiğiyle gösterin."
   ]
  },
  {
   "cell_type": "markdown",
   "id": "95b4e760",
   "metadata": {},
   "source": [
    "top250 DataFrame’in 'genre' sütununu kullanarak her bir benzersiz film türünün kaç kere geçtiğini sayıyoruz.\n",
    "\n",
    "1. **top250[\"genre\"].str.split(\",\", expand=True)**\n",
    "   - str.split(\",\", expand=True): Bu metod, her bir satırdaki 'genre' sütununu virgülle ayırır ve ayrı sütunlara böler. expand=True parametresi, ayrılmış değerleri yeni sütunlara yerleştirir.\n",
    "   \n",
    "2. **.stack()**\n",
    "   - Bu metod, çoklu sütunları tek bir sütuna yığar (stack). Yani, her bir film türünü tek bir sütunda sıralar.\n",
    "   \n",
    "3. **.value_counts()**\n",
    "   - Bu metod, stack edilmiş sütundaki her bir benzersiz film türünü sayar.\n",
    "\n",
    "\n",
    "\n",
    "```\n",
    "0    Action,Adventure\n",
    "1    Adventure,Sci-Fi\n",
    "2    Horror,Thriller\n",
    "```\n",
    "\n",
    "Bu kod parçacığı şu çıktıyı verecektir:\n",
    "\n",
    "```\n",
    "Adventure    2\n",
    "Action       1\n",
    "Sci-Fi       1\n",
    "Horror       1\n",
    "Thriller     1\n",
    "```"
   ]
  },
  {
   "cell_type": "code",
   "execution_count": 53,
   "id": "96aee33f",
   "metadata": {},
   "outputs": [
    {
     "data": {
      "text/html": [
       "<div>\n",
       "<style scoped>\n",
       "    .dataframe tbody tr th:only-of-type {\n",
       "        vertical-align: middle;\n",
       "    }\n",
       "\n",
       "    .dataframe tbody tr th {\n",
       "        vertical-align: top;\n",
       "    }\n",
       "\n",
       "    .dataframe thead th {\n",
       "        text-align: right;\n",
       "    }\n",
       "</style>\n",
       "<table border=\"1\" class=\"dataframe\">\n",
       "  <thead>\n",
       "    <tr style=\"text-align: right;\">\n",
       "      <th></th>\n",
       "      <th>0</th>\n",
       "      <th>1</th>\n",
       "      <th>2</th>\n",
       "    </tr>\n",
       "    <tr>\n",
       "      <th>Title</th>\n",
       "      <th></th>\n",
       "      <th></th>\n",
       "      <th></th>\n",
       "    </tr>\n",
       "  </thead>\n",
       "  <tbody>\n",
       "    <tr>\n",
       "      <th>The Dark Knight</th>\n",
       "      <td>Action</td>\n",
       "      <td>Crime</td>\n",
       "      <td>Drama</td>\n",
       "    </tr>\n",
       "    <tr>\n",
       "      <th>Inception</th>\n",
       "      <td>Action</td>\n",
       "      <td>Adventure</td>\n",
       "      <td>Sci-Fi</td>\n",
       "    </tr>\n",
       "    <tr>\n",
       "      <th>Interstellar</th>\n",
       "      <td>Adventure</td>\n",
       "      <td>Drama</td>\n",
       "      <td>Sci-Fi</td>\n",
       "    </tr>\n",
       "    <tr>\n",
       "      <th>The Intouchables</th>\n",
       "      <td>Biography</td>\n",
       "      <td>Comedy</td>\n",
       "      <td>Drama</td>\n",
       "    </tr>\n",
       "    <tr>\n",
       "      <th>Kimi no na wa</th>\n",
       "      <td>Animation</td>\n",
       "      <td>Drama</td>\n",
       "      <td>Fantasy</td>\n",
       "    </tr>\n",
       "    <tr>\n",
       "      <th>...</th>\n",
       "      <td>...</td>\n",
       "      <td>...</td>\n",
       "      <td>...</td>\n",
       "    </tr>\n",
       "    <tr>\n",
       "      <th>Patriots Day</th>\n",
       "      <td>Drama</td>\n",
       "      <td>History</td>\n",
       "      <td>Thriller</td>\n",
       "    </tr>\n",
       "    <tr>\n",
       "      <th>Me Before You</th>\n",
       "      <td>Drama</td>\n",
       "      <td>Romance</td>\n",
       "      <td>None</td>\n",
       "    </tr>\n",
       "    <tr>\n",
       "      <th>Mission: Impossible - Rogue Nation</th>\n",
       "      <td>Action</td>\n",
       "      <td>Adventure</td>\n",
       "      <td>Thriller</td>\n",
       "    </tr>\n",
       "    <tr>\n",
       "      <th>Blue Valentine</th>\n",
       "      <td>Drama</td>\n",
       "      <td>Romance</td>\n",
       "      <td>None</td>\n",
       "    </tr>\n",
       "    <tr>\n",
       "      <th>I Origins</th>\n",
       "      <td>Drama</td>\n",
       "      <td>Romance</td>\n",
       "      <td>Sci-Fi</td>\n",
       "    </tr>\n",
       "  </tbody>\n",
       "</table>\n",
       "<p>250 rows × 3 columns</p>\n",
       "</div>"
      ],
      "text/plain": [
       "                                            0          1         2\n",
       "Title                                                             \n",
       "The Dark Knight                        Action      Crime     Drama\n",
       "Inception                              Action  Adventure    Sci-Fi\n",
       "Interstellar                        Adventure      Drama    Sci-Fi\n",
       "The Intouchables                    Biography     Comedy     Drama\n",
       "Kimi no na wa                       Animation      Drama   Fantasy\n",
       "...                                       ...        ...       ...\n",
       "Patriots Day                            Drama    History  Thriller\n",
       "Me Before You                           Drama    Romance      None\n",
       "Mission: Impossible - Rogue Nation     Action  Adventure  Thriller\n",
       "Blue Valentine                          Drama    Romance      None\n",
       "I Origins                               Drama    Romance    Sci-Fi\n",
       "\n",
       "[250 rows x 3 columns]"
      ]
     },
     "execution_count": 53,
     "metadata": {},
     "output_type": "execute_result"
    }
   ],
   "source": [
    "top250[\"genre\"].str.split(\",\", expand=True)"
   ]
  },
  {
   "cell_type": "code",
   "execution_count": 54,
   "id": "f020f088",
   "metadata": {},
   "outputs": [
    {
     "data": {
      "text/plain": [
       "Title             \n",
       "The Dark Knight  0       Action\n",
       "                 1        Crime\n",
       "                 2        Drama\n",
       "Inception        0       Action\n",
       "                 1    Adventure\n",
       "                        ...    \n",
       "Blue Valentine   0        Drama\n",
       "                 1      Romance\n",
       "I Origins        0        Drama\n",
       "                 1      Romance\n",
       "                 2       Sci-Fi\n",
       "Length: 665, dtype: object"
      ]
     },
     "execution_count": 54,
     "metadata": {},
     "output_type": "execute_result"
    }
   ],
   "source": [
    "top250[\"genre\"].str.split(\",\", expand=True).stack()"
   ]
  },
  {
   "cell_type": "code",
   "execution_count": 55,
   "id": "02e4e44e",
   "metadata": {},
   "outputs": [
    {
     "data": {
      "text/plain": [
       "Drama        175\n",
       "Adventure     70\n",
       "Comedy        58\n",
       "Action        54\n",
       "Thriller      38\n",
       "Biography     36\n",
       "Crime         34\n",
       "Sci-Fi        30\n",
       "Mystery       30\n",
       "Romance       29\n",
       "Fantasy       28\n",
       "Animation     24\n",
       "History       14\n",
       "Family        12\n",
       "Horror         8\n",
       "War            7\n",
       "Sport          7\n",
       "Music          6\n",
       "Musical        3\n",
       "Western        2\n",
       "dtype: int64"
      ]
     },
     "execution_count": 55,
     "metadata": {},
     "output_type": "execute_result"
    }
   ],
   "source": [
    "top250[\"genre\"].str.split(\",\", expand=True).stack().value_counts()"
   ]
  },
  {
   "cell_type": "code",
   "execution_count": 56,
   "id": "30496aa0",
   "metadata": {},
   "outputs": [
    {
     "data": {
      "text/plain": [
       "Drama        175\n",
       "Adventure     70\n",
       "Comedy        58\n",
       "Action        54\n",
       "Thriller      38\n",
       "Biography     36\n",
       "Crime         34\n",
       "Sci-Fi        30\n",
       "Mystery       30\n",
       "Romance       29\n",
       "dtype: int64"
      ]
     },
     "execution_count": 56,
     "metadata": {},
     "output_type": "execute_result"
    }
   ],
   "source": [
    "top250[\"genre\"].str.split(\",\", expand=True).stack().value_counts()[:10]"
   ]
  },
  {
   "cell_type": "code",
   "execution_count": 60,
   "id": "a52e40f3",
   "metadata": {},
   "outputs": [],
   "source": [
    "top_genres = top250[\"genre\"].str.split(\",\", expand=True).stack().value_counts()[:10]"
   ]
  },
  {
   "cell_type": "markdown",
   "id": "07a3a4d2",
   "metadata": {},
   "source": [
    "genre_count değişkenini kullanarak en popüler 10 film türünü bar grafiği şeklinde çiziyoruz. \n",
    "\n",
    "1. **top_genres = genre_count[:10]**\n",
    "   - Bu satır, genre_count değişkeninden ilk 10 elemanı alır (en yüksek sayıya sahip olan 10 tür).\n",
    "\n",
    "2. **sns.set_style(\"whitegrid\")**\n",
    "   - sns (Seaborn kütüphanesi) ile grafik stilini beyaz ızgaralı olarak ayarlar.\n",
    "\n",
    "3. **plt.figure(figsize=(10,6))**\n",
    "   - Grafiğin boyutunu belirler: genişlik 10 birim ve yükseklik 6 birim.\n",
    "\n",
    "4. **ax = sns.barplot(x=top_genres.values, y=top_genres.index, palette=\"Blues_d\")**\n",
    "   - sns.barplot(): Seaborn kütüphanesinin bir fonksiyonudur ve bar grafiği çizer.\n",
    "   - x=top_genres.values: x eksenine film sayısını yerleştirir.\n",
    "   - y=top_genres.index: y eksenine film türlerini yerleştirir.\n",
    "   - palette=\"Blues_d\": Grafiğin renk paletini belirler.\n",
    "\n",
    "5. **ax.set(xlabel='Number of Movies', ylabel='Genres')**\n",
    "   - x ekseninin etiketini 'Number of Movies' olarak, y ekseninin etiketini 'Genres' olarak ayarlar.\n",
    "\n",
    "6. **plt.title(\"Top 10 Movie Genres\")**\n",
    "   - Grafiğin başlığını 'Top 10 Movie Genres' olarak ayarlar.\n",
    "\n",
    "7. **plt.show()**\n",
    "   - Oluşturulan grafiği gösterir."
   ]
  },
  {
   "cell_type": "code",
   "execution_count": 68,
   "id": "9cfb065f",
   "metadata": {
    "ExecuteTime": {
     "end_time": "2023-09-24T15:09:03.147386Z",
     "start_time": "2023-09-24T15:09:02.468797Z"
    }
   },
   "outputs": [
    {
     "data": {
      "image/png": "[encoded data removed]",
      "text/plain": [
       "<Figure size 1200x600 with 1 Axes>"
      ]
     },
     "metadata": {},
     "output_type": "display_data"
    }
   ],
   "source": [
    "# En çok film yapılan ilk 10 türü seç\n",
    "top_genres = top250[\"genre\"].str.split(\",\", expand=True).stack().value_counts()[:10]\n",
    "\n",
    "# Bar grafiği oluştur\n",
    "sns.set_style(\"whitegrid\")\n",
    "plt.figure(figsize=(12,6))\n",
    "ax = sns.barplot(x=top_genres.values, y=top_genres.index, palette=\"colorblind\")\n",
    "\n",
    "for container in ax.containers:\n",
    "    ax.bar_label(container, fmt='%d', label_type='edge', fontsize=12, color='red', padding=3)\n",
    "    \n",
    "ax.set(xlabel='Number of Movies', ylabel='Genres')\n",
    "plt.title(\"Top 10 Movie Genres\")\n",
    "plt.show()"
   ]
  },
  {
   "cell_type": "code",
   "execution_count": 69,
   "id": "d855a96c",
   "metadata": {},
   "outputs": [
    {
     "data": {
      "text/plain": [
       "Title\n",
       "The Dark Knight                              Action,Crime,Drama\n",
       "Inception                               Action,Adventure,Sci-Fi\n",
       "Interstellar                             Adventure,Drama,Sci-Fi\n",
       "The Intouchables                         Biography,Comedy,Drama\n",
       "Kimi no na wa                           Animation,Drama,Fantasy\n",
       "                                                ...            \n",
       "Patriots Day                             Drama,History,Thriller\n",
       "Me Before You                                     Drama,Romance\n",
       "Mission: Impossible - Rogue Nation    Action,Adventure,Thriller\n",
       "Blue Valentine                                    Drama,Romance\n",
       "I Origins                                  Drama,Romance,Sci-Fi\n",
       "Name: genre, Length: 250, dtype: object"
      ]
     },
     "execution_count": 69,
     "metadata": {},
     "output_type": "execute_result"
    }
   ],
   "source": [
    "top250.genre"
   ]
  },
  {
   "cell_type": "markdown",
   "id": "6521c319",
   "metadata": {},
   "source": [
    "### c. Matplotlib ve Plotly kütüphanesi kullanarak, film türlerine göre filmlerin sayısını gösteren iki ayrı pasta grafik çizin."
   ]
  },
  {
   "cell_type": "markdown",
   "id": "bbd744a6",
   "metadata": {},
   "source": [
    "En çok yapılan 10 film türünü seçip ve bu türlerin sayılarına göre bir pie chart çiziyoruz. \n",
    "\n",
    "**top_genres = top250['genre'].value_counts().head(10)**\n",
    "Bu satır, top250 DataFrame’inin 'genre' sütunundaki türleri sayar (value_counts()) ve en çok yapılan 10 türü seçer (head(10)).\n",
    "\n",
    "**fig = px.pie(values=top_genres.values, names=top_genres.index,\n",
    "             title='En çok yapılan 10 film türüne göre filmlerin sayısı',\n",
    "             labels={'value': 'Sayı', 'names': 'Türler'},\n",
    "             hover_data={'value': top_genres.values, 'names': top_genres.index},\n",
    "             hole=0.5)**\n",
    "\n",
    "- values=top_genres.values: Dilimlerin büyüklüğü için kullanılan değerler.\n",
    "- names=top_genres.index: Dilimlerin etiketleri.\n",
    "- title: Grafik başlığı.\n",
    "- labels: Eksen etiketleri.\n",
    "- hover_data: Fareyle üzerine gelindiğinde gösterilen bilgiler.\n",
    "- hole=0.5: Grafiğin ortasındaki boşluk oranı, 0.5 olduğunda yarı yarıya bir boşluk oluşturur.\n",
    "\n",
    "**fig.update_traces(textposition='inside', textinfo='percent+value', textfont_size=12)**\n",
    "\n",
    "Bu satır, her bir dilimin üzerine yüzde ve sayıyı yazdırır.\n",
    "\n",
    "- textposition='inside': Yazıların dilimlerin içine yazılmasını sağlar.\n",
    "- textinfo='percent+value': Hem yüzdeyi hem de sayıyı gösterir.\n",
    "- textfont_size=12: Yazı büyüklüğünü ayarlar.\n",
    "\n",
    "**fig.update_traces(marker=dict(line=dict(color='white', width=2)))**\n",
    "\n",
    "Bu satır, her bir dilim arasına beyaz renkte kenar çizgileri ekler. width=2 çizgi kalınlığını belirtir.\n",
    "\n",
    "**fig.show()**\n",
    "\n",
    "Bu satır, oluşturulan grafiği gösterir."
   ]
  },
  {
   "cell_type": "code",
   "execution_count": 72,
   "id": "6c889c3c",
   "metadata": {},
   "outputs": [
    {
     "data": {
      "text/plain": [
       "Action,Adventure,Sci-Fi       13\n",
       "Animation,Adventure,Comedy    12\n",
       "Drama                         12\n",
       "Comedy,Drama                  11\n",
       "Crime,Drama,Mystery            9\n",
       "Drama,Romance                  9\n",
       "Biography,Drama                7\n",
       "Crime,Drama,Thriller           7\n",
       "Comedy,Drama,Romance           7\n",
       "Biography,Drama,History        6\n",
       "Name: genre, dtype: int64"
      ]
     },
     "execution_count": 72,
     "metadata": {},
     "output_type": "execute_result"
    }
   ],
   "source": [
    "top250['genre'].value_counts().head(10)"
   ]
  },
  {
   "cell_type": "code",
   "execution_count": 73,
   "id": "f2b18306",
   "metadata": {},
   "outputs": [
    {
     "data": {
      "application/vnd.plotly.v1+json": {
       "config": {
        "plotlyServerURL": "https://plot.ly"
       },
       "data": [
        {
         "customdata": [
          [
           13,
           "Action,Adventure,Sci-Fi"
          ],
          [
           12,
           "Animation,Adventure,Comedy"
          ],
          [
           12,
           "Drama"
          ],
          [
           11,
           "Comedy,Drama"
          ],
          [
           9,
           "Crime,Drama,Mystery"
          ],
          [
           9,
           "Drama,Romance"
          ],
          [
           7,
           "Biography,Drama"
          ],
          [
           7,
           "Crime,Drama,Thriller"
          ],
          [
           7,
           "Comedy,Drama,Romance"
          ],
          [
           6,
           "Biography,Drama,History"
          ]
         ],
         "domain": {
          "x": [
           0,
           1
          ],
          "y": [
           0,
           1
          ]
         },
         "hole": 0.5,
         "hovertemplate": "Türler=%{customdata[1]}<br>value=%{value}<br>Sayı=%{customdata[0]}<extra></extra>",
         "labels": [
          "Action,Adventure,Sci-Fi",
          "Animation,Adventure,Comedy",
          "Drama",
          "Comedy,Drama",
          "Crime,Drama,Mystery",
          "Drama,Romance",
          "Biography,Drama",
          "Crime,Drama,Thriller",
          "Comedy,Drama,Romance",
          "Biography,Drama,History"
         ],
         "legendgroup": "",
         "marker": {
          "line": {
           "color": "white",
           "width": 2
          }
         },
         "name": "",
         "showlegend": true,
         "textfont": {
          "size": 12
         },
         "textinfo": "percent+value",
         "textposition": "inside",
         "type": "pie",
         "values": [
          13,
          12,
          12,
          11,
          9,
          9,
          7,
          7,
          7,
          6
         ]
        }
       ],
       "layout": {
        "legend": {
         "tracegroupgap": 0
        },
        "template": {
         "data": {
          "bar": [
           {
            "error_x": {
             "color": "#2a3f5f"
            },
            "error_y": {
             "color": "#2a3f5f"
            },
            "marker": {
             "line": {
              "color": "#E5ECF6",
              "width": 0.5
             },
             "pattern": {
              "fillmode": "overlay",
              "size": 10,
              "solidity": 0.2
             }
            },
            "type": "bar"
           }
          ],
          "barpolar": [
           {
            "marker": {
             "line": {
              "color": "#E5ECF6",
              "width": 0.5
             },
             "pattern": {
              "fillmode": "overlay",
              "size": 10,
              "solidity": 0.2
             }
            },
            "type": "barpolar"
           }
          ],
          "carpet": [
           {
            "aaxis": {
             "endlinecolor": "#2a3f5f",
             "gridcolor": "white",
             "linecolor": "white",
             "minorgridcolor": "white",
             "startlinecolor": "#2a3f5f"
            },
            "baxis": {
             "endlinecolor": "#2a3f5f",
             "gridcolor": "white",
             "linecolor": "white",
             "minorgridcolor": "white",
             "startlinecolor": "#2a3f5f"
            },
            "type": "carpet"
           }
          ],
          "choropleth": [
           {
            "colorbar": {
             "outlinewidth": 0,
             "ticks": ""
            },
            "type": "choropleth"
           }
          ],
          "contour": [
           {
            "colorbar": {
             "outlinewidth": 0,
             "ticks": ""
            },
            "colorscale": [
             [
              0,
              "#0d0887"
             ],
             [
              0.1111111111111111,
              "#46039f"
             ],
             [
              0.2222222222222222,
              "#7201a8"
             ],
             [
              0.3333333333333333,
              "#9c179e"
             ],
             [
              0.4444444444444444,
              "#bd3786"
             ],
             [
              0.5555555555555556,
              "#d8576b"
             ],
             [
              0.6666666666666666,
              "#ed7953"
             ],
             [
              0.7777777777777778,
              "#fb9f3a"
             ],
             [
              0.8888888888888888,
              "#fdca26"
             ],
             [
              1,
              "#f0f921"
             ]
            ],
            "type": "contour"
           }
          ],
          "contourcarpet": [
           {
            "colorbar": {
             "outlinewidth": 0,
             "ticks": ""
            },
            "type": "contourcarpet"
           }
          ],
          "heatmap": [
           {
            "colorbar": {
             "outlinewidth": 0,
             "ticks": ""
            },
            "colorscale": [
             [
              0,
              "#0d0887"
             ],
             [
              0.1111111111111111,
              "#46039f"
             ],
             [
              0.2222222222222222,
              "#7201a8"
             ],
             [
              0.3333333333333333,
              "#9c179e"
             ],
             [
              0.4444444444444444,
              "#bd3786"
             ],
             [
              0.5555555555555556,
              "#d8576b"
             ],
             [
              0.6666666666666666,
              "#ed7953"
             ],
             [
              0.7777777777777778,
              "#fb9f3a"
             ],
             [
              0.8888888888888888,
              "#fdca26"
             ],
             [
              1,
              "#f0f921"
             ]
            ],
            "type": "heatmap"
           }
          ],
          "heatmapgl": [
           {
            "colorbar": {
             "outlinewidth": 0,
             "ticks": ""
            },
            "colorscale": [
             [
              0,
              "#0d0887"
             ],
             [
              0.1111111111111111,
              "#46039f"
             ],
             [
              0.2222222222222222,
              "#7201a8"
             ],
             [
              0.3333333333333333,
              "#9c179e"
             ],
             [
              0.4444444444444444,
              "#bd3786"
             ],
             [
              0.5555555555555556,
              "#d8576b"
             ],
             [
              0.6666666666666666,
              "#ed7953"
             ],
             [
              0.7777777777777778,
              "#fb9f3a"
             ],
             [
              0.8888888888888888,
              "#fdca26"
             ],
             [
              1,
              "#f0f921"
             ]
            ],
            "type": "heatmapgl"
           }
          ],
          "histogram": [
           {
            "marker": {
             "pattern": {
              "fillmode": "overlay",
              "size": 10,
              "solidity": 0.2
             }
            },
            "type": "histogram"
           }
          ],
          "histogram2d": [
           {
            "colorbar": {
             "outlinewidth": 0,
             "ticks": ""
            },
            "colorscale": [
             [
              0,
              "#0d0887"
             ],
             [
              0.1111111111111111,
              "#46039f"
             ],
             [
              0.2222222222222222,
              "#7201a8"
             ],
             [
              0.3333333333333333,
              "#9c179e"
             ],
             [
              0.4444444444444444,
              "#bd3786"
             ],
             [
              0.5555555555555556,
              "#d8576b"
             ],
             [
              0.6666666666666666,
              "#ed7953"
             ],
             [
              0.7777777777777778,
              "#fb9f3a"
             ],
             [
              0.8888888888888888,
              "#fdca26"
             ],
             [
              1,
              "#f0f921"
             ]
            ],
            "type": "histogram2d"
           }
          ],
          "histogram2dcontour": [
           {
            "colorbar": {
             "outlinewidth": 0,
             "ticks": ""
            },
            "colorscale": [
             [
              0,
              "#0d0887"
             ],
             [
              0.1111111111111111,
              "#46039f"
             ],
             [
              0.2222222222222222,
              "#7201a8"
             ],
             [
              0.3333333333333333,
              "#9c179e"
             ],
             [
              0.4444444444444444,
              "#bd3786"
             ],
             [
              0.5555555555555556,
              "#d8576b"
             ],
             [
              0.6666666666666666,
              "#ed7953"
             ],
             [
              0.7777777777777778,
              "#fb9f3a"
             ],
             [
              0.8888888888888888,
              "#fdca26"
             ],
             [
              1,
              "#f0f921"
             ]
            ],
            "type": "histogram2dcontour"
           }
          ],
          "mesh3d": [
           {
            "colorbar": {
             "outlinewidth": 0,
             "ticks": ""
            },
            "type": "mesh3d"
           }
          ],
          "parcoords": [
           {
            "line": {
             "colorbar": {
              "outlinewidth": 0,
              "ticks": ""
             }
            },
            "type": "parcoords"
           }
          ],
          "pie": [
           {
            "automargin": true,
            "type": "pie"
           }
          ],
          "scatter": [
           {
            "fillpattern": {
             "fillmode": "overlay",
             "size": 10,
             "solidity": 0.2
            },
            "type": "scatter"
           }
          ],
          "scatter3d": [
           {
            "line": {
             "colorbar": {
              "outlinewidth": 0,
              "ticks": ""
             }
            },
            "marker": {
             "colorbar": {
              "outlinewidth": 0,
              "ticks": ""
             }
            },
            "type": "scatter3d"
           }
          ],
          "scattercarpet": [
           {
            "marker": {
             "colorbar": {
              "outlinewidth": 0,
              "ticks": ""
             }
            },
            "type": "scattercarpet"
           }
          ],
          "scattergeo": [
           {
            "marker": {
             "colorbar": {
              "outlinewidth": 0,
              "ticks": ""
             }
            },
            "type": "scattergeo"
           }
          ],
          "scattergl": [
           {
            "marker": {
             "colorbar": {
              "outlinewidth": 0,
              "ticks": ""
             }
            },
            "type": "scattergl"
           }
          ],
          "scattermapbox": [
           {
            "marker": {
             "colorbar": {
              "outlinewidth": 0,
              "ticks": ""
             }
            },
            "type": "scattermapbox"
           }
          ],
          "scatterpolar": [
           {
            "marker": {
             "colorbar": {
              "outlinewidth": 0,
              "ticks": ""
             }
            },
            "type": "scatterpolar"
           }
          ],
          "scatterpolargl": [
           {
            "marker": {
             "colorbar": {
              "outlinewidth": 0,
              "ticks": ""
             }
            },
            "type": "scatterpolargl"
           }
          ],
          "scatterternary": [
           {
            "marker": {
             "colorbar": {
              "outlinewidth": 0,
              "ticks": ""
             }
            },
            "type": "scatterternary"
           }
          ],
          "surface": [
           {
            "colorbar": {
             "outlinewidth": 0,
             "ticks": ""
            },
            "colorscale": [
             [
              0,
              "#0d0887"
             ],
             [
              0.1111111111111111,
              "#46039f"
             ],
             [
              0.2222222222222222,
              "#7201a8"
             ],
             [
              0.3333333333333333,
              "#9c179e"
             ],
             [
              0.4444444444444444,
              "#bd3786"
             ],
             [
              0.5555555555555556,
              "#d8576b"
             ],
             [
              0.6666666666666666,
              "#ed7953"
             ],
             [
              0.7777777777777778,
              "#fb9f3a"
             ],
             [
              0.8888888888888888,
              "#fdca26"
             ],
             [
              1,
              "#f0f921"
             ]
            ],
            "type": "surface"
           }
          ],
          "table": [
           {
            "cells": {
             "fill": {
              "color": "#EBF0F8"
             },
             "line": {
              "color": "white"
             }
            },
            "header": {
             "fill": {
              "color": "#C8D4E3"
             },
             "line": {
              "color": "white"
             }
            },
            "type": "table"
           }
          ]
         },
         "layout": {
          "annotationdefaults": {
           "arrowcolor": "#2a3f5f",
           "arrowhead": 0,
           "arrowwidth": 1
          },
          "autotypenumbers": "strict",
          "coloraxis": {
           "colorbar": {
            "outlinewidth": 0,
            "ticks": ""
           }
          },
          "colorscale": {
           "diverging": [
            [
             0,
             "#8e0152"
            ],
            [
             0.1,
             "#c51b7d"
            ],
            [
             0.2,
             "#de77ae"
            ],
            [
             0.3,
             "#f1b6da"
            ],
            [
             0.4,
             "#fde0ef"
            ],
            [
             0.5,
             "#f7f7f7"
            ],
            [
             0.6,
             "#e6f5d0"
            ],
            [
             0.7,
             "#b8e186"
            ],
            [
             0.8,
             "#7fbc41"
            ],
            [
             0.9,
             "#4d9221"
            ],
            [
             1,
             "#276419"
            ]
           ],
           "sequential": [
            [
             0,
             "#0d0887"
            ],
            [
             0.1111111111111111,
             "#46039f"
            ],
            [
             0.2222222222222222,
             "#7201a8"
            ],
            [
             0.3333333333333333,
             "#9c179e"
            ],
            [
             0.4444444444444444,
             "#bd3786"
            ],
            [
             0.5555555555555556,
             "#d8576b"
            ],
            [
             0.6666666666666666,
             "#ed7953"
            ],
            [
             0.7777777777777778,
             "#fb9f3a"
            ],
            [
             0.8888888888888888,
             "#fdca26"
            ],
            [
             1,
             "#f0f921"
            ]
           ],
           "sequentialminus": [
            [
             0,
             "#0d0887"
            ],
            [
             0.1111111111111111,
             "#46039f"
            ],
            [
             0.2222222222222222,
             "#7201a8"
            ],
            [
             0.3333333333333333,
             "#9c179e"
            ],
            [
             0.4444444444444444,
             "#bd3786"
            ],
            [
             0.5555555555555556,
             "#d8576b"
            ],
            [
             0.6666666666666666,
             "#ed7953"
            ],
            [
             0.7777777777777778,
             "#fb9f3a"
            ],
            [
             0.8888888888888888,
             "#fdca26"
            ],
            [
             1,
             "#f0f921"
            ]
           ]
          },
          "colorway": [
           "#636efa",
           "#EF553B",
           "#00cc96",
           "#ab63fa",
           "#FFA15A",
           "#19d3f3",
           "#FF6692",
           "#B6E880",
           "#FF97FF",
           "#FECB52"
          ],
          "font": {
           "color": "#2a3f5f"
          },
          "geo": {
           "bgcolor": "white",
           "lakecolor": "white",
           "landcolor": "#E5ECF6",
           "showlakes": true,
           "showland": true,
           "subunitcolor": "white"
          },
          "hoverlabel": {
           "align": "left"
          },
          "hovermode": "closest",
          "mapbox": {
           "style": "light"
          },
          "paper_bgcolor": "white",
          "plot_bgcolor": "#E5ECF6",
          "polar": {
           "angularaxis": {
            "gridcolor": "white",
            "linecolor": "white",
            "ticks": ""
           },
           "bgcolor": "#E5ECF6",
           "radialaxis": {
            "gridcolor": "white",
            "linecolor": "white",
            "ticks": ""
           }
          },
          "scene": {
           "xaxis": {
            "backgroundcolor": "#E5ECF6",
            "gridcolor": "white",
            "gridwidth": 2,
            "linecolor": "white",
            "showbackground": true,
            "ticks": "",
            "zerolinecolor": "white"
           },
           "yaxis": {
            "backgroundcolor": "#E5ECF6",
            "gridcolor": "white",
            "gridwidth": 2,
            "linecolor": "white",
            "showbackground": true,
            "ticks": "",
            "zerolinecolor": "white"
           },
           "zaxis": {
            "backgroundcolor": "#E5ECF6",
            "gridcolor": "white",
            "gridwidth": 2,
            "linecolor": "white",
            "showbackground": true,
            "ticks": "",
            "zerolinecolor": "white"
           }
          },
          "shapedefaults": {
           "line": {
            "color": "#2a3f5f"
           }
          },
          "ternary": {
           "aaxis": {
            "gridcolor": "white",
            "linecolor": "white",
            "ticks": ""
           },
           "baxis": {
            "gridcolor": "white",
            "linecolor": "white",
            "ticks": ""
           },
           "bgcolor": "#E5ECF6",
           "caxis": {
            "gridcolor": "white",
            "linecolor": "white",
            "ticks": ""
           }
          },
          "title": {
           "x": 0.05
          },
          "xaxis": {
           "automargin": true,
           "gridcolor": "white",
           "linecolor": "white",
           "ticks": "",
           "title": {
            "standoff": 15
           },
           "zerolinecolor": "white",
           "zerolinewidth": 2
          },
          "yaxis": {
           "automargin": true,
           "gridcolor": "white",
           "linecolor": "white",
           "ticks": "",
           "title": {
            "standoff": 15
           },
           "zerolinecolor": "white",
           "zerolinewidth": 2
          }
         }
        },
        "title": {
         "text": "En çok yapılan 10 film türüne göre filmlerin sayısı"
        }
       }
      }
     },
     "metadata": {},
     "output_type": "display_data"
    }
   ],
   "source": [
    "# en çok yapılan 10 türü seç\n",
    "top_genres = top250['genre'].value_counts().head(10)\n",
    "\n",
    "# pie chart oluşturma\n",
    "fig = px.pie(values=top_genres.values, names=top_genres.index,\n",
    "             title='En çok yapılan 10 film türüne göre filmlerin sayısı',\n",
    "             labels={'value': 'Sayı', 'names': 'Türler'},\n",
    "             hover_data={'value': top_genres.values, 'names': top_genres.index},\n",
    "             hole=0.5,\n",
    "                         )\n",
    "\n",
    "# sayıları yazdırma\n",
    "fig.update_traces(textposition='inside', textinfo='percent+value', textfont_size=12)\n",
    "\n",
    "# kenar çizgileri ekleme\n",
    "fig.update_traces(marker=dict(line=dict(color='white', width=2)))\n",
    "\n",
    "fig.show()"
   ]
  },
  {
   "cell_type": "markdown",
   "id": "107cc566",
   "metadata": {},
   "source": [
    "En yaygın 10 film türünü dilim grafik (pie chart) şeklinde çiziyoruz. \n",
    "\n",
    "**top_genres = top250['genre'].value_counts().head(10)**\n",
    "\n",
    "Bu satır, top250 DataFrame’inin 'genre' sütununda bulunan film türlerini sayar ve en yaygın 10 türü alır.\n",
    "\n",
    "**fig, ax = plt.subplots(figsize=(10, 10))\n",
    "ax.pie(top_genres.values, labels=top_genres.index, autopct='%1.1f%%', startangle=90,\n",
    "       explode=(0.1, 0.1, 0, 0, 0, 0, 0, 0, 0, 0), shadow=0.1, textprops={'fontsize': 14})**\n",
    "\n",
    "Bu kısımda, matplotlib kütüphanesini kullanarak bir pie chart oluşturulur.\n",
    "\n",
    "- figsize=(10, 10): Grafiğin boyutunu belirler.\n",
    "- top_genres.values: Dilimlerin büyüklüğü için kullanılan değerler.\n",
    "- labels=top_genres.index: Dilimlerin etiketleri.\n",
    "- autopct='%1.1f%%': Her bir dilimin üzerine yüzde değerini yazdırır.\n",
    "- startangle=90: İlk dilimin başlangıç açısını belirler.\n",
    "- explode=(0.1, 0.1, 0, 0, 0, 0, 0, 0, 0, 0): İlk iki dilimi grafiğin merkezinden biraz dışarı çeker.\n",
    "- shadow=0.1: Dilimlere gölge ekler.\n",
    "- textprops={'fontsize': 14}: Yazı büyüklüğünü ayarlar.\n",
    "\n",
    "**ax.set_title('En çok yapılan 10 film türüne göre filmlerin sayısı', fontsize=16, fontweight='bold')**\n",
    "**ax.axis('equal')**\n",
    "\n",
    "- ax.set_title(): Grafiğin başlığını ve başlık fontunu ayarlar.\n",
    "- ax.axis('equal'): Grafiğin x ve y eksenlerini eşit uzunlukta yapar, böylece dilim grafiği bir daire şeklinde olur.\n",
    "\n",
    "**plt.show()**\n",
    "\n",
    "Bu satır, oluşturulan grafiği gösterir."
   ]
  },
  {
   "cell_type": "code",
   "execution_count": 75,
   "id": "4f2f3b31",
   "metadata": {},
   "outputs": [
    {
     "data": {
      "text/plain": [
       "Action,Adventure,Sci-Fi       13\n",
       "Animation,Adventure,Comedy    12\n",
       "Drama                         12\n",
       "Comedy,Drama                  11\n",
       "Crime,Drama,Mystery            9\n",
       "Drama,Romance                  9\n",
       "Biography,Drama                7\n",
       "Crime,Drama,Thriller           7\n",
       "Comedy,Drama,Romance           7\n",
       "Biography,Drama,History        6\n",
       "Name: genre, dtype: int64"
      ]
     },
     "execution_count": 75,
     "metadata": {},
     "output_type": "execute_result"
    }
   ],
   "source": [
    "top_genres"
   ]
  },
  {
   "cell_type": "code",
   "execution_count": 95,
   "id": "81bf88b4",
   "metadata": {},
   "outputs": [
    {
     "data": {
      "image/png": "[encoded data removed]",
      "text/plain": [
       "<Figure size 700x700 with 1 Axes>"
      ]
     },
     "metadata": {},
     "output_type": "display_data"
    }
   ],
   "source": [
    "# en çok yapılan 10 türü seç\n",
    "top_genres = top250['genre'].value_counts().head(10)\n",
    "\n",
    "# pie chart oluşturma\n",
    "fig, ax = plt.subplots(figsize=(7, 7))\n",
    "ax.pie(top_genres.values, labels=top_genres.index, autopct='%1.1f%%', startangle=90,\n",
    "       explode=(0.1, 0.1, 0, 0, 0, 0.0, 0, 0, 0, 0), shadow = 0.1, textprops={'fontsize': 10},\n",
    "       colors = [ '#FF9999', '#66B3FF', '#99FF99', '#FFCC99', '#C2C2F0', '#FFB3E6', '#C2F0C2', '#FF6666', '#C2C2C2', '#FFB366' ])\n",
    "\n",
    "# grafik ayarları\n",
    "ax.set_title('En çok yapılan 10 film türüne göre filmlerin sayısı', fontsize=16, fontweight='bold')\n",
    "ax.axis('equal')\n",
    "\n",
    "plt.show()"
   ]
  },
  {
   "cell_type": "code",
   "execution_count": 37,
   "id": "04b37ef8",
   "metadata": {
    "ExecuteTime": {
     "end_time": "2023-09-24T15:09:06.137276Z",
     "start_time": "2023-09-24T15:09:05.627973Z"
    }
   },
   "outputs": [
    {
     "data": {
      "image/png": "[encoded data removed]",
      "text/plain": [
       "<Figure size 1000x1000 with 1 Axes>"
      ]
     },
     "metadata": {},
     "output_type": "display_data"
    }
   ],
   "source": []
  },
  {
   "cell_type": "markdown",
   "id": "99fa29fc",
   "metadata": {},
   "source": [
    "## 9. İlişkileri görselleştirme"
   ]
  },
  {
   "cell_type": "markdown",
   "id": "999d70b6",
   "metadata": {},
   "source": [
    "### a. Seaborn kütüphanesi kullanarak, veri setindeki nümerik değişkenlerin korelasyonunu gösteren bir heatmap çizin."
   ]
  },
  {
   "cell_type": "code",
   "execution_count": 96,
   "id": "c17f7be5",
   "metadata": {
    "ExecuteTime": {
     "end_time": "2023-09-24T15:09:06.145071Z",
     "start_time": "2023-09-24T15:09:06.139279Z"
    }
   },
   "outputs": [
    {
     "data": {
      "text/html": [
       "<div>\n",
       "<style scoped>\n",
       "    .dataframe tbody tr th:only-of-type {\n",
       "        vertical-align: middle;\n",
       "    }\n",
       "\n",
       "    .dataframe tbody tr th {\n",
       "        vertical-align: top;\n",
       "    }\n",
       "\n",
       "    .dataframe thead th {\n",
       "        text-align: right;\n",
       "    }\n",
       "</style>\n",
       "<table border=\"1\" class=\"dataframe\">\n",
       "  <thead>\n",
       "    <tr style=\"text-align: right;\">\n",
       "      <th></th>\n",
       "      <th>rank</th>\n",
       "      <th>genre</th>\n",
       "      <th>description</th>\n",
       "      <th>director</th>\n",
       "      <th>actors</th>\n",
       "      <th>year</th>\n",
       "      <th>runtime</th>\n",
       "      <th>rating</th>\n",
       "      <th>votes</th>\n",
       "      <th>revenue</th>\n",
       "      <th>metascore</th>\n",
       "    </tr>\n",
       "    <tr>\n",
       "      <th>Title</th>\n",
       "      <th></th>\n",
       "      <th></th>\n",
       "      <th></th>\n",
       "      <th></th>\n",
       "      <th></th>\n",
       "      <th></th>\n",
       "      <th></th>\n",
       "      <th></th>\n",
       "      <th></th>\n",
       "      <th></th>\n",
       "      <th></th>\n",
       "    </tr>\n",
       "  </thead>\n",
       "  <tbody>\n",
       "    <tr>\n",
       "      <th>Guardians of the Galaxy</th>\n",
       "      <td>1</td>\n",
       "      <td>Action,Adventure,Sci-Fi</td>\n",
       "      <td>A group of intergalactic criminals are forced ...</td>\n",
       "      <td>James Gunn</td>\n",
       "      <td>Chris Pratt, Vin Diesel, Bradley Cooper, Zoe S...</td>\n",
       "      <td>2014</td>\n",
       "      <td>121</td>\n",
       "      <td>8.10</td>\n",
       "      <td>757074</td>\n",
       "      <td>333.13</td>\n",
       "      <td>76.00</td>\n",
       "    </tr>\n",
       "    <tr>\n",
       "      <th>Prometheus</th>\n",
       "      <td>2</td>\n",
       "      <td>Adventure,Mystery,Sci-Fi</td>\n",
       "      <td>Following clues to the origin of mankind, a te...</td>\n",
       "      <td>Ridley Scott</td>\n",
       "      <td>Noomi Rapace, Logan Marshall-Green, Michael Fa...</td>\n",
       "      <td>2012</td>\n",
       "      <td>124</td>\n",
       "      <td>7.00</td>\n",
       "      <td>485820</td>\n",
       "      <td>126.46</td>\n",
       "      <td>65.00</td>\n",
       "    </tr>\n",
       "    <tr>\n",
       "      <th>Split</th>\n",
       "      <td>3</td>\n",
       "      <td>Horror,Thriller</td>\n",
       "      <td>Three girls are kidnapped by a man with a diag...</td>\n",
       "      <td>M. Night Shyamalan</td>\n",
       "      <td>James McAvoy, Anya Taylor-Joy, Haley Lu Richar...</td>\n",
       "      <td>2016</td>\n",
       "      <td>117</td>\n",
       "      <td>7.30</td>\n",
       "      <td>157606</td>\n",
       "      <td>138.12</td>\n",
       "      <td>62.00</td>\n",
       "    </tr>\n",
       "    <tr>\n",
       "      <th>Sing</th>\n",
       "      <td>4</td>\n",
       "      <td>Animation,Comedy,Family</td>\n",
       "      <td>In a city of humanoid animals, a hustling thea...</td>\n",
       "      <td>Christophe Lourdelet</td>\n",
       "      <td>Matthew McConaughey,Reese Witherspoon, Seth Ma...</td>\n",
       "      <td>2016</td>\n",
       "      <td>108</td>\n",
       "      <td>7.20</td>\n",
       "      <td>60545</td>\n",
       "      <td>270.32</td>\n",
       "      <td>59.00</td>\n",
       "    </tr>\n",
       "    <tr>\n",
       "      <th>Suicide Squad</th>\n",
       "      <td>5</td>\n",
       "      <td>Action,Adventure,Fantasy</td>\n",
       "      <td>A secret government agency recruits some of th...</td>\n",
       "      <td>David Ayer</td>\n",
       "      <td>Will Smith, Jared Leto, Margot Robbie, Viola D...</td>\n",
       "      <td>2016</td>\n",
       "      <td>123</td>\n",
       "      <td>6.20</td>\n",
       "      <td>393727</td>\n",
       "      <td>325.02</td>\n",
       "      <td>40.00</td>\n",
       "    </tr>\n",
       "    <tr>\n",
       "      <th>...</th>\n",
       "      <td>...</td>\n",
       "      <td>...</td>\n",
       "      <td>...</td>\n",
       "      <td>...</td>\n",
       "      <td>...</td>\n",
       "      <td>...</td>\n",
       "      <td>...</td>\n",
       "      <td>...</td>\n",
       "      <td>...</td>\n",
       "      <td>...</td>\n",
       "      <td>...</td>\n",
       "    </tr>\n",
       "    <tr>\n",
       "      <th>Secret in Their Eyes</th>\n",
       "      <td>996</td>\n",
       "      <td>Crime,Drama,Mystery</td>\n",
       "      <td>A tight-knit team of rising investigators, alo...</td>\n",
       "      <td>Billy Ray</td>\n",
       "      <td>Chiwetel Ejiofor, Nicole Kidman, Julia Roberts...</td>\n",
       "      <td>2015</td>\n",
       "      <td>111</td>\n",
       "      <td>6.20</td>\n",
       "      <td>27585</td>\n",
       "      <td>82.96</td>\n",
       "      <td>45.00</td>\n",
       "    </tr>\n",
       "    <tr>\n",
       "      <th>Hostel: Part II</th>\n",
       "      <td>997</td>\n",
       "      <td>Horror</td>\n",
       "      <td>Three American college students studying abroa...</td>\n",
       "      <td>Eli Roth</td>\n",
       "      <td>Lauren German, Heather Matarazzo, Bijou Philli...</td>\n",
       "      <td>2007</td>\n",
       "      <td>94</td>\n",
       "      <td>5.50</td>\n",
       "      <td>73152</td>\n",
       "      <td>17.54</td>\n",
       "      <td>46.00</td>\n",
       "    </tr>\n",
       "    <tr>\n",
       "      <th>Step Up 2: The Streets</th>\n",
       "      <td>998</td>\n",
       "      <td>Drama,Music,Romance</td>\n",
       "      <td>Romantic sparks occur between two dance studen...</td>\n",
       "      <td>Jon M. Chu</td>\n",
       "      <td>Robert Hoffman, Briana Evigan, Cassie Ventura,...</td>\n",
       "      <td>2008</td>\n",
       "      <td>98</td>\n",
       "      <td>6.20</td>\n",
       "      <td>70699</td>\n",
       "      <td>58.01</td>\n",
       "      <td>50.00</td>\n",
       "    </tr>\n",
       "    <tr>\n",
       "      <th>Search Party</th>\n",
       "      <td>999</td>\n",
       "      <td>Adventure,Comedy</td>\n",
       "      <td>A pair of friends embark on a mission to reuni...</td>\n",
       "      <td>Scot Armstrong</td>\n",
       "      <td>Adam Pally, T.J. Miller, Thomas Middleditch,Sh...</td>\n",
       "      <td>2014</td>\n",
       "      <td>93</td>\n",
       "      <td>5.60</td>\n",
       "      <td>4881</td>\n",
       "      <td>82.96</td>\n",
       "      <td>22.00</td>\n",
       "    </tr>\n",
       "    <tr>\n",
       "      <th>Nine Lives</th>\n",
       "      <td>1000</td>\n",
       "      <td>Comedy,Family,Fantasy</td>\n",
       "      <td>A stuffy businessman finds himself trapped ins...</td>\n",
       "      <td>Barry Sonnenfeld</td>\n",
       "      <td>Kevin Spacey, Jennifer Garner, Robbie Amell,Ch...</td>\n",
       "      <td>2016</td>\n",
       "      <td>87</td>\n",
       "      <td>5.30</td>\n",
       "      <td>12435</td>\n",
       "      <td>19.64</td>\n",
       "      <td>11.00</td>\n",
       "    </tr>\n",
       "  </tbody>\n",
       "</table>\n",
       "<p>936 rows × 11 columns</p>\n",
       "</div>"
      ],
      "text/plain": [
       "                         rank                     genre  \\\n",
       "Title                                                     \n",
       "Guardians of the Galaxy     1   Action,Adventure,Sci-Fi   \n",
       "Prometheus                  2  Adventure,Mystery,Sci-Fi   \n",
       "Split                       3           Horror,Thriller   \n",
       "Sing                        4   Animation,Comedy,Family   \n",
       "Suicide Squad               5  Action,Adventure,Fantasy   \n",
       "...                       ...                       ...   \n",
       "Secret in Their Eyes      996       Crime,Drama,Mystery   \n",
       "Hostel: Part II           997                    Horror   \n",
       "Step Up 2: The Streets    998       Drama,Music,Romance   \n",
       "Search Party              999          Adventure,Comedy   \n",
       "Nine Lives               1000     Comedy,Family,Fantasy   \n",
       "\n",
       "                                                               description  \\\n",
       "Title                                                                        \n",
       "Guardians of the Galaxy  A group of intergalactic criminals are forced ...   \n",
       "Prometheus               Following clues to the origin of mankind, a te...   \n",
       "Split                    Three girls are kidnapped by a man with a diag...   \n",
       "Sing                     In a city of humanoid animals, a hustling thea...   \n",
       "Suicide Squad            A secret government agency recruits some of th...   \n",
       "...                                                                    ...   \n",
       "Secret in Their Eyes     A tight-knit team of rising investigators, alo...   \n",
       "Hostel: Part II          Three American college students studying abroa...   \n",
       "Step Up 2: The Streets   Romantic sparks occur between two dance studen...   \n",
       "Search Party             A pair of friends embark on a mission to reuni...   \n",
       "Nine Lives               A stuffy businessman finds himself trapped ins...   \n",
       "\n",
       "                                     director  \\\n",
       "Title                                           \n",
       "Guardians of the Galaxy            James Gunn   \n",
       "Prometheus                       Ridley Scott   \n",
       "Split                      M. Night Shyamalan   \n",
       "Sing                     Christophe Lourdelet   \n",
       "Suicide Squad                      David Ayer   \n",
       "...                                       ...   \n",
       "Secret in Their Eyes                Billy Ray   \n",
       "Hostel: Part II                      Eli Roth   \n",
       "Step Up 2: The Streets             Jon M. Chu   \n",
       "Search Party                   Scot Armstrong   \n",
       "Nine Lives                   Barry Sonnenfeld   \n",
       "\n",
       "                                                                    actors  \\\n",
       "Title                                                                        \n",
       "Guardians of the Galaxy  Chris Pratt, Vin Diesel, Bradley Cooper, Zoe S...   \n",
       "Prometheus               Noomi Rapace, Logan Marshall-Green, Michael Fa...   \n",
       "Split                    James McAvoy, Anya Taylor-Joy, Haley Lu Richar...   \n",
       "Sing                     Matthew McConaughey,Reese Witherspoon, Seth Ma...   \n",
       "Suicide Squad            Will Smith, Jared Leto, Margot Robbie, Viola D...   \n",
       "...                                                                    ...   \n",
       "Secret in Their Eyes     Chiwetel Ejiofor, Nicole Kidman, Julia Roberts...   \n",
       "Hostel: Part II          Lauren German, Heather Matarazzo, Bijou Philli...   \n",
       "Step Up 2: The Streets   Robert Hoffman, Briana Evigan, Cassie Ventura,...   \n",
       "Search Party             Adam Pally, T.J. Miller, Thomas Middleditch,Sh...   \n",
       "Nine Lives               Kevin Spacey, Jennifer Garner, Robbie Amell,Ch...   \n",
       "\n",
       "                         year  runtime  rating   votes  revenue  metascore  \n",
       "Title                                                                       \n",
       "Guardians of the Galaxy  2014      121    8.10  757074   333.13      76.00  \n",
       "Prometheus               2012      124    7.00  485820   126.46      65.00  \n",
       "Split                    2016      117    7.30  157606   138.12      62.00  \n",
       "Sing                     2016      108    7.20   60545   270.32      59.00  \n",
       "Suicide Squad            2016      123    6.20  393727   325.02      40.00  \n",
       "...                       ...      ...     ...     ...      ...        ...  \n",
       "Secret in Their Eyes     2015      111    6.20   27585    82.96      45.00  \n",
       "Hostel: Part II          2007       94    5.50   73152    17.54      46.00  \n",
       "Step Up 2: The Streets   2008       98    6.20   70699    58.01      50.00  \n",
       "Search Party             2014       93    5.60    4881    82.96      22.00  \n",
       "Nine Lives               2016       87    5.30   12435    19.64      11.00  \n",
       "\n",
       "[936 rows x 11 columns]"
      ]
     },
     "execution_count": 96,
     "metadata": {},
     "output_type": "execute_result"
    }
   ],
   "source": [
    "df"
   ]
  },
  {
   "cell_type": "code",
   "execution_count": 97,
   "id": "4bbbd5b0",
   "metadata": {},
   "outputs": [
    {
     "name": "stdout",
     "output_type": "stream",
     "text": [
      "<class 'pandas.core.frame.DataFrame'>\n",
      "Index: 936 entries, Guardians of the Galaxy to Nine Lives\n",
      "Data columns (total 11 columns):\n",
      " #   Column       Non-Null Count  Dtype  \n",
      "---  ------       --------------  -----  \n",
      " 0   rank         936 non-null    int64  \n",
      " 1   genre        936 non-null    object \n",
      " 2   description  936 non-null    object \n",
      " 3   director     936 non-null    object \n",
      " 4   actors       936 non-null    object \n",
      " 5   year         936 non-null    int64  \n",
      " 6   runtime      936 non-null    int64  \n",
      " 7   rating       936 non-null    float64\n",
      " 8   votes        936 non-null    int64  \n",
      " 9   revenue      936 non-null    float64\n",
      " 10  metascore    936 non-null    float64\n",
      "dtypes: float64(3), int64(4), object(4)\n",
      "memory usage: 87.8+ KB\n"
     ]
    }
   ],
   "source": [
    "df.info()"
   ]
  },
  {
   "cell_type": "code",
   "execution_count": 98,
   "id": "09fa784d",
   "metadata": {},
   "outputs": [
    {
     "data": {
      "text/html": [
       "<div>\n",
       "<style scoped>\n",
       "    .dataframe tbody tr th:only-of-type {\n",
       "        vertical-align: middle;\n",
       "    }\n",
       "\n",
       "    .dataframe tbody tr th {\n",
       "        vertical-align: top;\n",
       "    }\n",
       "\n",
       "    .dataframe thead th {\n",
       "        text-align: right;\n",
       "    }\n",
       "</style>\n",
       "<table border=\"1\" class=\"dataframe\">\n",
       "  <thead>\n",
       "    <tr style=\"text-align: right;\">\n",
       "      <th></th>\n",
       "      <th>rank</th>\n",
       "      <th>year</th>\n",
       "      <th>runtime</th>\n",
       "      <th>rating</th>\n",
       "      <th>votes</th>\n",
       "      <th>revenue</th>\n",
       "      <th>metascore</th>\n",
       "    </tr>\n",
       "    <tr>\n",
       "      <th>Title</th>\n",
       "      <th></th>\n",
       "      <th></th>\n",
       "      <th></th>\n",
       "      <th></th>\n",
       "      <th></th>\n",
       "      <th></th>\n",
       "      <th></th>\n",
       "    </tr>\n",
       "  </thead>\n",
       "  <tbody>\n",
       "    <tr>\n",
       "      <th>Guardians of the Galaxy</th>\n",
       "      <td>1</td>\n",
       "      <td>2014</td>\n",
       "      <td>121</td>\n",
       "      <td>8.10</td>\n",
       "      <td>757074</td>\n",
       "      <td>333.13</td>\n",
       "      <td>76.00</td>\n",
       "    </tr>\n",
       "    <tr>\n",
       "      <th>Prometheus</th>\n",
       "      <td>2</td>\n",
       "      <td>2012</td>\n",
       "      <td>124</td>\n",
       "      <td>7.00</td>\n",
       "      <td>485820</td>\n",
       "      <td>126.46</td>\n",
       "      <td>65.00</td>\n",
       "    </tr>\n",
       "    <tr>\n",
       "      <th>Split</th>\n",
       "      <td>3</td>\n",
       "      <td>2016</td>\n",
       "      <td>117</td>\n",
       "      <td>7.30</td>\n",
       "      <td>157606</td>\n",
       "      <td>138.12</td>\n",
       "      <td>62.00</td>\n",
       "    </tr>\n",
       "    <tr>\n",
       "      <th>Sing</th>\n",
       "      <td>4</td>\n",
       "      <td>2016</td>\n",
       "      <td>108</td>\n",
       "      <td>7.20</td>\n",
       "      <td>60545</td>\n",
       "      <td>270.32</td>\n",
       "      <td>59.00</td>\n",
       "    </tr>\n",
       "    <tr>\n",
       "      <th>Suicide Squad</th>\n",
       "      <td>5</td>\n",
       "      <td>2016</td>\n",
       "      <td>123</td>\n",
       "      <td>6.20</td>\n",
       "      <td>393727</td>\n",
       "      <td>325.02</td>\n",
       "      <td>40.00</td>\n",
       "    </tr>\n",
       "    <tr>\n",
       "      <th>...</th>\n",
       "      <td>...</td>\n",
       "      <td>...</td>\n",
       "      <td>...</td>\n",
       "      <td>...</td>\n",
       "      <td>...</td>\n",
       "      <td>...</td>\n",
       "      <td>...</td>\n",
       "    </tr>\n",
       "    <tr>\n",
       "      <th>Secret in Their Eyes</th>\n",
       "      <td>996</td>\n",
       "      <td>2015</td>\n",
       "      <td>111</td>\n",
       "      <td>6.20</td>\n",
       "      <td>27585</td>\n",
       "      <td>82.96</td>\n",
       "      <td>45.00</td>\n",
       "    </tr>\n",
       "    <tr>\n",
       "      <th>Hostel: Part II</th>\n",
       "      <td>997</td>\n",
       "      <td>2007</td>\n",
       "      <td>94</td>\n",
       "      <td>5.50</td>\n",
       "      <td>73152</td>\n",
       "      <td>17.54</td>\n",
       "      <td>46.00</td>\n",
       "    </tr>\n",
       "    <tr>\n",
       "      <th>Step Up 2: The Streets</th>\n",
       "      <td>998</td>\n",
       "      <td>2008</td>\n",
       "      <td>98</td>\n",
       "      <td>6.20</td>\n",
       "      <td>70699</td>\n",
       "      <td>58.01</td>\n",
       "      <td>50.00</td>\n",
       "    </tr>\n",
       "    <tr>\n",
       "      <th>Search Party</th>\n",
       "      <td>999</td>\n",
       "      <td>2014</td>\n",
       "      <td>93</td>\n",
       "      <td>5.60</td>\n",
       "      <td>4881</td>\n",
       "      <td>82.96</td>\n",
       "      <td>22.00</td>\n",
       "    </tr>\n",
       "    <tr>\n",
       "      <th>Nine Lives</th>\n",
       "      <td>1000</td>\n",
       "      <td>2016</td>\n",
       "      <td>87</td>\n",
       "      <td>5.30</td>\n",
       "      <td>12435</td>\n",
       "      <td>19.64</td>\n",
       "      <td>11.00</td>\n",
       "    </tr>\n",
       "  </tbody>\n",
       "</table>\n",
       "<p>936 rows × 7 columns</p>\n",
       "</div>"
      ],
      "text/plain": [
       "                         rank  year  runtime  rating   votes  revenue  \\\n",
       "Title                                                                   \n",
       "Guardians of the Galaxy     1  2014      121    8.10  757074   333.13   \n",
       "Prometheus                  2  2012      124    7.00  485820   126.46   \n",
       "Split                       3  2016      117    7.30  157606   138.12   \n",
       "Sing                        4  2016      108    7.20   60545   270.32   \n",
       "Suicide Squad               5  2016      123    6.20  393727   325.02   \n",
       "...                       ...   ...      ...     ...     ...      ...   \n",
       "Secret in Their Eyes      996  2015      111    6.20   27585    82.96   \n",
       "Hostel: Part II           997  2007       94    5.50   73152    17.54   \n",
       "Step Up 2: The Streets    998  2008       98    6.20   70699    58.01   \n",
       "Search Party              999  2014       93    5.60    4881    82.96   \n",
       "Nine Lives               1000  2016       87    5.30   12435    19.64   \n",
       "\n",
       "                         metascore  \n",
       "Title                               \n",
       "Guardians of the Galaxy      76.00  \n",
       "Prometheus                   65.00  \n",
       "Split                        62.00  \n",
       "Sing                         59.00  \n",
       "Suicide Squad                40.00  \n",
       "...                            ...  \n",
       "Secret in Their Eyes         45.00  \n",
       "Hostel: Part II              46.00  \n",
       "Step Up 2: The Streets       50.00  \n",
       "Search Party                 22.00  \n",
       "Nine Lives                   11.00  \n",
       "\n",
       "[936 rows x 7 columns]"
      ]
     },
     "execution_count": 98,
     "metadata": {},
     "output_type": "execute_result"
    }
   ],
   "source": [
    "df.select_dtypes(exclude=\"object\")"
   ]
  },
  {
   "cell_type": "code",
   "execution_count": 99,
   "id": "405bdae3",
   "metadata": {},
   "outputs": [],
   "source": [
    "numeric_df = df.select_dtypes(exclude=\"object\")"
   ]
  },
  {
   "cell_type": "code",
   "execution_count": null,
   "id": "851ff849",
   "metadata": {},
   "outputs": [],
   "source": []
  },
  {
   "cell_type": "markdown",
   "id": "65e0603f",
   "metadata": {},
   "source": [
    "Korelasyon matrisini hesaplayıp ve bu matrisi bir heatmap (ısı haritası) ile görselleştiriyoruz. \n",
    "\n",
    "**sns.set(font_scale=1.2)\n",
    "plt.figure(figsize=(10, 8))**\n",
    "\n",
    "Bu satırlar, grafikte kullanılacak yazı tipi büyüklüğünü ve grafiğin boyutlarını ayarlar.\n",
    "\n",
    "**corr = movies[['rank', 'year', 'runtime', 'rating', 'votes', 'revenue_millions', 'metascore']].corr()**\n",
    "\n",
    "Bu satır, movies DataFrame’inden seçilen sütunlar arasındaki korelasyon matrisini hesaplar. Korelasyon, iki değişken arasındaki ilişkinin gücünü ve yönünü ölçer. \n",
    "\n",
    "**sns.heatmap(corr, annot=True, cmap='coolwarm')**\n",
    "\n",
    "Bu satır, hesaplanan korelasyon matrisini bir heatmap ile görselleştirir.\n",
    "\n",
    "- annot=True: Her bir hücre üzerine değerini yazdırır.\n",
    "- cmap='coolwarm': Renk paletini belirler.\n",
    "\n",
    "**plt.title('Revenue and Meta Score Korelasyonu', fontsize=18)**\n",
    "**plt.show()**\n",
    "\n",
    "Bu satırlar, grafiğe bir başlık ekler ve grafiği gösterir.\n",
    "\n",
    "Bu kod parçacığı, belirli değişkenler arasındaki ilişkileri anlamak için kullanışlıdır. Örneğin, pozitif bir korelasyon, bir değişkenin değeri artarken diğer değişkenin de değerinin arttığını, negatif bir korelasyon ise bir değişkenin değeri artarken diğer değişkenin değerinin azaldığını gösterir."
   ]
  },
  {
   "cell_type": "code",
   "execution_count": 106,
   "id": "c3a7d1e1",
   "metadata": {},
   "outputs": [
    {
     "data": {
      "image/png": "[encoded data removed]",
      "text/plain": [
       "<Figure size 1000x800 with 2 Axes>"
      ]
     },
     "metadata": {},
     "output_type": "display_data"
    }
   ],
   "source": [
    "plt.figure(figsize=(10, 8))\n",
    "# 'revenue_millions' ve 'meta_score' arasındaki korelasyon matrisi\n",
    "numeric_df = df.select_dtypes(exclude=\"object\")\n",
    "# Heatmap görselleştirme\n",
    "sns.heatmap(numeric_df.corr(), annot=True, cmap='coolwarm')\n",
    "plt.title('Imdb Data Set Korelasyonu', fontsize=18)\n",
    "plt.show()"
   ]
  },
  {
   "cell_type": "code",
   "execution_count": null,
   "id": "0cb4e66b",
   "metadata": {},
   "outputs": [],
   "source": []
  },
  {
   "cell_type": "code",
   "execution_count": null,
   "id": "e10aac53",
   "metadata": {},
   "outputs": [],
   "source": []
  },
  {
   "cell_type": "markdown",
   "id": "5b40f399",
   "metadata": {},
   "source": [
    "### b. Seaborn ile oyunculardan birden fazla filmde rol alan oyuncuların rol aldıkları film sayılarına göre ilk 20 oyucuyu görselleştir.  \n",
    "\n",
    "**Not: Bu soru için kullanılacak data setimiz 936 satırlık data seti olacak.**"
   ]
  },
  {
   "cell_type": "markdown",
   "id": "0858dbb5",
   "metadata": {},
   "source": [
    "**Counter** sınıfı, collections modülünden içe aktarılır. Counter, bir hashable nesnenin kaç kez göründüğünü saymak için kullanılır, yani bir frekans sayacıdır.\n",
    "\n",
    "**actors_counter = Counter():** Burada, actors_counter adında boş bir Counter nesnesi oluşturulur.\n",
    "\n",
    "**for actors in movies['actors']:\n",
    "    actors_list = [actor.strip() for actor in actors.split(',')]\n",
    "    actors_counter.update(actors_list)**\n",
    "\n",
    "Bu döngü, movies DataFrame'inin \"actors\" sütunundaki her bir satıra (film) uygulanır. Her satırdaki oyuncu isimleri virgülle ayrılır, ardından her bir isim şeritlerinden (strip()) temizlenir ve bir liste konur. Daha sonra, actors_counter nesnesi bu liste ile güncellenir, yani her bir oyuncunun görünme sayısı artar.\n",
    "\n",
    "**top_actors = actors_counter.most_common(20)**: most_common metodu, actors_counter içindeki elemanları en yaygın olandan en az yaygın olana doğru sıralar ve ilk 20 tanesini döndürür. top_actors bir liste olur ve her elemanı bir tuple'dır: (oyuncu_adı, film_sayısı)\n",
    "\n",
    "En çok filmde rol alan ilk 20 oyuncuyu ve onların rol aldıkları film sayılarını gösterir."
   ]
  },
  {
   "cell_type": "code",
   "execution_count": 108,
   "id": "fc4252b5",
   "metadata": {},
   "outputs": [
    {
     "data": {
      "text/plain": [
       "[('Mark Wahlberg', 15),\n",
       " ('Hugh Jackman', 14),\n",
       " ('Christian Bale', 13),\n",
       " ('Brad Pitt', 13),\n",
       " ('Michael Fassbender', 12),\n",
       " ('Scarlett Johansson', 12),\n",
       " ('Anne Hathaway', 12),\n",
       " ('Robert Downey Jr.', 12),\n",
       " ('Bradley Cooper', 11),\n",
       " ('Jake Gyllenhaal', 11),\n",
       " ('Seth Rogen', 11),\n",
       " ('Johnny Depp', 11),\n",
       " ('Tom Hardy', 11),\n",
       " ('Cate Blanchett', 11),\n",
       " ('Chloë Grace Moretz', 11),\n",
       " ('Channing Tatum', 11),\n",
       " ('Ryan Gosling', 10),\n",
       " ('Emma Stone', 10),\n",
       " ('Jennifer Lawrence', 10),\n",
       " ('Dwayne Johnson', 10)]"
      ]
     },
     "execution_count": 108,
     "metadata": {},
     "output_type": "execute_result"
    }
   ],
   "source": [
    "from collections import Counter\n",
    "\n",
    "actors_counter = Counter()\n",
    "\n",
    "for actors in df['actors']:\n",
    "    actors_list = [actor.strip() for actor in actors.split(',')]\n",
    "    actors_counter.update(actors_list)\n",
    "\n",
    "top_actors = actors_counter.most_common(20)\n",
    "top_actors"
   ]
  },
  {
   "cell_type": "markdown",
   "id": "a29560a0",
   "metadata": {},
   "source": [
    "**sns.set_style('whitegrid')**: Bu satır, grafiğin arka plan stili olarak 'whitegrid' seçer, bu da grafiğin üzerinde beyaz bir ızgara oluşturur.\n",
    "\n",
    "**plt.figure(figsize=(12,10))**: Bu satır, grafiğin boyutunu genişlik 12 ve yükseklik 10 olacak şekilde ayarlar.\n",
    "\n",
    "**ax = sns.barplot(x='Movie Count', y='Actor', data=top_actors_df, palette='RdPu_r'):** Bu satır, Seaborn barplot fonksiyonunu kullanarak bir bar grafiği oluşturur. x='Movie Count' ve y='Actor' ile x ve y eksenlerinde gösterilecek veriler belirlenir. data=top_actors_df parametresi ile grafiğin oluşturulacağı veri çerçevesi belirlenir. palette='RdPu_r' parametresi ile renk paleti seçilir.\n",
    "\n",
    "**for container in ax.containers:**\n",
    "**ax.bar_label(container, fmt='%d', label_type='edge', fontsize=12, color='black', padding=3)**\n",
    "\n",
    "Bu satırlar, her bir bar üzerine değer etiketi ekler. fmt='%d' ile etiket formatı belirlenir, label_type='edge' ile etiketin konumu, fontsize=12 ile font büyüklüğü, color='black' ile yazı rengi ve padding=3 ile etiketin padding'i belirlenir.\n",
    "\n",
    "**sns.despine(left=True)**: Bu satır, grafiğin sol çerçevesini kaldırır.\n",
    "\n",
    "**plt.title('En Çok Filmde Rol Alan 20 Oyuncu', fontsize=16)**\n",
    "**plt.xlabel('Oyuncu', fontsize=14)**\n",
    "**plt.ylabel('Filmlerde Rol Aldığı Sayı', fontsize=14)**\n",
    "\n",
    "Bu satırlar, grafiğin başlığını, x ekseni etiketini ve y ekseni etiketini belirler ve font büyüklüklerini ayarlar.\n",
    "\n",
    "**plt.xticks(fontsize=12, rotation=0)**\n",
    "**plt.yticks(fontsize=12)**\n",
    "\n",
    "Bu satırlar, x ve y eksen etiketlerinin font büyüklüğünü ayarlar. rotation=0 parametresi, x eksen etiketlerinin rotasyonunu ayarlar.\n",
    "\n",
    "**plt.tight_layout()**\n",
    "**plt.show()**\n",
    "\n",
    "Bu satırlar, grafiği gösterir. plt.tight_layout(), grafiğin düzenini optimize eder, böylece her şey daha düzenli görünür.\n",
    "\n",
    "Özetle, bu kod bloğu, belirli bir data frame (top_actors_df) kullanarak oyuncuların rol aldığı film sayısına göre bir bar grafiği oluşturur ve bunu özelleştirilmiş bir şekilde gösterir."
   ]
  },
  {
   "cell_type": "code",
   "execution_count": 115,
   "id": "30a3dbb5",
   "metadata": {},
   "outputs": [],
   "source": [
    "top_actors_df = pd.DataFrame(top_actors, columns=[\"Movie Count\", \"Actor\"])"
   ]
  },
  {
   "cell_type": "code",
   "execution_count": 117,
   "id": "89887f4f",
   "metadata": {},
   "outputs": [
    {
     "data": {
      "image/png": "[encoded data removed]",
      "text/plain": [
       "<Figure size 1200x1000 with 1 Axes>"
      ]
     },
     "metadata": {},
     "output_type": "display_data"
    }
   ],
   "source": [
    "sns.set_style('whitegrid')\n",
    "\n",
    "plt.figure(figsize=(12,10)) # grafiğin boyutunu büyüt\n",
    "\n",
    "ax = sns.barplot(y='Movie Count', x='Actor', data=top_actors_df, palette='RdPu_r')\n",
    "\n",
    "for container in ax.containers:\n",
    "    ax.bar_label(container, fmt='%d', label_type='edge', fontsize=12, color='black', padding=3)\n",
    "    \n",
    "sns.despine(left=True)\n",
    "\n",
    "plt.title('En Çok Filmde Rol Alan 20 Oyuncu', fontsize=16) # başlık font boyutu büyüsün\n",
    "plt.xlabel('Oyuncu', fontsize=14) # x ekseni başlık font boyutu\n",
    "plt.ylabel('Filmlerde Rol Aldığı Sayı', fontsize=14) # y ekseni başlık font boyutu\n",
    "\n",
    "plt.xticks(fontsize=12, rotation=0) # x ekseni font boyutu ve hizalama ayarları\n",
    "\n",
    "plt.yticks(fontsize=12) # y ekseni font boyutu\n",
    "\n",
    "plt.tight_layout()\n",
    "plt.show()"
   ]
  },
  {
   "cell_type": "markdown",
   "id": "a34f24a1",
   "metadata": {},
   "source": [
    "### c. Plotly kütüphanesi kullanarak, Popüler 250 Filmin rating puanlarına göre hasılatını buble chart ile gösterin ."
   ]
  },
  {
   "cell_type": "markdown",
   "id": "feda54d6",
   "metadata": {},
   "source": [
    "Her bir aktörün rol aldığı film sayısını hesaplayıp, en çok filme çıkan ilk 20 aktörü seçelim ve bu bilgileri buble chart ile görselleştirelim.\n",
    "\n",
    "1. **Film Sayısını Hesaplama:**\n",
    "   - actor_movies['num_movies'] sütunu, her bir aktörün rol aldığı film sayısını içerir.\n",
    "\n",
    "2. **En Çok Filme Çıkan İlk 20 Aktörü Seçme:**\n",
    "   - top_actors, en çok filme çıkan ilk 20 aktörün bilgilerini içerir.\n",
    "\n",
    "3. **Görselleştirme:**\n",
    "   - Bar grafiği çizilirken x='actor' ve y='num_movies' sütunları kullanılır.\n",
    "   - Grafik boyutu (10,8) olarak ayarlanır ve palette='RdPu_r' renk paleti kullanılır.\n",
    "\n",
    "4. **Grafik Ayarları:**\n",
    "   - Başlık, eksen etiketleri ve yazı boyutları belirlenir.\n",
    "   - plt.xticks ile x eksenindeki yazıların yatay hizalaması ve döndürme açısı ayarlanır.\n",
    "\n",
    "5. **Grafiği Gösterme:**\n",
    "   - Oluşturulan grafik, plt.show() ile gösterilir."
   ]
  },
  {
   "cell_type": "code",
   "execution_count": 114,
   "id": "77b9fc0b",
   "metadata": {},
   "outputs": [
    {
     "data": {
      "application/vnd.plotly.v1+json": {
       "config": {
        "plotlyServerURL": "https://plot.ly"
       },
       "data": [
        {
         "hovertemplate": "Title=%{x}<br>revenue=%{y}<br>rating=%{marker.color}<extra></extra>",
         "legendgroup": "",
         "marker": {
          "color": [
           9,
           8.8,
           8.6,
           8.6,
           8.6,
           8.5,
           8.5,
           8.5,
           8.5,
           8.5,
           8.5,
           8.4,
           8.4,
           8.4,
           8.3,
           8.3,
           8.3,
           8.3,
           8.3,
           8.3,
           8.2,
           8.2,
           8.2,
           8.2,
           8.2,
           8.2,
           8.2,
           8.2,
           8.2,
           8.1,
           8.1,
           8.1,
           8.1,
           8.1,
           8.1,
           8.1,
           8.1,
           8.1,
           8.1,
           8.1,
           8.1,
           8.1,
           8.1,
           8.1,
           8.1,
           8.1,
           8.1,
           8.1,
           8.1,
           8.1,
           8.1,
           8.1,
           8.1,
           8.1,
           8,
           8,
           8,
           8,
           8,
           8,
           8,
           8,
           8,
           8,
           8,
           8,
           8,
           8,
           8,
           8,
           8,
           8,
           8,
           7.9,
           7.9,
           7.9,
           7.9,
           7.9,
           7.9,
           7.9,
           7.9,
           7.9,
           7.9,
           7.9,
           7.9,
           7.9,
           7.9,
           7.9,
           7.9,
           7.9,
           7.9,
           7.9,
           7.9,
           7.9,
           7.9,
           7.8,
           7.8,
           7.8,
           7.8,
           7.8,
           7.8,
           7.8,
           7.8,
           7.8,
           7.8,
           7.8,
           7.8,
           7.8,
           7.8,
           7.8,
           7.8,
           7.8,
           7.8,
           7.8,
           7.8,
           7.8,
           7.8,
           7.8,
           7.8,
           7.8,
           7.8,
           7.8,
           7.8,
           7.8,
           7.8,
           7.8,
           7.8,
           7.8,
           7.8,
           7.8,
           7.8,
           7.8,
           7.8,
           7.8,
           7.7,
           7.7,
           7.7,
           7.7,
           7.7,
           7.7,
           7.7,
           7.7,
           7.7,
           7.7,
           7.7,
           7.7,
           7.7,
           7.7,
           7.7,
           7.7,
           7.7,
           7.7,
           7.7,
           7.7,
           7.7,
           7.7,
           7.7,
           7.7,
           7.7,
           7.7,
           7.6,
           7.6,
           7.6,
           7.6,
           7.6,
           7.6,
           7.6,
           7.6,
           7.6,
           7.6,
           7.6,
           7.6,
           7.6,
           7.6,
           7.6,
           7.6,
           7.6,
           7.6,
           7.6,
           7.6,
           7.6,
           7.6,
           7.6,
           7.6,
           7.6,
           7.6,
           7.5,
           7.5,
           7.5,
           7.5,
           7.5,
           7.5,
           7.5,
           7.5,
           7.5,
           7.5,
           7.5,
           7.5,
           7.5,
           7.5,
           7.5,
           7.5,
           7.5,
           7.5,
           7.5,
           7.5,
           7.5,
           7.5,
           7.5,
           7.5,
           7.5,
           7.5,
           7.5,
           7.5,
           7.5,
           7.5,
           7.5,
           7.5,
           7.5,
           7.5,
           7.4,
           7.4,
           7.4,
           7.4,
           7.4,
           7.4,
           7.4,
           7.4,
           7.4,
           7.4,
           7.4,
           7.4,
           7.4,
           7.4,
           7.4,
           7.4,
           7.4,
           7.4,
           7.4,
           7.4,
           7.4,
           7.4,
           7.4,
           7.4,
           7.4,
           7.4,
           7.4,
           7.4,
           7.4,
           7.3
          ],
          "coloraxis": "coloraxis",
          "size": [
           9,
           8.8,
           8.6,
           8.6,
           8.6,
           8.5,
           8.5,
           8.5,
           8.5,
           8.5,
           8.5,
           8.4,
           8.4,
           8.4,
           8.3,
           8.3,
           8.3,
           8.3,
           8.3,
           8.3,
           8.2,
           8.2,
           8.2,
           8.2,
           8.2,
           8.2,
           8.2,
           8.2,
           8.2,
           8.1,
           8.1,
           8.1,
           8.1,
           8.1,
           8.1,
           8.1,
           8.1,
           8.1,
           8.1,
           8.1,
           8.1,
           8.1,
           8.1,
           8.1,
           8.1,
           8.1,
           8.1,
           8.1,
           8.1,
           8.1,
           8.1,
           8.1,
           8.1,
           8.1,
           8,
           8,
           8,
           8,
           8,
           8,
           8,
           8,
           8,
           8,
           8,
           8,
           8,
           8,
           8,
           8,
           8,
           8,
           8,
           7.9,
           7.9,
           7.9,
           7.9,
           7.9,
           7.9,
           7.9,
           7.9,
           7.9,
           7.9,
           7.9,
           7.9,
           7.9,
           7.9,
           7.9,
           7.9,
           7.9,
           7.9,
           7.9,
           7.9,
           7.9,
           7.9,
           7.8,
           7.8,
           7.8,
           7.8,
           7.8,
           7.8,
           7.8,
           7.8,
           7.8,
           7.8,
           7.8,
           7.8,
           7.8,
           7.8,
           7.8,
           7.8,
           7.8,
           7.8,
           7.8,
           7.8,
           7.8,
           7.8,
           7.8,
           7.8,
           7.8,
           7.8,
           7.8,
           7.8,
           7.8,
           7.8,
           7.8,
           7.8,
           7.8,
           7.8,
           7.8,
           7.8,
           7.8,
           7.8,
           7.8,
           7.7,
           7.7,
           7.7,
           7.7,
           7.7,
           7.7,
           7.7,
           7.7,
           7.7,
           7.7,
           7.7,
           7.7,
           7.7,
           7.7,
           7.7,
           7.7,
           7.7,
           7.7,
           7.7,
           7.7,
           7.7,
           7.7,
           7.7,
           7.7,
           7.7,
           7.7,
           7.6,
           7.6,
           7.6,
           7.6,
           7.6,
           7.6,
           7.6,
           7.6,
           7.6,
           7.6,
           7.6,
           7.6,
           7.6,
           7.6,
           7.6,
           7.6,
           7.6,
           7.6,
           7.6,
           7.6,
           7.6,
           7.6,
           7.6,
           7.6,
           7.6,
           7.6,
           7.5,
           7.5,
           7.5,
           7.5,
           7.5,
           7.5,
           7.5,
           7.5,
           7.5,
           7.5,
           7.5,
           7.5,
           7.5,
           7.5,
           7.5,
           7.5,
           7.5,
           7.5,
           7.5,
           7.5,
           7.5,
           7.5,
           7.5,
           7.5,
           7.5,
           7.5,
           7.5,
           7.5,
           7.5,
           7.5,
           7.5,
           7.5,
           7.5,
           7.5,
           7.4,
           7.4,
           7.4,
           7.4,
           7.4,
           7.4,
           7.4,
           7.4,
           7.4,
           7.4,
           7.4,
           7.4,
           7.4,
           7.4,
           7.4,
           7.4,
           7.4,
           7.4,
           7.4,
           7.4,
           7.4,
           7.4,
           7.4,
           7.4,
           7.4,
           7.4,
           7.4,
           7.4,
           7.4,
           7.3
          ],
          "sizemode": "diameter",
          "sizeref": 0.5,
          "symbol": "circle"
         },
         "mode": "markers",
         "name": "",
         "orientation": "v",
         "showlegend": false,
         "type": "scatter",
         "x": [
          "The Dark Knight",
          "Inception",
          "Interstellar",
          "The Intouchables",
          "Kimi no na wa",
          "Whiplash",
          "The Departed",
          "The Dark Knight Rises",
          "The Lives of Others",
          "Taare Zameen Par",
          "The Prestige",
          "Koe no katachi",
          "Django Unchained",
          "3 Idiots",
          "Jagten",
          "La La Land",
          "Inglourious Basterds",
          "Toy Story 3",
          "Paint It Black",
          "Up",
          "PK",
          "The Wolf of Wall Street",
          "Hacksaw Ridge",
          "Incendies",
          "Pan's Labyrinth",
          "Inside Out",
          "El secreto de sus ojos",
          "Warrior",
          "Room",
          "The Imitation Game",
          "Star Wars: Episode VII - The Force Awakens",
          "Lion",
          "How to Train Your Dragon",
          "Mad Max: Fury Road",
          "The Bourne Ultimatum",
          "Mommy",
          "Relatos salvajes",
          "Rush",
          "Hachi: A Dog's Tale",
          "There Will Be Blood",
          "The Grand Budapest Hotel",
          "The Help",
          "Spotlight",
          "Shutter Island",
          "No Country for Old Men",
          "Into the Wild",
          "Guardians of the Galaxy",
          "Zootopia",
          "12 Years a Slave",
          "The Avengers",
          "Harry Potter and the Deathly Hallows: Part 2",
          "Ah-ga-ssi",
          "Gone Girl",
          "Prisoners",
          "Star Trek",
          "The Perks of Being a Wallflower",
          "The King's Speech",
          "Deadpool",
          "The Martian",
          "District 9",
          "The Revenant",
          "Arrival",
          "X-Men: Days of Future Past",
          "Blood Diamond",
          "Dallas Buyers Club",
          "Slumdog Millionaire",
          "Her",
          "Black Swan",
          "Forushande",
          "Casino Royale",
          "Sing Street",
          "The Pursuit of Happyness",
          "Ratatouille",
          "Children of Men",
          "The Hobbit: An Unexpected Journey",
          "In Bruges",
          "How to Train Your Dragon 2",
          "Hunt for the Wilderpeople",
          "Moon",
          "Captain Fantastic",
          "Straight Outta Compton",
          "The Fall",
          "Hot Fuzz",
          "Manchester by the Sea",
          "Life of Pi",
          "Edge of Tomorrow",
          "Captain America: Civil War",
          "Mr. Nobody",
          "Nightcrawler",
          "Rogue One",
          "Kubo and the Two Strings",
          "The Hobbit: The Desolation of Smaug",
          "Iron Man",
          "I, Daniel Blake",
          "Boyhood",
          "Dear Zindagi",
          "X: First Class",
          "Skyfall",
          "Star Trek Into Darkness",
          "Hidden Figures",
          "Little Miss Sunshine",
          "About Time",
          "The Hateful Eight",
          "Avatar",
          "Lucky Number Slevin",
          "The Fault in Our Stars",
          "Moonrise Kingdom",
          "Taken",
          "Tangled",
          "Maudie",
          "Drive",
          "The Fighter",
          "Changeling",
          "La migliore offerta",
          "Fantastic Mr. Fox",
          "The Lego Movie",
          "Gravity",
          "The Boy in the Striped Pyjamas",
          "La vie d'Adèle",
          "Me and Earl and the Dying Girl",
          "Birdman or (The Unexpected Virtue of Ignorance)",
          "The Girl with the Dragon Tattoo",
          "Big Hero 6",
          "The Hangover",
          "Captain America: The Winter Soldier",
          "Silver Linings Playbook",
          "Wreck-It Ralph",
          "Ma vie de Courgette",
          "Apocalypto",
          "Captain Phillips",
          "American Gangster",
          "The Big Short",
          "Män som hatar kvinnor",
          "The Curious Case of Benjamin Button",
          "(500) Days of Summer",
          "Hell or High Water",
          "Argo",
          "Eastern Promises",
          "En man som heter Ove",
          "The Theory of Everything",
          "Despicable Me",
          "300",
          "The Social Network",
          "Seven Pounds",
          "Kingsman: The Secret Service",
          "Midnight in Paris",
          "Harry Potter and the Deathly Hallows: Part 1",
          "Stardust",
          "50/50",
          "Mr. Church",
          "The Blind Side",
          "Ex Machina",
          "Kick-Ass",
          "Zodiac",
          "Coraline",
          "End of Watch",
          "Moana",
          "Zombieland",
          "Perfetti sconosciuti",
          "Gone Baby Gone",
          "Superbad",
          "Les Misérables",
          "The Skin I Live In",
          "Sicario",
          "Doctor Strange",
          "Dawn of the Planet of the Apes",
          "Watchmen",
          "The Hurt Locker",
          "Hunger",
          "La tortue rouge",
          "The Illusionist",
          "Sherlock Holmes",
          "Kung Fu Panda",
          "Creed",
          "Moneyball",
          "The Hunger Games: Catching Fire",
          "Toni Erdmann",
          "Fury",
          "The imposible",
          "The Town",
          "127 Hours",
          "True Grit",
          "Inside Man",
          "Rise of the Planet of the Apes",
          "Bridge of Spies",
          "What We Do in the Shadows",
          "The Jungle Book",
          "Moonlight",
          "Busanhaeng",
          "Bacalaureat",
          "Lone Survivor",
          "Hugo",
          "Babel",
          "Harry Potter and the Half-Blood Prince",
          "Raw (II)",
          "Nocturnal Animals",
          "42",
          "Sherlock Holmes: A Game of Shadows",
          "Sully",
          "We Need to Talk About Kevin",
          "Frozen",
          "Paterson",
          "Predestination",
          "Frantz",
          "The Conjuring",
          "Saving Mr. Banks",
          "A Monster Calls",
          "Source Code",
          "Juno",
          "August Rush",
          "Freedom Writers",
          "Wakefield",
          "Harry Potter and the Order of the Phoenix",
          "The Assassination of Jesse James by the Coward Robert Ford",
          "Brooklyn",
          "Scott Pilgrim vs. the World",
          "Fantastic Beasts and Where to Find Them",
          "Goksung",
          "Perfume: The Story of a Murderer",
          "Cloud Atlas",
          "Avengers: Age of Ultron",
          "Jane Eyre",
          "The Accountant",
          "Eddie the Eagle",
          "Law Abiding Citizen",
          "Crazy, Stupid, Love.",
          "Patriots Day",
          "Queen of Katwe",
          "The Conjuring 2",
          "Me Before You",
          "Mission: Impossible - Rogue Nation",
          "Blue Valentine",
          "Finding Dory",
          "The Nice Guys",
          "20th Century Women",
          "Begin Again",
          "The Edge of Seventeen",
          "Despicable Me 2",
          "Sweeney Todd: The Demon Barber of Fleet Street",
          "The Hobbit: The Battle of the Five Armies",
          "Lincoln",
          "The Judge",
          "Zero Dark Thirty",
          "Across the Universe",
          "A Street Cat Named Bob",
          "Southpaw",
          "Limitless",
          "Mission: Impossible - Ghost Protocol",
          "Looper",
          "I Origins"
         ],
         "xaxis": "x",
         "y": [
          533.32,
          292.57,
          187.99,
          13.18,
          4.68,
          13.09,
          132.37,
          448.13,
          11.28,
          1.2,
          53.08,
          82.95637614678897,
          162.8,
          6.52,
          0.61,
          151.06,
          120.52,
          414.98,
          82.95637614678897,
          292.98,
          10.57,
          116.87,
          67.12,
          6.86,
          37.62,
          356.45,
          20.17,
          13.65,
          14.68,
          91.12,
          936.63,
          51.69,
          217.39,
          153.63,
          227.14,
          3.49,
          3.08,
          26.9,
          82.95637614678897,
          40.22,
          59.07,
          169.71,
          44.99,
          127.97,
          74.27,
          18.35,
          333.13,
          341.26,
          56.67,
          623.28,
          380.96,
          2.01,
          167.74,
          60.96,
          257.7,
          17.74,
          138.8,
          363.02,
          228.43,
          115.65,
          183.64,
          100.5,
          233.91,
          57.37,
          27.3,
          141.32,
          25.56,
          106.95,
          3.4,
          167.01,
          3.23,
          162.59,
          206.44,
          35.29,
          303,
          7.76,
          177,
          5.2,
          5.01,
          5.88,
          161.03,
          2.28,
          23.62,
          47.7,
          124.98,
          100.19,
          408.08,
          82.95637614678897,
          32.28,
          532.17,
          48.02,
          258.36,
          318.3,
          82.95637614678897,
          25.36,
          1.4,
          146.41,
          304.36,
          228.76,
          169.27,
          59.89,
          15.29,
          54.12,
          760.51,
          22.49,
          124.87,
          45.51,
          145,
          200.81,
          82.95637614678897,
          35.05,
          93.57,
          35.71,
          0.09,
          21,
          257.76,
          274.08,
          9.03,
          2.2,
          6.74,
          42.34,
          102.52,
          222.49,
          277.31,
          259.75,
          132.09,
          189.41,
          0.29,
          50.86,
          107.1,
          130.13,
          70.24,
          10.1,
          127.49,
          32.39,
          26.86,
          136.02,
          17.11,
          3.36,
          35.89,
          251.5,
          210.59,
          96.92,
          69.95,
          128.25,
          56.82,
          294.98,
          38.35,
          34.96,
          0.69,
          255.95,
          25.44,
          48.04,
          33.05,
          75.28,
          40.98,
          248.75,
          75.59,
          82.95637614678897,
          20.3,
          121.46,
          148.78,
          3.19,
          46.88,
          232.6,
          208.54,
          107.5,
          15.7,
          0.15,
          0.92,
          39.83,
          209.02,
          215.4,
          109.71,
          75.61,
          424.65,
          1.48,
          85.71,
          19,
          92.17,
          18.33,
          171.03,
          88.5,
          176.74,
          72.31,
          3.33,
          364,
          27.85,
          2.13,
          0.13,
          125.07,
          73.82,
          34.3,
          301.96,
          0.51,
          10.64,
          95,
          186.83,
          125.07,
          1.74,
          400.74,
          2.14,
          82.95637614678897,
          0.86,
          137.39,
          83.3,
          3.73,
          54.7,
          143.49,
          31.66,
          36.58,
          0.01,
          292,
          3.9,
          38.32,
          31.49,
          234.02,
          0.79,
          2.21,
          27.1,
          458.99,
          11.23,
          86.2,
          15.79,
          73.34,
          84.24,
          31.86,
          8.81,
          102.46,
          56.23,
          195,
          9.7,
          486.29,
          36.25,
          5.66,
          16.17,
          14.26,
          368.05,
          52.88,
          255.11,
          182.2,
          47.11,
          95.72,
          24.34,
          0.04,
          52.42,
          79.24,
          209.36,
          66.47,
          0.33
         ],
         "yaxis": "y"
        }
       ],
       "layout": {
        "coloraxis": {
         "colorbar": {
          "title": {
           "text": "rating"
          }
         },
         "colorscale": [
          [
           0,
           "#0d0887"
          ],
          [
           0.1111111111111111,
           "#46039f"
          ],
          [
           0.2222222222222222,
           "#7201a8"
          ],
          [
           0.3333333333333333,
           "#9c179e"
          ],
          [
           0.4444444444444444,
           "#bd3786"
          ],
          [
           0.5555555555555556,
           "#d8576b"
          ],
          [
           0.6666666666666666,
           "#ed7953"
          ],
          [
           0.7777777777777778,
           "#fb9f3a"
          ],
          [
           0.8888888888888888,
           "#fdca26"
          ],
          [
           1,
           "#f0f921"
          ]
         ]
        },
        "height": 800,
        "legend": {
         "itemsizing": "constant",
         "tracegroupgap": 0
        },
        "margin": {
         "t": 60
        },
        "template": {
         "data": {
          "bar": [
           {
            "error_x": {
             "color": "#2a3f5f"
            },
            "error_y": {
             "color": "#2a3f5f"
            },
            "marker": {
             "line": {
              "color": "#E5ECF6",
              "width": 0.5
             },
             "pattern": {
              "fillmode": "overlay",
              "size": 10,
              "solidity": 0.2
             }
            },
            "type": "bar"
           }
          ],
          "barpolar": [
           {
            "marker": {
             "line": {
              "color": "#E5ECF6",
              "width": 0.5
             },
             "pattern": {
              "fillmode": "overlay",
              "size": 10,
              "solidity": 0.2
             }
            },
            "type": "barpolar"
           }
          ],
          "carpet": [
           {
            "aaxis": {
             "endlinecolor": "#2a3f5f",
             "gridcolor": "white",
             "linecolor": "white",
             "minorgridcolor": "white",
             "startlinecolor": "#2a3f5f"
            },
            "baxis": {
             "endlinecolor": "#2a3f5f",
             "gridcolor": "white",
             "linecolor": "white",
             "minorgridcolor": "white",
             "startlinecolor": "#2a3f5f"
            },
            "type": "carpet"
           }
          ],
          "choropleth": [
           {
            "colorbar": {
             "outlinewidth": 0,
             "ticks": ""
            },
            "type": "choropleth"
           }
          ],
          "contour": [
           {
            "colorbar": {
             "outlinewidth": 0,
             "ticks": ""
            },
            "colorscale": [
             [
              0,
              "#0d0887"
             ],
             [
              0.1111111111111111,
              "#46039f"
             ],
             [
              0.2222222222222222,
              "#7201a8"
             ],
             [
              0.3333333333333333,
              "#9c179e"
             ],
             [
              0.4444444444444444,
              "#bd3786"
             ],
             [
              0.5555555555555556,
              "#d8576b"
             ],
             [
              0.6666666666666666,
              "#ed7953"
             ],
             [
              0.7777777777777778,
              "#fb9f3a"
             ],
             [
              0.8888888888888888,
              "#fdca26"
             ],
             [
              1,
              "#f0f921"
             ]
            ],
            "type": "contour"
           }
          ],
          "contourcarpet": [
           {
            "colorbar": {
             "outlinewidth": 0,
             "ticks": ""
            },
            "type": "contourcarpet"
           }
          ],
          "heatmap": [
           {
            "colorbar": {
             "outlinewidth": 0,
             "ticks": ""
            },
            "colorscale": [
             [
              0,
              "#0d0887"
             ],
             [
              0.1111111111111111,
              "#46039f"
             ],
             [
              0.2222222222222222,
              "#7201a8"
             ],
             [
              0.3333333333333333,
              "#9c179e"
             ],
             [
              0.4444444444444444,
              "#bd3786"
             ],
             [
              0.5555555555555556,
              "#d8576b"
             ],
             [
              0.6666666666666666,
              "#ed7953"
             ],
             [
              0.7777777777777778,
              "#fb9f3a"
             ],
             [
              0.8888888888888888,
              "#fdca26"
             ],
             [
              1,
              "#f0f921"
             ]
            ],
            "type": "heatmap"
           }
          ],
          "heatmapgl": [
           {
            "colorbar": {
             "outlinewidth": 0,
             "ticks": ""
            },
            "colorscale": [
             [
              0,
              "#0d0887"
             ],
             [
              0.1111111111111111,
              "#46039f"
             ],
             [
              0.2222222222222222,
              "#7201a8"
             ],
             [
              0.3333333333333333,
              "#9c179e"
             ],
             [
              0.4444444444444444,
              "#bd3786"
             ],
             [
              0.5555555555555556,
              "#d8576b"
             ],
             [
              0.6666666666666666,
              "#ed7953"
             ],
             [
              0.7777777777777778,
              "#fb9f3a"
             ],
             [
              0.8888888888888888,
              "#fdca26"
             ],
             [
              1,
              "#f0f921"
             ]
            ],
            "type": "heatmapgl"
           }
          ],
          "histogram": [
           {
            "marker": {
             "pattern": {
              "fillmode": "overlay",
              "size": 10,
              "solidity": 0.2
             }
            },
            "type": "histogram"
           }
          ],
          "histogram2d": [
           {
            "colorbar": {
             "outlinewidth": 0,
             "ticks": ""
            },
            "colorscale": [
             [
              0,
              "#0d0887"
             ],
             [
              0.1111111111111111,
              "#46039f"
             ],
             [
              0.2222222222222222,
              "#7201a8"
             ],
             [
              0.3333333333333333,
              "#9c179e"
             ],
             [
              0.4444444444444444,
              "#bd3786"
             ],
             [
              0.5555555555555556,
              "#d8576b"
             ],
             [
              0.6666666666666666,
              "#ed7953"
             ],
             [
              0.7777777777777778,
              "#fb9f3a"
             ],
             [
              0.8888888888888888,
              "#fdca26"
             ],
             [
              1,
              "#f0f921"
             ]
            ],
            "type": "histogram2d"
           }
          ],
          "histogram2dcontour": [
           {
            "colorbar": {
             "outlinewidth": 0,
             "ticks": ""
            },
            "colorscale": [
             [
              0,
              "#0d0887"
             ],
             [
              0.1111111111111111,
              "#46039f"
             ],
             [
              0.2222222222222222,
              "#7201a8"
             ],
             [
              0.3333333333333333,
              "#9c179e"
             ],
             [
              0.4444444444444444,
              "#bd3786"
             ],
             [
              0.5555555555555556,
              "#d8576b"
             ],
             [
              0.6666666666666666,
              "#ed7953"
             ],
             [
              0.7777777777777778,
              "#fb9f3a"
             ],
             [
              0.8888888888888888,
              "#fdca26"
             ],
             [
              1,
              "#f0f921"
             ]
            ],
            "type": "histogram2dcontour"
           }
          ],
          "mesh3d": [
           {
            "colorbar": {
             "outlinewidth": 0,
             "ticks": ""
            },
            "type": "mesh3d"
           }
          ],
          "parcoords": [
           {
            "line": {
             "colorbar": {
              "outlinewidth": 0,
              "ticks": ""
             }
            },
            "type": "parcoords"
           }
          ],
          "pie": [
           {
            "automargin": true,
            "type": "pie"
           }
          ],
          "scatter": [
           {
            "fillpattern": {
             "fillmode": "overlay",
             "size": 10,
             "solidity": 0.2
            },
            "type": "scatter"
           }
          ],
          "scatter3d": [
           {
            "line": {
             "colorbar": {
              "outlinewidth": 0,
              "ticks": ""
             }
            },
            "marker": {
             "colorbar": {
              "outlinewidth": 0,
              "ticks": ""
             }
            },
            "type": "scatter3d"
           }
          ],
          "scattercarpet": [
           {
            "marker": {
             "colorbar": {
              "outlinewidth": 0,
              "ticks": ""
             }
            },
            "type": "scattercarpet"
           }
          ],
          "scattergeo": [
           {
            "marker": {
             "colorbar": {
              "outlinewidth": 0,
              "ticks": ""
             }
            },
            "type": "scattergeo"
           }
          ],
          "scattergl": [
           {
            "marker": {
             "colorbar": {
              "outlinewidth": 0,
              "ticks": ""
             }
            },
            "type": "scattergl"
           }
          ],
          "scattermapbox": [
           {
            "marker": {
             "colorbar": {
              "outlinewidth": 0,
              "ticks": ""
             }
            },
            "type": "scattermapbox"
           }
          ],
          "scatterpolar": [
           {
            "marker": {
             "colorbar": {
              "outlinewidth": 0,
              "ticks": ""
             }
            },
            "type": "scatterpolar"
           }
          ],
          "scatterpolargl": [
           {
            "marker": {
             "colorbar": {
              "outlinewidth": 0,
              "ticks": ""
             }
            },
            "type": "scatterpolargl"
           }
          ],
          "scatterternary": [
           {
            "marker": {
             "colorbar": {
              "outlinewidth": 0,
              "ticks": ""
             }
            },
            "type": "scatterternary"
           }
          ],
          "surface": [
           {
            "colorbar": {
             "outlinewidth": 0,
             "ticks": ""
            },
            "colorscale": [
             [
              0,
              "#0d0887"
             ],
             [
              0.1111111111111111,
              "#46039f"
             ],
             [
              0.2222222222222222,
              "#7201a8"
             ],
             [
              0.3333333333333333,
              "#9c179e"
             ],
             [
              0.4444444444444444,
              "#bd3786"
             ],
             [
              0.5555555555555556,
              "#d8576b"
             ],
             [
              0.6666666666666666,
              "#ed7953"
             ],
             [
              0.7777777777777778,
              "#fb9f3a"
             ],
             [
              0.8888888888888888,
              "#fdca26"
             ],
             [
              1,
              "#f0f921"
             ]
            ],
            "type": "surface"
           }
          ],
          "table": [
           {
            "cells": {
             "fill": {
              "color": "#EBF0F8"
             },
             "line": {
              "color": "white"
             }
            },
            "header": {
             "fill": {
              "color": "#C8D4E3"
             },
             "line": {
              "color": "white"
             }
            },
            "type": "table"
           }
          ]
         },
         "layout": {
          "annotationdefaults": {
           "arrowcolor": "#2a3f5f",
           "arrowhead": 0,
           "arrowwidth": 1
          },
          "autotypenumbers": "strict",
          "coloraxis": {
           "colorbar": {
            "outlinewidth": 0,
            "ticks": ""
           }
          },
          "colorscale": {
           "diverging": [
            [
             0,
             "#8e0152"
            ],
            [
             0.1,
             "#c51b7d"
            ],
            [
             0.2,
             "#de77ae"
            ],
            [
             0.3,
             "#f1b6da"
            ],
            [
             0.4,
             "#fde0ef"
            ],
            [
             0.5,
             "#f7f7f7"
            ],
            [
             0.6,
             "#e6f5d0"
            ],
            [
             0.7,
             "#b8e186"
            ],
            [
             0.8,
             "#7fbc41"
            ],
            [
             0.9,
             "#4d9221"
            ],
            [
             1,
             "#276419"
            ]
           ],
           "sequential": [
            [
             0,
             "#0d0887"
            ],
            [
             0.1111111111111111,
             "#46039f"
            ],
            [
             0.2222222222222222,
             "#7201a8"
            ],
            [
             0.3333333333333333,
             "#9c179e"
            ],
            [
             0.4444444444444444,
             "#bd3786"
            ],
            [
             0.5555555555555556,
             "#d8576b"
            ],
            [
             0.6666666666666666,
             "#ed7953"
            ],
            [
             0.7777777777777778,
             "#fb9f3a"
            ],
            [
             0.8888888888888888,
             "#fdca26"
            ],
            [
             1,
             "#f0f921"
            ]
           ],
           "sequentialminus": [
            [
             0,
             "#0d0887"
            ],
            [
             0.1111111111111111,
             "#46039f"
            ],
            [
             0.2222222222222222,
             "#7201a8"
            ],
            [
             0.3333333333333333,
             "#9c179e"
            ],
            [
             0.4444444444444444,
             "#bd3786"
            ],
            [
             0.5555555555555556,
             "#d8576b"
            ],
            [
             0.6666666666666666,
             "#ed7953"
            ],
            [
             0.7777777777777778,
             "#fb9f3a"
            ],
            [
             0.8888888888888888,
             "#fdca26"
            ],
            [
             1,
             "#f0f921"
            ]
           ]
          },
          "colorway": [
           "#636efa",
           "#EF553B",
           "#00cc96",
           "#ab63fa",
           "#FFA15A",
           "#19d3f3",
           "#FF6692",
           "#B6E880",
           "#FF97FF",
           "#FECB52"
          ],
          "font": {
           "color": "#2a3f5f"
          },
          "geo": {
           "bgcolor": "white",
           "lakecolor": "white",
           "landcolor": "#E5ECF6",
           "showlakes": true,
           "showland": true,
           "subunitcolor": "white"
          },
          "hoverlabel": {
           "align": "left"
          },
          "hovermode": "closest",
          "mapbox": {
           "style": "light"
          },
          "paper_bgcolor": "white",
          "plot_bgcolor": "#E5ECF6",
          "polar": {
           "angularaxis": {
            "gridcolor": "white",
            "linecolor": "white",
            "ticks": ""
           },
           "bgcolor": "#E5ECF6",
           "radialaxis": {
            "gridcolor": "white",
            "linecolor": "white",
            "ticks": ""
           }
          },
          "scene": {
           "xaxis": {
            "backgroundcolor": "#E5ECF6",
            "gridcolor": "white",
            "gridwidth": 2,
            "linecolor": "white",
            "showbackground": true,
            "ticks": "",
            "zerolinecolor": "white"
           },
           "yaxis": {
            "backgroundcolor": "#E5ECF6",
            "gridcolor": "white",
            "gridwidth": 2,
            "linecolor": "white",
            "showbackground": true,
            "ticks": "",
            "zerolinecolor": "white"
           },
           "zaxis": {
            "backgroundcolor": "#E5ECF6",
            "gridcolor": "white",
            "gridwidth": 2,
            "linecolor": "white",
            "showbackground": true,
            "ticks": "",
            "zerolinecolor": "white"
           }
          },
          "shapedefaults": {
           "line": {
            "color": "#2a3f5f"
           }
          },
          "ternary": {
           "aaxis": {
            "gridcolor": "white",
            "linecolor": "white",
            "ticks": ""
           },
           "baxis": {
            "gridcolor": "white",
            "linecolor": "white",
            "ticks": ""
           },
           "bgcolor": "#E5ECF6",
           "caxis": {
            "gridcolor": "white",
            "linecolor": "white",
            "ticks": ""
           }
          },
          "title": {
           "x": 0.05
          },
          "xaxis": {
           "automargin": true,
           "gridcolor": "white",
           "linecolor": "white",
           "ticks": "",
           "title": {
            "standoff": 15
           },
           "zerolinecolor": "white",
           "zerolinewidth": 2
          },
          "yaxis": {
           "automargin": true,
           "gridcolor": "white",
           "linecolor": "white",
           "ticks": "",
           "title": {
            "standoff": 15
           },
           "zerolinecolor": "white",
           "zerolinewidth": 2
          }
         }
        },
        "title": {
         "text": "Popüler 250 Filmin Rating Puanlarına Göre Hasılatı",
         "x": 0.5
        },
        "width": 1000,
        "xaxis": {
         "anchor": "y",
         "domain": [
          0,
          1
         ],
         "tickangle": -45,
         "title": {
          "text": "Title"
         }
        },
        "yaxis": {
         "anchor": "x",
         "domain": [
          0,
          1
         ],
         "dtick": 50,
         "range": [
          -10,
          500
         ],
         "title": {
          "text": "Gelir (Milyon)"
         }
        }
       }
      }
     },
     "metadata": {},
     "output_type": "display_data"
    }
   ],
   "source": [
    "# Rating puanlarına göre filmleri sıralama\n",
    "df = top250.sort_values(\"rating\", ascending=False)\n",
    "\n",
    "# Plotly kullanarak görselleştirme\n",
    "fig = px.scatter(df, x=df.index, y=\"revenue\", size=\"rating\", color=\"rating\")\n",
    "fig.update_layout(title=\"Popüler 250 Filmin Rating Puanlarına Göre Hasılatı\", height=800, width=1000, title_x = 0.5, xaxis_tickangle=-45)\n",
    "fig.update_yaxes(title=\"Gelir (Milyon)\", range=[-10, 500], dtick=50)\n",
    "fig.update_traces(mode='markers', marker=dict(sizemode='diameter', sizeref=0.5))\n",
    "fig.show()"
   ]
  },
  {
   "cell_type": "markdown",
   "id": "c67cef1b",
   "metadata": {},
   "source": [
    "## 10. Conclusion (Sonuçları sunma)"
   ]
  },
  {
   "cell_type": "markdown",
   "id": "df4cd133",
   "metadata": {},
   "source": [
    "# T E B R İ K L E R"
   ]
  },
  {
   "cell_type": "markdown",
   "id": "8a14e8b5",
   "metadata": {},
   "source": [
    "# <p style=\"background-color:green;font-family:newtimeroman;font-size:100%;color:white;text-align:center;border-radius:20px 20px;\"><b>Faydalı Olması Temennisiyle Teşekkürler</b></p>\n",
    "![](https://www.techproeducation.com/logo/headerlogo.svg)\n",
    "\n",
    "<b>Yeniliklerden ilk siz haberdar olmak istiyorsanız lütfen bizi takip etmeyi unutmayın </b>[YouTube](https://www.youtube.com/c/techproeducation) | [Instagram](https://www.instagram.com/techproeducation) | [Facebook](https://www.facebook.com/techproeducation) | [Telegram](https://t.me/joinchat/HH2qRvA-ulh4OWbb) | [Watsapp](https://api.whatsapp.com/send/?phone=%2B15853042959&text&type=phone_number&app_absent=0) | [Linkedin](https://www.linkedin.com/company/techproeducation/mycompany/) |"
   ]
  }
 ],
 "metadata": {
  "hide_input": false,
  "kernelspec": {
   "display_name": "Python 3 (ipykernel)",
   "language": "python",
   "name": "python3"
  },
  "language_info": {
   "codemirror_mode": {
    "name": "ipython",
    "version": 3
   },
   "file_extension": ".py",
   "mimetype": "text/x-python",
   "name": "python",
   "nbconvert_exporter": "python",
   "pygments_lexer": "ipython3",
   "version": "3.10.9"
  },
  "toc": {
   "base_numbering": 1,
   "nav_menu": {},
   "number_sections": true,
   "sideBar": true,
   "skip_h1_title": false,
   "title_cell": "Table of Contents",
   "title_sidebar": "Contents",
   "toc_cell": false,
   "toc_position": {},
   "toc_section_display": true,
   "toc_window_display": true
  }
 },
 "nbformat": 4,
 "nbformat_minor": 5
}
